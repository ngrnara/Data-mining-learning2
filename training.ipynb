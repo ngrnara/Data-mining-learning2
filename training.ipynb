{
 "cells": [
  {
   "cell_type": "markdown",
   "metadata": {},
   "source": [
    "PRA PEMROSESAN DATA"
   ]
  },
  {
   "cell_type": "markdown",
   "metadata": {},
   "source": [
    "1. Tentukan Library yang digunakan"
   ]
  },
  {
   "cell_type": "code",
   "execution_count": 66,
   "metadata": {},
   "outputs": [],
   "source": [
    "import numpy as np\n",
    "import matplotlib.pyplot as plt\n",
    "import pandas as pd\n",
    "import seaborn as sns\n",
    "from sklearn.impute import SimpleImputer"
   ]
  },
  {
   "cell_type": "markdown",
   "metadata": {},
   "source": [
    "2. Load Dataset"
   ]
  },
  {
   "cell_type": "code",
   "execution_count": 69,
   "metadata": {},
   "outputs": [
    {
     "data": {
      "text/html": [
       "<div>\n",
       "<style scoped>\n",
       "    .dataframe tbody tr th:only-of-type {\n",
       "        vertical-align: middle;\n",
       "    }\n",
       "\n",
       "    .dataframe tbody tr th {\n",
       "        vertical-align: top;\n",
       "    }\n",
       "\n",
       "    .dataframe thead th {\n",
       "        text-align: right;\n",
       "    }\n",
       "</style>\n",
       "<table border=\"1\" class=\"dataframe\">\n",
       "  <thead>\n",
       "    <tr style=\"text-align: right;\">\n",
       "      <th></th>\n",
       "      <th>NO</th>\n",
       "      <th>NAMA</th>\n",
       "      <th>USIA</th>\n",
       "      <th>PARITAS</th>\n",
       "      <th>JARAK KELAHIRAN</th>\n",
       "      <th>RIW HIPERTENSI</th>\n",
       "      <th>RIW PE</th>\n",
       "      <th>OBESITAS</th>\n",
       "      <th>RIW DM</th>\n",
       "      <th>RIW HIPERTENSI/PE DALAM KELUARGA</th>\n",
       "      <th>SOSEK RENDAH</th>\n",
       "      <th>PE/Non PE</th>\n",
       "      <th>Unnamed: 12</th>\n",
       "    </tr>\n",
       "  </thead>\n",
       "  <tbody>\n",
       "    <tr>\n",
       "      <th>0</th>\n",
       "      <td>1</td>\n",
       "      <td>NAMA 1</td>\n",
       "      <td>23 TH</td>\n",
       "      <td>3</td>\n",
       "      <td>&lt; 2 tahun</td>\n",
       "      <td>Tidak</td>\n",
       "      <td>Tidak</td>\n",
       "      <td>Tidak</td>\n",
       "      <td>Ya</td>\n",
       "      <td>Tidak</td>\n",
       "      <td>&gt;UMR</td>\n",
       "      <td>Non PE</td>\n",
       "      <td>NaN</td>\n",
       "    </tr>\n",
       "    <tr>\n",
       "      <th>1</th>\n",
       "      <td>2</td>\n",
       "      <td>NAMA 2</td>\n",
       "      <td>29 TH</td>\n",
       "      <td>2</td>\n",
       "      <td>&lt; 2 tahun</td>\n",
       "      <td>Tidak</td>\n",
       "      <td>PEB</td>\n",
       "      <td>Tidak</td>\n",
       "      <td>Tidak</td>\n",
       "      <td>Ada</td>\n",
       "      <td>&gt;UMR</td>\n",
       "      <td>PE</td>\n",
       "      <td>NaN</td>\n",
       "    </tr>\n",
       "    <tr>\n",
       "      <th>2</th>\n",
       "      <td>3</td>\n",
       "      <td>NAMA 3</td>\n",
       "      <td>20 TH</td>\n",
       "      <td>1</td>\n",
       "      <td>anak pertama</td>\n",
       "      <td>Tidak</td>\n",
       "      <td>Tidak</td>\n",
       "      <td>Tidak</td>\n",
       "      <td>Tidak</td>\n",
       "      <td>Tidak</td>\n",
       "      <td>&gt;UMR</td>\n",
       "      <td>Non PE</td>\n",
       "      <td>NaN</td>\n",
       "    </tr>\n",
       "    <tr>\n",
       "      <th>3</th>\n",
       "      <td>4</td>\n",
       "      <td>NAMA 4</td>\n",
       "      <td>18 TH</td>\n",
       "      <td>1</td>\n",
       "      <td>anak pertama</td>\n",
       "      <td>Tidak</td>\n",
       "      <td>Tidak</td>\n",
       "      <td>Tidak</td>\n",
       "      <td>Tidak</td>\n",
       "      <td>Tidak</td>\n",
       "      <td>&gt;UMR</td>\n",
       "      <td>Non PE</td>\n",
       "      <td>NaN</td>\n",
       "    </tr>\n",
       "    <tr>\n",
       "      <th>4</th>\n",
       "      <td>5</td>\n",
       "      <td>NAMA 5</td>\n",
       "      <td>34 TH</td>\n",
       "      <td>3</td>\n",
       "      <td>&gt; 2 tahun</td>\n",
       "      <td>Tidak</td>\n",
       "      <td>Tidak</td>\n",
       "      <td>Tidak</td>\n",
       "      <td>Tidak</td>\n",
       "      <td>Tidak</td>\n",
       "      <td>&gt;UMR</td>\n",
       "      <td>Non PE</td>\n",
       "      <td>NaN</td>\n",
       "    </tr>\n",
       "    <tr>\n",
       "      <th>...</th>\n",
       "      <td>...</td>\n",
       "      <td>...</td>\n",
       "      <td>...</td>\n",
       "      <td>...</td>\n",
       "      <td>...</td>\n",
       "      <td>...</td>\n",
       "      <td>...</td>\n",
       "      <td>...</td>\n",
       "      <td>...</td>\n",
       "      <td>...</td>\n",
       "      <td>...</td>\n",
       "      <td>...</td>\n",
       "      <td>...</td>\n",
       "    </tr>\n",
       "    <tr>\n",
       "      <th>556</th>\n",
       "      <td>558</td>\n",
       "      <td>NAMA 557</td>\n",
       "      <td>40 TH</td>\n",
       "      <td>3</td>\n",
       "      <td>&gt; 2 tahun</td>\n",
       "      <td>Tidak</td>\n",
       "      <td>Tidak</td>\n",
       "      <td>Tidak</td>\n",
       "      <td>Tidak</td>\n",
       "      <td>Tidak</td>\n",
       "      <td>&gt;UMR</td>\n",
       "      <td>Non PE</td>\n",
       "      <td>NaN</td>\n",
       "    </tr>\n",
       "    <tr>\n",
       "      <th>557</th>\n",
       "      <td>559</td>\n",
       "      <td>NAMA 558</td>\n",
       "      <td>28 TH</td>\n",
       "      <td>3</td>\n",
       "      <td>&lt; 2 tahun</td>\n",
       "      <td>Tidak</td>\n",
       "      <td>Tidak</td>\n",
       "      <td>Tidak</td>\n",
       "      <td>Tidak</td>\n",
       "      <td>Tidak</td>\n",
       "      <td>&gt;UMR</td>\n",
       "      <td>Non PE</td>\n",
       "      <td>NaN</td>\n",
       "    </tr>\n",
       "    <tr>\n",
       "      <th>558</th>\n",
       "      <td>560</td>\n",
       "      <td>NAMA 559</td>\n",
       "      <td>41 TH</td>\n",
       "      <td>3</td>\n",
       "      <td>&gt; 2 tahun</td>\n",
       "      <td>Tidak</td>\n",
       "      <td>Tidak</td>\n",
       "      <td>Tidak</td>\n",
       "      <td>Tidak</td>\n",
       "      <td>Tidak</td>\n",
       "      <td>&gt;UMR</td>\n",
       "      <td>Non PE</td>\n",
       "      <td>NaN</td>\n",
       "    </tr>\n",
       "    <tr>\n",
       "      <th>559</th>\n",
       "      <td>561</td>\n",
       "      <td>NAMA 560</td>\n",
       "      <td>32 TH</td>\n",
       "      <td>2</td>\n",
       "      <td>&gt; 2 tahun</td>\n",
       "      <td>Tidak</td>\n",
       "      <td>Tidak</td>\n",
       "      <td>Tidak</td>\n",
       "      <td>Tidak</td>\n",
       "      <td>Tidak</td>\n",
       "      <td>&gt;UMR</td>\n",
       "      <td>Non PE</td>\n",
       "      <td>NaN</td>\n",
       "    </tr>\n",
       "    <tr>\n",
       "      <th>560</th>\n",
       "      <td>562</td>\n",
       "      <td>NAMA 561</td>\n",
       "      <td>30 TH</td>\n",
       "      <td>2</td>\n",
       "      <td>&gt; 2 tahun</td>\n",
       "      <td>Tidak</td>\n",
       "      <td>Tidak</td>\n",
       "      <td>Tidak</td>\n",
       "      <td>Tidak</td>\n",
       "      <td>Tidak</td>\n",
       "      <td>&gt;UMR</td>\n",
       "      <td>Non PE</td>\n",
       "      <td>NaN</td>\n",
       "    </tr>\n",
       "  </tbody>\n",
       "</table>\n",
       "<p>561 rows × 13 columns</p>\n",
       "</div>"
      ],
      "text/plain": [
       "      NO      NAMA   USIA  PARITAS JARAK KELAHIRAN RIW HIPERTENSI RIW PE  \\\n",
       "0      1    NAMA 1  23 TH        3       < 2 tahun          Tidak  Tidak   \n",
       "1      2    NAMA 2  29 TH        2       < 2 tahun          Tidak    PEB   \n",
       "2      3    NAMA 3  20 TH        1    anak pertama          Tidak  Tidak   \n",
       "3      4    NAMA 4  18 TH        1    anak pertama          Tidak  Tidak   \n",
       "4      5    NAMA 5  34 TH        3      > 2 tahun           Tidak  Tidak   \n",
       "..   ...       ...    ...      ...             ...            ...    ...   \n",
       "556  558  NAMA 557  40 TH        3      > 2 tahun           Tidak  Tidak   \n",
       "557  559  NAMA 558  28 TH        3       < 2 tahun          Tidak  Tidak   \n",
       "558  560  NAMA 559  41 TH        3      > 2 tahun           Tidak  Tidak   \n",
       "559  561  NAMA 560  32 TH        2      > 2 tahun           Tidak  Tidak   \n",
       "560  562  NAMA 561  30 TH        2      > 2 tahun           Tidak  Tidak   \n",
       "\n",
       "    OBESITAS RIW DM RIW HIPERTENSI/PE DALAM KELUARGA SOSEK RENDAH PE/Non PE  \\\n",
       "0      Tidak     Ya                            Tidak         >UMR    Non PE   \n",
       "1      Tidak  Tidak                              Ada         >UMR        PE   \n",
       "2      Tidak  Tidak                            Tidak         >UMR    Non PE   \n",
       "3      Tidak  Tidak                            Tidak         >UMR    Non PE   \n",
       "4      Tidak  Tidak                            Tidak         >UMR    Non PE   \n",
       "..       ...    ...                              ...          ...       ...   \n",
       "556    Tidak  Tidak                            Tidak         >UMR    Non PE   \n",
       "557    Tidak  Tidak                            Tidak         >UMR    Non PE   \n",
       "558    Tidak  Tidak                            Tidak         >UMR    Non PE   \n",
       "559    Tidak  Tidak                            Tidak         >UMR    Non PE   \n",
       "560    Tidak  Tidak                            Tidak         >UMR    Non PE   \n",
       "\n",
       "    Unnamed: 12  \n",
       "0           NaN  \n",
       "1           NaN  \n",
       "2           NaN  \n",
       "3           NaN  \n",
       "4           NaN  \n",
       "..          ...  \n",
       "556         NaN  \n",
       "557         NaN  \n",
       "558         NaN  \n",
       "559         NaN  \n",
       "560         NaN  \n",
       "\n",
       "[561 rows x 13 columns]"
      ]
     },
     "execution_count": 69,
     "metadata": {},
     "output_type": "execute_result"
    }
   ],
   "source": [
    "datasets = pd.read_excel('dataKasus-1.xlsx')\n",
    "datasets"
   ]
  },
  {
   "cell_type": "markdown",
   "metadata": {},
   "source": [
    "Coba menampilkan 5 baris data"
   ]
  },
  {
   "cell_type": "code",
   "execution_count": 70,
   "metadata": {},
   "outputs": [
    {
     "data": {
      "text/html": [
       "<div>\n",
       "<style scoped>\n",
       "    .dataframe tbody tr th:only-of-type {\n",
       "        vertical-align: middle;\n",
       "    }\n",
       "\n",
       "    .dataframe tbody tr th {\n",
       "        vertical-align: top;\n",
       "    }\n",
       "\n",
       "    .dataframe thead th {\n",
       "        text-align: right;\n",
       "    }\n",
       "</style>\n",
       "<table border=\"1\" class=\"dataframe\">\n",
       "  <thead>\n",
       "    <tr style=\"text-align: right;\">\n",
       "      <th></th>\n",
       "      <th>NO</th>\n",
       "      <th>NAMA</th>\n",
       "      <th>USIA</th>\n",
       "      <th>PARITAS</th>\n",
       "      <th>JARAK KELAHIRAN</th>\n",
       "      <th>RIW HIPERTENSI</th>\n",
       "      <th>RIW PE</th>\n",
       "      <th>OBESITAS</th>\n",
       "      <th>RIW DM</th>\n",
       "      <th>RIW HIPERTENSI/PE DALAM KELUARGA</th>\n",
       "      <th>SOSEK RENDAH</th>\n",
       "      <th>PE/Non PE</th>\n",
       "      <th>Unnamed: 12</th>\n",
       "    </tr>\n",
       "  </thead>\n",
       "  <tbody>\n",
       "    <tr>\n",
       "      <th>0</th>\n",
       "      <td>1</td>\n",
       "      <td>NAMA 1</td>\n",
       "      <td>23 TH</td>\n",
       "      <td>3</td>\n",
       "      <td>&lt; 2 tahun</td>\n",
       "      <td>Tidak</td>\n",
       "      <td>Tidak</td>\n",
       "      <td>Tidak</td>\n",
       "      <td>Ya</td>\n",
       "      <td>Tidak</td>\n",
       "      <td>&gt;UMR</td>\n",
       "      <td>Non PE</td>\n",
       "      <td>NaN</td>\n",
       "    </tr>\n",
       "    <tr>\n",
       "      <th>1</th>\n",
       "      <td>2</td>\n",
       "      <td>NAMA 2</td>\n",
       "      <td>29 TH</td>\n",
       "      <td>2</td>\n",
       "      <td>&lt; 2 tahun</td>\n",
       "      <td>Tidak</td>\n",
       "      <td>PEB</td>\n",
       "      <td>Tidak</td>\n",
       "      <td>Tidak</td>\n",
       "      <td>Ada</td>\n",
       "      <td>&gt;UMR</td>\n",
       "      <td>PE</td>\n",
       "      <td>NaN</td>\n",
       "    </tr>\n",
       "    <tr>\n",
       "      <th>2</th>\n",
       "      <td>3</td>\n",
       "      <td>NAMA 3</td>\n",
       "      <td>20 TH</td>\n",
       "      <td>1</td>\n",
       "      <td>anak pertama</td>\n",
       "      <td>Tidak</td>\n",
       "      <td>Tidak</td>\n",
       "      <td>Tidak</td>\n",
       "      <td>Tidak</td>\n",
       "      <td>Tidak</td>\n",
       "      <td>&gt;UMR</td>\n",
       "      <td>Non PE</td>\n",
       "      <td>NaN</td>\n",
       "    </tr>\n",
       "    <tr>\n",
       "      <th>3</th>\n",
       "      <td>4</td>\n",
       "      <td>NAMA 4</td>\n",
       "      <td>18 TH</td>\n",
       "      <td>1</td>\n",
       "      <td>anak pertama</td>\n",
       "      <td>Tidak</td>\n",
       "      <td>Tidak</td>\n",
       "      <td>Tidak</td>\n",
       "      <td>Tidak</td>\n",
       "      <td>Tidak</td>\n",
       "      <td>&gt;UMR</td>\n",
       "      <td>Non PE</td>\n",
       "      <td>NaN</td>\n",
       "    </tr>\n",
       "    <tr>\n",
       "      <th>4</th>\n",
       "      <td>5</td>\n",
       "      <td>NAMA 5</td>\n",
       "      <td>34 TH</td>\n",
       "      <td>3</td>\n",
       "      <td>&gt; 2 tahun</td>\n",
       "      <td>Tidak</td>\n",
       "      <td>Tidak</td>\n",
       "      <td>Tidak</td>\n",
       "      <td>Tidak</td>\n",
       "      <td>Tidak</td>\n",
       "      <td>&gt;UMR</td>\n",
       "      <td>Non PE</td>\n",
       "      <td>NaN</td>\n",
       "    </tr>\n",
       "  </tbody>\n",
       "</table>\n",
       "</div>"
      ],
      "text/plain": [
       "   NO    NAMA   USIA  PARITAS JARAK KELAHIRAN RIW HIPERTENSI RIW PE OBESITAS  \\\n",
       "0   1  NAMA 1  23 TH        3       < 2 tahun          Tidak  Tidak    Tidak   \n",
       "1   2  NAMA 2  29 TH        2       < 2 tahun          Tidak    PEB    Tidak   \n",
       "2   3  NAMA 3  20 TH        1    anak pertama          Tidak  Tidak    Tidak   \n",
       "3   4  NAMA 4  18 TH        1    anak pertama          Tidak  Tidak    Tidak   \n",
       "4   5  NAMA 5  34 TH        3      > 2 tahun           Tidak  Tidak    Tidak   \n",
       "\n",
       "  RIW DM RIW HIPERTENSI/PE DALAM KELUARGA SOSEK RENDAH PE/Non PE Unnamed: 12  \n",
       "0     Ya                            Tidak         >UMR    Non PE         NaN  \n",
       "1  Tidak                              Ada         >UMR        PE         NaN  \n",
       "2  Tidak                            Tidak         >UMR    Non PE         NaN  \n",
       "3  Tidak                            Tidak         >UMR    Non PE         NaN  \n",
       "4  Tidak                            Tidak         >UMR    Non PE         NaN  "
      ]
     },
     "execution_count": 70,
     "metadata": {},
     "output_type": "execute_result"
    }
   ],
   "source": [
    "datasets.head()"
   ]
  },
  {
   "cell_type": "markdown",
   "metadata": {},
   "source": [
    "menghitung jumlah baris,coloumn (561,13)"
   ]
  },
  {
   "cell_type": "code",
   "execution_count": 71,
   "metadata": {},
   "outputs": [
    {
     "data": {
      "text/plain": [
       "(561, 13)"
      ]
     },
     "execution_count": 71,
     "metadata": {},
     "output_type": "execute_result"
    }
   ],
   "source": [
    "datasets.shape"
   ]
  },
  {
   "cell_type": "markdown",
   "metadata": {},
   "source": [
    "menghitung nilai yang ada di atribut PE/Non PE"
   ]
  },
  {
   "cell_type": "code",
   "execution_count": 72,
   "metadata": {},
   "outputs": [
    {
     "data": {
      "text/plain": [
       "PE/Non PE\n",
       "Non PE                    520\n",
       "PEB                        20\n",
       "PE                         17\n",
       "Eklamsia                    1\n",
       "PE gemelli                  1\n",
       "PEB impending eklampsi      1\n",
       "PE                          1\n",
       "Name: count, dtype: int64"
      ]
     },
     "execution_count": 72,
     "metadata": {},
     "output_type": "execute_result"
    }
   ],
   "source": [
    "datasets['PE/Non PE'].value_counts()"
   ]
  },
  {
   "cell_type": "markdown",
   "metadata": {},
   "source": [
    "menghilangkan coloumn unnamed"
   ]
  },
  {
   "cell_type": "code",
   "execution_count": 73,
   "metadata": {},
   "outputs": [],
   "source": [
    "datasets = datasets.drop(columns=['Unnamed: 12'])"
   ]
  },
  {
   "cell_type": "markdown",
   "metadata": {},
   "source": [
    "menghilangkan whitespace dari masing masing kolom"
   ]
  },
  {
   "cell_type": "markdown",
   "metadata": {},
   "source": [
    "dan memanggil list dari dataset yang tersedia beserta deskripsi, size dann informasi lain"
   ]
  },
  {
   "cell_type": "code",
   "execution_count": 74,
   "metadata": {},
   "outputs": [
    {
     "name": "stdout",
     "output_type": "stream",
     "text": [
      "<class 'pandas.core.frame.DataFrame'>\n",
      "RangeIndex: 561 entries, 0 to 560\n",
      "Data columns (total 12 columns):\n",
      " #   Column                            Non-Null Count  Dtype \n",
      "---  ------                            --------------  ----- \n",
      " 0   NO                                561 non-null    int64 \n",
      " 1   NAMA                              561 non-null    object\n",
      " 2   USIA                              558 non-null    object\n",
      " 3   PARITAS                           561 non-null    int64 \n",
      " 4   JARAK KELAHIRAN                   554 non-null    object\n",
      " 5   RIW HIPERTENSI                    561 non-null    object\n",
      " 6   RIW PE                            561 non-null    object\n",
      " 7   OBESITAS                          561 non-null    object\n",
      " 8   RIW DM                            561 non-null    object\n",
      " 9   RIW HIPERTENSI/PE DALAM KELUARGA  561 non-null    object\n",
      " 10  SOSEK RENDAH                      561 non-null    object\n",
      " 11  PE/Non PE                         561 non-null    object\n",
      "dtypes: int64(2), object(10)\n",
      "memory usage: 52.7+ KB\n"
     ]
    }
   ],
   "source": [
    "datasets.columns = datasets.columns.str.strip()\n",
    "datasets.info()"
   ]
  },
  {
   "cell_type": "markdown",
   "metadata": {},
   "source": [
    "memperlihatkan data yang ada value null atau kosong"
   ]
  },
  {
   "cell_type": "code",
   "execution_count": 75,
   "metadata": {},
   "outputs": [
    {
     "name": "stdout",
     "output_type": "stream",
     "text": [
      "NO                                  0\n",
      "NAMA                                0\n",
      "USIA                                3\n",
      "PARITAS                             0\n",
      "JARAK KELAHIRAN                     7\n",
      "RIW HIPERTENSI                      0\n",
      "RIW PE                              0\n",
      "OBESITAS                            0\n",
      "RIW DM                              0\n",
      "RIW HIPERTENSI/PE DALAM KELUARGA    0\n",
      "SOSEK RENDAH                        0\n",
      "PE/Non PE                           0\n",
      "dtype: int64\n"
     ]
    }
   ],
   "source": [
    "print(datasets.isnull().sum())"
   ]
  },
  {
   "cell_type": "markdown",
   "metadata": {},
   "source": [
    "convert semua value di kolom USIA ke string dan menghitung jumlah value di USIA termasuk NaN"
   ]
  },
  {
   "cell_type": "code",
   "execution_count": 85,
   "metadata": {},
   "outputs": [
    {
     "name": "stdout",
     "output_type": "stream",
     "text": [
      "USIA\n",
      "28.0                  41\n",
      "31.0                  41\n",
      "25.0                  35\n",
      "26.0                  35\n",
      "22.0                  35\n",
      "29.0                  34\n",
      "24.0                  33\n",
      "27.0                  27\n",
      "23.0                  25\n",
      "30.0                  25\n",
      "33.0                  23\n",
      "21.0                  21\n",
      "32.0                  20\n",
      "20.0                  20\n",
      "36.0                  18\n",
      "35.0                  17\n",
      "38.0                  15\n",
      "34.0                  14\n",
      "28.195612431444243    14\n",
      "41.0                  11\n",
      "39.0                  11\n",
      "19.0                  10\n",
      "37.0                   9\n",
      "40.0                   8\n",
      "18.0                   5\n",
      "17.0                   5\n",
      "15.0                   3\n",
      "43.0                   2\n",
      "16.0                   2\n",
      "13.0                   1\n",
      "14.0                   1\n",
      "Name: count, dtype: int64\n"
     ]
    }
   ],
   "source": [
    "# Mengubah data menjadi string dan menghitung nilai unik\n",
    "value_counts = datasets['USIA'].astype(str).value_counts(dropna=False)\n",
    "\n",
    "print(value_counts)"
   ]
  },
  {
   "cell_type": "markdown",
   "metadata": {},
   "source": [
    "Mengisi nilai NaN dengan string kosong"
   ]
  },
  {
   "cell_type": "code",
   "execution_count": 83,
   "metadata": {},
   "outputs": [],
   "source": [
    "datasets['USIA'] = datasets['USIA'].fillna('')"
   ]
  },
  {
   "cell_type": "markdown",
   "metadata": {},
   "source": [
    "cek tipe dataset usia"
   ]
  },
  {
   "cell_type": "code",
   "execution_count": 84,
   "metadata": {},
   "outputs": [
    {
     "name": "stdout",
     "output_type": "stream",
     "text": [
      "float64\n"
     ]
    }
   ],
   "source": [
    "print(datasets['USIA'].dtype)"
   ]
  },
  {
   "cell_type": "markdown",
   "metadata": {},
   "source": [
    "mengubah tipe data usia dari float ke object"
   ]
  },
  {
   "cell_type": "code",
   "execution_count": 86,
   "metadata": {},
   "outputs": [],
   "source": [
    "# Menghapus spasi ekstra dan mengambil angka\n",
    "\n",
    "\n",
    "# Mengonversi ke tipe data numerik\n",
    "datasets['USIA'] = pd.to_numeric(datasets['USIA'], errors='coerce')\n",
    "\n",
    "# Mengisi nilai NaN dengan rata-rata usia\n",
    "datasets['USIA'] = datasets['USIA'].fillna(datasets['USIA'].mean())"
   ]
  },
  {
   "cell_type": "markdown",
   "metadata": {},
   "source": [
    "cek kembali tipe dataset usia"
   ]
  },
  {
   "cell_type": "code",
   "execution_count": 88,
   "metadata": {},
   "outputs": [
    {
     "name": "stdout",
     "output_type": "stream",
     "text": [
      "float64\n"
     ]
    }
   ],
   "source": [
    "print(datasets['USIA'].dtype)"
   ]
  },
  {
   "cell_type": "markdown",
   "metadata": {},
   "source": [
    "Mengonversi ke tipe data numerik"
   ]
  },
  {
   "cell_type": "code",
   "execution_count": 89,
   "metadata": {},
   "outputs": [],
   "source": [
    "datasets['USIA'] = pd.to_numeric(datasets['USIA'], errors='coerce')"
   ]
  },
  {
   "cell_type": "markdown",
   "metadata": {},
   "source": [
    "mengubah tipe data dari object ke int"
   ]
  },
  {
   "cell_type": "code",
   "execution_count": 90,
   "metadata": {},
   "outputs": [
    {
     "name": "stdout",
     "output_type": "stream",
     "text": [
      "float64\n"
     ]
    }
   ],
   "source": [
    "print(datasets['USIA'].dtype)"
   ]
  },
  {
   "cell_type": "markdown",
   "metadata": {},
   "source": [
    "Mengisi nilai NaN dengan rata-rata usia"
   ]
  },
  {
   "cell_type": "code",
   "execution_count": 91,
   "metadata": {},
   "outputs": [],
   "source": [
    "datasets['USIA'] = datasets['USIA'].fillna(datasets['USIA'].mean())"
   ]
  },
  {
   "cell_type": "markdown",
   "metadata": {},
   "source": [
    "menampilkan dataset USIA dan tipe data sudah menjadi int"
   ]
  },
  {
   "cell_type": "code",
   "execution_count": 92,
   "metadata": {},
   "outputs": [
    {
     "name": "stdout",
     "output_type": "stream",
     "text": [
      "0      23.0\n",
      "1      29.0\n",
      "2      20.0\n",
      "3      18.0\n",
      "4      34.0\n",
      "       ... \n",
      "556    40.0\n",
      "557    28.0\n",
      "558    41.0\n",
      "559    32.0\n",
      "560    30.0\n",
      "Name: USIA, Length: 561, dtype: float64\n"
     ]
    }
   ],
   "source": [
    "print(datasets['USIA'])"
   ]
  },
  {
   "cell_type": "markdown",
   "metadata": {},
   "source": [
    "Mengubah data menjadi string dan menghitung nilai unik"
   ]
  },
  {
   "cell_type": "code",
   "execution_count": 93,
   "metadata": {},
   "outputs": [],
   "source": [
    "value_counts = datasets['USIA'].astype(str).value_counts(dropna=False)"
   ]
  },
  {
   "cell_type": "markdown",
   "metadata": {},
   "source": [
    "mendefinisikan USIA mejadi value_counts dan menampilkan jumlah data"
   ]
  },
  {
   "cell_type": "code",
   "execution_count": 94,
   "metadata": {},
   "outputs": [
    {
     "name": "stdout",
     "output_type": "stream",
     "text": [
      "USIA\n",
      "28.0                  41\n",
      "31.0                  41\n",
      "25.0                  35\n",
      "26.0                  35\n",
      "22.0                  35\n",
      "29.0                  34\n",
      "24.0                  33\n",
      "27.0                  27\n",
      "23.0                  25\n",
      "30.0                  25\n",
      "33.0                  23\n",
      "21.0                  21\n",
      "32.0                  20\n",
      "20.0                  20\n",
      "36.0                  18\n",
      "35.0                  17\n",
      "38.0                  15\n",
      "34.0                  14\n",
      "28.195612431444243    14\n",
      "41.0                  11\n",
      "39.0                  11\n",
      "19.0                  10\n",
      "37.0                   9\n",
      "40.0                   8\n",
      "18.0                   5\n",
      "17.0                   5\n",
      "15.0                   3\n",
      "43.0                   2\n",
      "16.0                   2\n",
      "13.0                   1\n",
      "14.0                   1\n",
      "Name: count, dtype: int64\n"
     ]
    }
   ],
   "source": [
    "print(value_counts)"
   ]
  },
  {
   "cell_type": "markdown",
   "metadata": {},
   "source": [
    "mendefinisikan PARITAS menjadi value_count dan memunculkan jumlah nilai termasuk NaN"
   ]
  },
  {
   "cell_type": "code",
   "execution_count": 95,
   "metadata": {},
   "outputs": [
    {
     "name": "stdout",
     "output_type": "stream",
     "text": [
      "PARITAS\n",
      "1    228\n",
      "2    186\n",
      "3     82\n",
      "0     39\n",
      "4     20\n",
      "5      3\n",
      "6      3\n",
      "Name: count, dtype: int64\n"
     ]
    }
   ],
   "source": [
    "value_counts = datasets['PARITAS'].astype(str).value_counts(dropna=False)\n",
    "print(value_counts)"
   ]
  },
  {
   "cell_type": "markdown",
   "metadata": {},
   "source": [
    "Mendefinisikan JARAK KELAHIRAN menjadi value_count dan mengubah data menjadi string dan menghitung nilai unik serta memunculkan jumlah value unik"
   ]
  },
  {
   "cell_type": "code",
   "execution_count": 96,
   "metadata": {},
   "outputs": [
    {
     "name": "stdout",
     "output_type": "stream",
     "text": [
      "JARAK KELAHIRAN\n",
      "anak pertama    260\n",
      "> 2 tahun       211\n",
      "< 2 tahun        81\n",
      "nan               7\n",
      "> 2 tahun         2\n",
      "Name: count, dtype: int64\n"
     ]
    }
   ],
   "source": [
    "value_counts = datasets['JARAK KELAHIRAN'].astype(str).value_counts(dropna=False)\n",
    "\n",
    "print(value_counts)"
   ]
  },
  {
   "cell_type": "markdown",
   "metadata": {},
   "source": [
    "Mengisi nilai NaN dengan string kosong"
   ]
  },
  {
   "cell_type": "code",
   "execution_count": null,
   "metadata": {},
   "outputs": [],
   "source": [
    "datasets['USIA'] = datasets['USIA'].fillna('')"
   ]
  },
  {
   "cell_type": "markdown",
   "metadata": {},
   "source": [
    "Menghapus spasi ekstra dan mengambil angka"
   ]
  },
  {
   "cell_type": "code",
   "execution_count": null,
   "metadata": {},
   "outputs": [],
   "source": [
    "datasets['USIA'] = datasets['USIA'].str.strip().str.extract('(\\d+)')[0]"
   ]
  },
  {
   "cell_type": "markdown",
   "metadata": {},
   "source": [
    "Mengonversi ke tipe data numerik"
   ]
  },
  {
   "cell_type": "code",
   "execution_count": null,
   "metadata": {},
   "outputs": [],
   "source": [
    "datasets['USIA'] = pd.to_numeric(datasets['USIA'], errors='coerce')"
   ]
  },
  {
   "cell_type": "markdown",
   "metadata": {},
   "source": [
    "Mengisi nilai NaN dengan rata-rata usia"
   ]
  },
  {
   "cell_type": "code",
   "execution_count": null,
   "metadata": {},
   "outputs": [],
   "source": [
    "datasets['USIA'] = datasets['USIA'].fillna(datasets['USIA'].mean())"
   ]
  },
  {
   "cell_type": "markdown",
   "metadata": {},
   "source": [
    "simpleimputer adalah class yang digunakan untuk menggantikan value kosong di dataset, menggunakan most_frequent dimana mengganti value yang hilang dengan value yang paling sering muncul di dataset"
   ]
  },
  {
   "cell_type": "markdown",
   "metadata": {},
   "source": [
    "label encoder adalah class yang digunakan  untuk  mengubah  data  yang  tidak  dapat  diakses  secara langsung menjadi data yang dapat  diakses secara langsung. "
   ]
  },
  {
   "cell_type": "code",
   "execution_count": 97,
   "metadata": {},
   "outputs": [],
   "source": [
    "imputer = SimpleImputer(strategy='most_frequent')\n",
    "from sklearn.preprocessing import LabelEncoder"
   ]
  },
  {
   "cell_type": "markdown",
   "metadata": {},
   "source": [
    "mengambil kolom \"JARAK KELAHIRAN\" dari dataset, menerapkan imputer untuk mengisi nilai yang hilang, dan kemudian mengubah array yang dihasilkan menjadi array 1-dimensi. Nilai yang diisi kemudian ditugaskan kembali ke kolom asli dalam dataset."
   ]
  },
  {
   "cell_type": "code",
   "execution_count": 98,
   "metadata": {},
   "outputs": [],
   "source": [
    "datasets['JARAK KELAHIRAN'] = imputer.fit_transform(datasets[['JARAK KELAHIRAN']]).ravel()"
   ]
  },
  {
   "cell_type": "markdown",
   "metadata": {},
   "source": [
    "Mengganti nilai '> 2 tahun ' dengan '> 2 tahun'"
   ]
  },
  {
   "cell_type": "code",
   "execution_count": 99,
   "metadata": {},
   "outputs": [],
   "source": [
    "datasets['JARAK KELAHIRAN'] = datasets['JARAK KELAHIRAN'].replace('> 2 tahun ', '> 2 tahun')"
   ]
  },
  {
   "cell_type": "markdown",
   "metadata": {},
   "source": [
    "Mengubah data menjadi string dan menghitung nilai unik"
   ]
  },
  {
   "cell_type": "code",
   "execution_count": 100,
   "metadata": {},
   "outputs": [],
   "source": [
    "value_counts = datasets['JARAK KELAHIRAN'].astype(str).value_counts(dropna=False)"
   ]
  },
  {
   "cell_type": "code",
   "execution_count": 101,
   "metadata": {},
   "outputs": [
    {
     "name": "stdout",
     "output_type": "stream",
     "text": [
      "JARAK KELAHIRAN\n",
      "anak pertama    267\n",
      "> 2 tahun       213\n",
      "< 2 tahun        81\n",
      "Name: count, dtype: int64\n"
     ]
    }
   ],
   "source": [
    "print(value_counts)"
   ]
  },
  {
   "cell_type": "markdown",
   "metadata": {},
   "source": [
    "Mengubah data menjadi string dan menghitung nilai unik"
   ]
  },
  {
   "cell_type": "code",
   "execution_count": 102,
   "metadata": {},
   "outputs": [],
   "source": [
    "value_counts = datasets['RIW HIPERTENSI'].astype(str).value_counts(dropna=False)"
   ]
  },
  {
   "cell_type": "code",
   "execution_count": 103,
   "metadata": {},
   "outputs": [
    {
     "name": "stdout",
     "output_type": "stream",
     "text": [
      "RIW HIPERTENSI\n",
      "Tidak    508\n",
      "Ya        53\n",
      "Name: count, dtype: int64\n"
     ]
    }
   ],
   "source": [
    "print(value_counts)"
   ]
  },
  {
   "cell_type": "markdown",
   "metadata": {},
   "source": [
    "Mendefinisikan RIW PE menjadi value_counts dan mengubah data menjadi string dan menghitung nilai unik"
   ]
  },
  {
   "cell_type": "code",
   "execution_count": 104,
   "metadata": {},
   "outputs": [],
   "source": [
    "value_counts = datasets['RIW PE'].astype(str).value_counts(dropna=False)"
   ]
  },
  {
   "cell_type": "code",
   "execution_count": 105,
   "metadata": {},
   "outputs": [
    {
     "name": "stdout",
     "output_type": "stream",
     "text": [
      "RIW PE\n",
      "Tidak                     526\n",
      "PEB                        19\n",
      "PE                          6\n",
      "Impending PE                2\n",
      "HELLP SYNDROM               2\n",
      "Impending Eklamsia          1\n",
      "Kejang Konvulsi             1\n",
      "impending eklamsia          1\n",
      "PE, HELLP Syndrome          1\n",
      "PEB impending eklampsi      1\n",
      "Impending Ekalmsia          1\n",
      "Name: count, dtype: int64\n"
     ]
    }
   ],
   "source": [
    "print(value_counts)"
   ]
  },
  {
   "cell_type": "markdown",
   "metadata": {},
   "source": [
    "menggantikan nilai-nilai tertentu dalam kolom \"RIW PE\" selain Tidak dengan nilai \"Ada\". Nilai-nilai yang digantikan adalah nama-nama kondisi medis yang terkait dengan preeklamsia. Setelah penggantian, kolom \"RIW PE\" akan berisi nilai \"Ada\""
   ]
  },
  {
   "cell_type": "code",
   "execution_count": 106,
   "metadata": {},
   "outputs": [],
   "source": [
    "datasets['RIW PE'] = datasets['RIW PE'].replace(\n",
    "    to_replace=['PEB', 'PE', 'HELLP SYNDROM', 'Impending PE', 'Impending Eklamsia', 'PE, HELLP Syndrome', 'PEB impending eklampsi', 'Impending Ekalmsia', 'Kejang Konvulsi', 'impending eklamsia'],\n",
    "    value='Ada'\n",
    ")"
   ]
  },
  {
   "cell_type": "markdown",
   "metadata": {},
   "source": [
    "setelah diubah Mengubah data menjadi string dan menghitung nilai unik dan memunculkan kembali data RIW PE setelah diubah "
   ]
  },
  {
   "cell_type": "code",
   "execution_count": 107,
   "metadata": {},
   "outputs": [
    {
     "name": "stdout",
     "output_type": "stream",
     "text": [
      "RIW PE\n",
      "Tidak    526\n",
      "Ada       35\n",
      "Name: count, dtype: int64\n"
     ]
    }
   ],
   "source": [
    "value_counts = datasets['RIW PE'].astype(str).value_counts(dropna=False)\n",
    "\n",
    "print(value_counts)"
   ]
  },
  {
   "cell_type": "markdown",
   "metadata": {},
   "source": [
    "Mendefinisi OBESITAS menjadi value count dan menubah data menjadi string dan menghitung nilai unik dan dimunculkan jumlah datanya, karena sudah menjadi ya dan tidak . tidak perlu dirubah kembali"
   ]
  },
  {
   "cell_type": "code",
   "execution_count": 108,
   "metadata": {},
   "outputs": [
    {
     "name": "stdout",
     "output_type": "stream",
     "text": [
      "OBESITAS\n",
      "Tidak    556\n",
      "Ya         5\n",
      "Name: count, dtype: int64\n"
     ]
    }
   ],
   "source": [
    "value_counts = datasets['OBESITAS'].astype(str).value_counts(dropna=False)\n",
    "\n",
    "print(value_counts)"
   ]
  },
  {
   "cell_type": "markdown",
   "metadata": {},
   "source": [
    "Mendefinisi RIW DM menjadi value count dan menubah data menjadi string dan menghitung nilai unik dan dimunculkan jumlah datanya, karena sudah menjadi ya dan tidak . tidak perlu dirubah kembali"
   ]
  },
  {
   "cell_type": "code",
   "execution_count": 109,
   "metadata": {},
   "outputs": [
    {
     "name": "stdout",
     "output_type": "stream",
     "text": [
      "RIW DM\n",
      "Tidak    556\n",
      "Ya         5\n",
      "Name: count, dtype: int64\n"
     ]
    }
   ],
   "source": [
    "value_counts = datasets['RIW DM'].astype(str).value_counts(dropna=False)\n",
    "\n",
    "print(value_counts)"
   ]
  },
  {
   "cell_type": "markdown",
   "metadata": {},
   "source": [
    "Mendefinisi RIW HIPERTENSI/PE DALAM KELUARGA menjadi value count dan menubah data menjadi string dan menghitung nilai unik dan dimunculkan jumlah datanya, karena sudah menjadi ya dan tidak . tidak perlu dirubah kembali"
   ]
  },
  {
   "cell_type": "code",
   "execution_count": 110,
   "metadata": {},
   "outputs": [
    {
     "name": "stdout",
     "output_type": "stream",
     "text": [
      "RIW HIPERTENSI/PE DALAM KELUARGA\n",
      "Tidak    550\n",
      "Ada       11\n",
      "Name: count, dtype: int64\n"
     ]
    }
   ],
   "source": [
    "value_counts = datasets['RIW HIPERTENSI/PE DALAM KELUARGA'].astype(str).value_counts(dropna=False)\n",
    "\n",
    "print(value_counts)"
   ]
  },
  {
   "cell_type": "markdown",
   "metadata": {},
   "source": [
    "Mendefinisi SOSEK RENDAH menjadi value count dan menubah data menjadi string dan menghitung nilai unik dan dimunculkan jumlah datanya, karena sudah menjadi 2 tipe >UMR dan < UMR . tidak perlu dirubah kembali"
   ]
  },
  {
   "cell_type": "code",
   "execution_count": null,
   "metadata": {},
   "outputs": [],
   "source": [
    "value_counts = datasets['SOSEK RENDAH'].astype(str).value_counts(dropna=False)\n",
    "\n",
    "print(value_counts)"
   ]
  },
  {
   "cell_type": "markdown",
   "metadata": {},
   "source": [
    "Mendefinisi PE/Non PE menjadi value count dan menubah data menjadi string dan menghitung nilai unik dan dimunculkan jumlah datanya, untuk cek value apa saja yang ada dalam PE/Non PE"
   ]
  },
  {
   "cell_type": "code",
   "execution_count": 111,
   "metadata": {},
   "outputs": [
    {
     "name": "stdout",
     "output_type": "stream",
     "text": [
      "PE/Non PE\n",
      "Non PE                    520\n",
      "PEB                        20\n",
      "PE                         17\n",
      "Eklamsia                    1\n",
      "PE gemelli                  1\n",
      "PEB impending eklampsi      1\n",
      "PE                          1\n",
      "Name: count, dtype: int64\n"
     ]
    }
   ],
   "source": [
    "value_counts = datasets['PE/Non PE'].astype(str).value_counts(dropna=False)\n",
    "\n",
    "print(value_counts)"
   ]
  },
  {
   "cell_type": "markdown",
   "metadata": {},
   "source": [
    "karena Non PE dan selain Non PE masih banyak tipe, maka harus mengkategorikan Non PE atau PE sesuai nama atribut"
   ]
  },
  {
   "cell_type": "code",
   "execution_count": 112,
   "metadata": {},
   "outputs": [],
   "source": [
    "datasets['PE/Non PE'] = datasets['PE/Non PE'].replace(\n",
    "    to_replace=['PEB', 'PE', 'Eklamsia', 'PE gemelli', 'PEB impending eklampsi', 'PE '],\n",
    "    value='PE'\n",
    ")"
   ]
  },
  {
   "cell_type": "markdown",
   "metadata": {},
   "source": [
    "memunculkan kembali dataset PE/Non PE"
   ]
  },
  {
   "cell_type": "code",
   "execution_count": 113,
   "metadata": {},
   "outputs": [
    {
     "name": "stdout",
     "output_type": "stream",
     "text": [
      "PE/Non PE\n",
      "Non PE    520\n",
      "PE         41\n",
      "Name: count, dtype: int64\n"
     ]
    }
   ],
   "source": [
    "value_counts = datasets['PE/Non PE'].astype(str).value_counts(dropna=False)\n",
    "\n",
    "print(value_counts)"
   ]
  },
  {
   "cell_type": "markdown",
   "metadata": {},
   "source": [
    "membuat a bar chart di dataset PE/Non PE yang sudah dikonversi"
   ]
  },
  {
   "cell_type": "code",
   "execution_count": 114,
   "metadata": {},
   "outputs": [],
   "source": [
    "import pandas as pd\n",
    "import matplotlib.pyplot as plt\n",
    "\n",
    "value_counts = datasets['PE/Non PE'].value_counts()"
   ]
  },
  {
   "cell_type": "code",
   "execution_count": 116,
   "metadata": {},
   "outputs": [
    {
     "data": {
      "image/png": "[encoded data removed]",
      "text/plain": [
       "<Figure size 640x480 with 1 Axes>"
      ]
     },
     "metadata": {},
     "output_type": "display_data"
    }
   ],
   "source": [
    "ax = value_counts.plot(kind='bar', color=['skyblue', 'orange'])"
   ]
  },
  {
   "cell_type": "markdown",
   "metadata": {},
   "source": [
    "menambahkan title dan label"
   ]
  },
  {
   "cell_type": "code",
   "execution_count": 117,
   "metadata": {},
   "outputs": [
    {
     "data": {
      "text/plain": [
       "Text(0, 0.5, 'Count')"
      ]
     },
     "execution_count": 117,
     "metadata": {},
     "output_type": "execute_result"
    },
    {
     "data": {
      "image/png": "[encoded data removed]",
      "text/plain": [
       "<Figure size 640x480 with 1 Axes>"
      ]
     },
     "metadata": {},
     "output_type": "display_data"
    }
   ],
   "source": [
    "plt.title('PE/Non PE Distribution')\n",
    "plt.xlabel('Category')\n",
    "plt.ylabel('Count')"
   ]
  },
  {
   "cell_type": "markdown",
   "metadata": {},
   "source": [
    "menambahkan jumlahnya label di atas tiap bar"
   ]
  },
  {
   "cell_type": "code",
   "execution_count": 118,
   "metadata": {},
   "outputs": [],
   "source": [
    "for i, count in enumerate(value_counts):\n",
    "    ax.text(i, count , str(count), ha='center', va='bottom')"
   ]
  },
  {
   "cell_type": "markdown",
   "metadata": {},
   "source": [
    "Display the bar chart"
   ]
  },
  {
   "cell_type": "code",
   "execution_count": 119,
   "metadata": {},
   "outputs": [],
   "source": [
    "plt.show()"
   ]
  },
  {
   "cell_type": "markdown",
   "metadata": {},
   "source": [
    "script memunculkan label PE/Non PE dengan menambahkan label diatas dan memunculkan jumlah diatas tiap label"
   ]
  },
  {
   "cell_type": "code",
   "execution_count": 120,
   "metadata": {},
   "outputs": [
    {
     "data": {
      "image/png": "[encoded data removed]",
      "text/plain": [
       "<Figure size 640x480 with 1 Axes>"
      ]
     },
     "metadata": {},
     "output_type": "display_data"
    }
   ],
   "source": [
    "import pandas as pd\n",
    "import matplotlib.pyplot as plt\n",
    "\n",
    "value_counts = datasets['PE/Non PE'].value_counts()\n",
    "ax = value_counts.plot(kind='bar', color=['skyblue', 'orange'])\n",
    "\n",
    "plt.title('PE/Non PE Distribution')\n",
    "plt.xlabel('Category')\n",
    "plt.ylabel('Count')\n",
    "\n",
    "for i, count in enumerate(value_counts):\n",
    "    ax.text(i, count , str(count), ha='center', va='bottom')\n",
    "\n",
    "plt.show()"
   ]
  },
  {
   "cell_type": "markdown",
   "metadata": {},
   "source": [
    "menampilkan info dataset"
   ]
  },
  {
   "cell_type": "code",
   "execution_count": 121,
   "metadata": {},
   "outputs": [
    {
     "name": "stdout",
     "output_type": "stream",
     "text": [
      "<class 'pandas.core.frame.DataFrame'>\n",
      "RangeIndex: 561 entries, 0 to 560\n",
      "Data columns (total 12 columns):\n",
      " #   Column                            Non-Null Count  Dtype  \n",
      "---  ------                            --------------  -----  \n",
      " 0   NO                                561 non-null    int64  \n",
      " 1   NAMA                              561 non-null    object \n",
      " 2   USIA                              561 non-null    float64\n",
      " 3   PARITAS                           561 non-null    int64  \n",
      " 4   JARAK KELAHIRAN                   561 non-null    object \n",
      " 5   RIW HIPERTENSI                    561 non-null    object \n",
      " 6   RIW PE                            561 non-null    object \n",
      " 7   OBESITAS                          561 non-null    object \n",
      " 8   RIW DM                            561 non-null    object \n",
      " 9   RIW HIPERTENSI/PE DALAM KELUARGA  561 non-null    object \n",
      " 10  SOSEK RENDAH                      561 non-null    object \n",
      " 11  PE/Non PE                         561 non-null    object \n",
      "dtypes: float64(1), int64(2), object(9)\n",
      "memory usage: 52.7+ KB\n"
     ]
    }
   ],
   "source": [
    "datasets.info()"
   ]
  },
  {
   "cell_type": "code",
   "execution_count": 140,
   "metadata": {},
   "outputs": [],
   "source": [
    "label_encoder = LabelEncoder()\n",
    "datasets['JARAK KELAHIRAN'] = label_encoder.fit_transform(datasets['JARAK KELAHIRAN'])"
   ]
  },
  {
   "cell_type": "code",
   "execution_count": 141,
   "metadata": {},
   "outputs": [
    {
     "name": "stdout",
     "output_type": "stream",
     "text": [
      "JARAK KELAHIRAN\n",
      "2    267\n",
      "1    213\n",
      "0     81\n",
      "Name: count, dtype: int64\n"
     ]
    }
   ],
   "source": [
    "value_counts = datasets['JARAK KELAHIRAN'].astype(str).value_counts(dropna=False)\n",
    "\n",
    "print(value_counts)"
   ]
  },
  {
   "cell_type": "markdown",
   "metadata": {},
   "source": [
    "dicek PARITAS belum di cleaning maka dicek data apa saja yang ada dalam PARITAS"
   ]
  },
  {
   "cell_type": "markdown",
   "metadata": {},
   "source": [
    "karena JARAK KELAHIRAN sudah berupa kategorikal maka menggunakan package OneHot untuk mengubah kategorikal  menjadi numerikal"
   ]
  },
  {
   "cell_type": "code",
   "execution_count": 124,
   "metadata": {},
   "outputs": [],
   "source": [
    "from sklearn.preprocessing import OneHotEncoder"
   ]
  },
  {
   "cell_type": "markdown",
   "metadata": {},
   "source": [
    "Inisialisasi OneHotEncoder \n",
    "sparse_output=False agar output berupa array, bukan sparse matrix"
   ]
  },
  {
   "cell_type": "code",
   "execution_count": 125,
   "metadata": {},
   "outputs": [],
   "source": [
    "encoder = OneHotEncoder(sparse_output=False)"
   ]
  },
  {
   "cell_type": "markdown",
   "metadata": {},
   "source": [
    "Terapkan OneHotEncoder"
   ]
  },
  {
   "cell_type": "code",
   "execution_count": 126,
   "metadata": {},
   "outputs": [],
   "source": [
    "one_hot_encoded = encoder.fit_transform(datasets[['RIW HIPERTENSI']])"
   ]
  },
  {
   "cell_type": "markdown",
   "metadata": {},
   "source": [
    "Dapatkan nama kolom baru dari encoder"
   ]
  },
  {
   "cell_type": "code",
   "execution_count": 127,
   "metadata": {},
   "outputs": [],
   "source": [
    "one_hot_columns = encoder.get_feature_names_out(['RIW HIPERTENSI'])"
   ]
  },
  {
   "cell_type": "markdown",
   "metadata": {},
   "source": [
    "Buat DataFrame baru dari hasil One-Hot Encoding"
   ]
  },
  {
   "cell_type": "code",
   "execution_count": 128,
   "metadata": {},
   "outputs": [],
   "source": [
    "one_hot_df = pd.DataFrame(one_hot_encoded, columns=one_hot_columns)"
   ]
  },
  {
   "cell_type": "markdown",
   "metadata": {},
   "source": [
    "Gabungkan dengan DataFrame asli (atau gantikan kolom asli)"
   ]
  },
  {
   "cell_type": "code",
   "execution_count": 129,
   "metadata": {},
   "outputs": [],
   "source": [
    "datasets = pd.concat([datasets.drop('RIW HIPERTENSI', axis=1), one_hot_df], axis=1)"
   ]
  },
  {
   "cell_type": "markdown",
   "metadata": {},
   "source": [
    "Secara default, sparse_output diatur ke True, yang berarti output akan berupa matriks sparse. Matriks sparse adalah matriks di mana sebagian besar elemennya adalah nol, dan itu adalah cara yang lebih efisien dalam menggunakan memori untuk menyimpan matriks seperti itu.\n",
    "\n",
    "Namun, jika Anda mengatur sparse_output ke False, output akan berupa array dense bukan matriks sparse. Ini berarti output akan berupa array NumPy reguler, di mana semua elemen disimpan dalam memori, bahkan jika sebagian besar elemen adalah nol."
   ]
  },
  {
   "cell_type": "markdown",
   "metadata": {},
   "source": [
    "Inisialisasi OneHotEncoder \n",
    "dan mengubah RIW PE menjadi array 0,1,2"
   ]
  },
  {
   "cell_type": "code",
   "execution_count": 130,
   "metadata": {},
   "outputs": [],
   "source": [
    "encoder = OneHotEncoder(sparse_output=False)"
   ]
  },
  {
   "cell_type": "markdown",
   "metadata": {},
   "source": [
    "Terapkan OneHotEncoder"
   ]
  },
  {
   "cell_type": "code",
   "execution_count": 131,
   "metadata": {},
   "outputs": [],
   "source": [
    "one_hot_encoded = encoder.fit_transform(datasets[['RIW PE']])"
   ]
  },
  {
   "cell_type": "markdown",
   "metadata": {},
   "source": [
    "Dapatkan nama kolom baru dari encoder"
   ]
  },
  {
   "cell_type": "code",
   "execution_count": 132,
   "metadata": {},
   "outputs": [],
   "source": [
    "one_hot_columns = encoder.get_feature_names_out(['RIW PE'])"
   ]
  },
  {
   "cell_type": "markdown",
   "metadata": {},
   "source": [
    "Buat DataFrame baru dari hasil One-Hot Encoding"
   ]
  },
  {
   "cell_type": "code",
   "execution_count": 133,
   "metadata": {},
   "outputs": [],
   "source": [
    "one_hot_df = pd.DataFrame(one_hot_encoded, columns=one_hot_columns)"
   ]
  },
  {
   "cell_type": "markdown",
   "metadata": {},
   "source": [
    "Gabungkan dengan DataFrame asli (atau gantikan kolom asli)"
   ]
  },
  {
   "cell_type": "code",
   "execution_count": 134,
   "metadata": {},
   "outputs": [],
   "source": [
    "datasets = pd.concat([datasets.drop('RIW PE', axis=1), one_hot_df], axis=1)"
   ]
  },
  {
   "cell_type": "markdown",
   "metadata": {},
   "source": [
    "Inisialisasi OneHotEncoder \n",
    "dan mengubah RIW PE menjadi array 0,1,2\n",
    "datasets['RIW HIPERTENSI/PE DALAM KELUARGA'] = label_encoder.fit_transform(datasets['RIW HIPERTENSI/PE DALAM KELUARGA'])"
   ]
  },
  {
   "cell_type": "code",
   "execution_count": 135,
   "metadata": {},
   "outputs": [],
   "source": [
    "# Inisialisasi OneHotEncoder\n",
    "encoder = OneHotEncoder(sparse_output=False)  # sparse_output=False agar output berupa array, bukan sparse matrix\n",
    "\n",
    "# Terapkan OneHotEncoder\n",
    "one_hot_encoded = encoder.fit_transform(datasets[['RIW HIPERTENSI/PE DALAM KELUARGA']])\n",
    "\n",
    "# Dapatkan nama kolom baru dari encoder\n",
    "one_hot_columns = encoder.get_feature_names_out(['RIW HIPERTENSI/PE DALAM KELUARGA'])\n",
    "\n",
    "# Buat DataFrame baru dari hasil One-Hot Encoding\n",
    "one_hot_df = pd.DataFrame(one_hot_encoded, columns=one_hot_columns)\n",
    "\n",
    "# Gabungkan dengan DataFrame asli (atau gantikan kolom asli)\n",
    "datasets = pd.concat([datasets.drop('RIW HIPERTENSI/PE DALAM KELUARGA', axis=1), one_hot_df], axis=1)"
   ]
  },
  {
   "cell_type": "markdown",
   "metadata": {},
   "source": [
    "datasets['SOSEK RENDAH'] = label_encoder.fit_transform(datasets['SOSEK RENDAH'])\n",
    "\n",
    "Inisialisasi OneHotEncoder dan mengubah SOSEK RENDAH menjadi array 0,1,2"
   ]
  },
  {
   "cell_type": "code",
   "execution_count": 136,
   "metadata": {},
   "outputs": [],
   "source": [
    "encoder = OneHotEncoder(sparse_output=False)  # sparse_output=False agar output berupa array, bukan sparse matrix\n",
    "\n",
    "# Terapkan OneHotEncoder\n",
    "one_hot_encoded = encoder.fit_transform(datasets[['SOSEK RENDAH']])\n",
    "\n",
    "# Dapatkan nama kolom baru dari encoder\n",
    "one_hot_columns = encoder.get_feature_names_out(['SOSEK RENDAH'])\n",
    "\n",
    "# Buat DataFrame baru dari hasil One-Hot Encoding\n",
    "one_hot_df = pd.DataFrame(one_hot_encoded, columns=one_hot_columns)\n",
    "\n",
    "# Gabungkan dengan DataFrame asli (atau gantikan kolom asli)\n",
    "datasets = pd.concat([datasets.drop('SOSEK RENDAH', axis=1), one_hot_df], axis=1)"
   ]
  },
  {
   "cell_type": "markdown",
   "metadata": {},
   "source": [
    "mengubah nilai kategorikal menjadi nilai numerik pada dataset PE/NoN PE menjadi 1 dan 0"
   ]
  },
  {
   "cell_type": "code",
   "execution_count": 143,
   "metadata": {},
   "outputs": [],
   "source": [
    "datasets['PE/Non PE'] = label_encoder.fit_transform(datasets['PE/Non PE'])"
   ]
  },
  {
   "cell_type": "code",
   "execution_count": 168,
   "metadata": {},
   "outputs": [
    {
     "name": "stdout",
     "output_type": "stream",
     "text": [
      "PE/Non PE\n",
      "0    520\n",
      "1     41\n",
      "Name: count, dtype: int64\n"
     ]
    }
   ],
   "source": [
    "value_counts = datasets['PE/Non PE'].astype(str).value_counts(dropna=False)\n",
    "\n",
    "print(value_counts)"
   ]
  },
  {
   "cell_type": "markdown",
   "metadata": {},
   "source": [
    "Inisialisasi OneHotEncoder dan mengubah OBESITAS menjadi array 0,1,2"
   ]
  },
  {
   "cell_type": "code",
   "execution_count": 147,
   "metadata": {},
   "outputs": [],
   "source": [
    "# Inisialisasi OneHotEncoder\n",
    "encoder = OneHotEncoder(sparse_output=False)  # sparse_output=False agar output berupa array, bukan sparse matrix\n",
    "\n",
    "# Terapkan OneHotEncoder\n",
    "one_hot_encoded = encoder.fit_transform(datasets[['OBESITAS']])\n",
    "\n",
    "# Dapatkan nama kolom baru dari encoder\n",
    "one_hot_columns = encoder.get_feature_names_out(['OBESITAS'])\n",
    "\n",
    "# Buat DataFrame baru dari hasil One-Hot Encoding\n",
    "one_hot_df = pd.DataFrame(one_hot_encoded, columns=one_hot_columns)\n",
    "\n",
    "# Gabungkan dengan DataFrame asli (atau gantikan kolom asli)\n",
    "datasets = pd.concat([datasets.drop('OBESITAS', axis=1), one_hot_df], axis=1)"
   ]
  },
  {
   "cell_type": "markdown",
   "metadata": {},
   "source": [
    "Inisialisasi OneHotEncoder dan mengubah RIW DM menjadi array 0,1,2"
   ]
  },
  {
   "cell_type": "code",
   "execution_count": 148,
   "metadata": {},
   "outputs": [],
   "source": [
    "# Inisialisasi OneHotEncoder\n",
    "encoder = OneHotEncoder(sparse_output=False)  # sparse_output=False agar output berupa array, bukan sparse matrix\n",
    "\n",
    "# Terapkan OneHotEncoder\n",
    "one_hot_encoded = encoder.fit_transform(datasets[['RIW DM']])\n",
    "\n",
    "# Dapatkan nama kolom baru dari encoder\n",
    "one_hot_columns = encoder.get_feature_names_out(['RIW DM'])\n",
    "\n",
    "# Buat DataFrame baru dari hasil One-Hot Encoding\n",
    "one_hot_df = pd.DataFrame(one_hot_encoded, columns=one_hot_columns)\n",
    "\n",
    "# Gabungkan dengan DataFrame asli (atau gantikan kolom asli)\n",
    "datasets = pd.concat([datasets.drop('RIW DM', axis=1), one_hot_df], axis=1)"
   ]
  },
  {
   "cell_type": "markdown",
   "metadata": {},
   "source": [
    "cek info dataset dan tipe dataset"
   ]
  },
  {
   "cell_type": "code",
   "execution_count": 169,
   "metadata": {},
   "outputs": [
    {
     "name": "stdout",
     "output_type": "stream",
     "text": [
      "<class 'pandas.core.frame.DataFrame'>\n",
      "RangeIndex: 561 entries, 0 to 560\n",
      "Data columns (total 18 columns):\n",
      " #   Column                                  Non-Null Count  Dtype  \n",
      "---  ------                                  --------------  -----  \n",
      " 0   NO                                      561 non-null    int64  \n",
      " 1   NAMA                                    561 non-null    object \n",
      " 2   USIA                                    561 non-null    float64\n",
      " 3   PARITAS                                 561 non-null    int64  \n",
      " 4   JARAK KELAHIRAN                         561 non-null    int64  \n",
      " 5   PE/Non PE                               561 non-null    int64  \n",
      " 6   RIW HIPERTENSI_Tidak                    561 non-null    float64\n",
      " 7   RIW HIPERTENSI_Ya                       561 non-null    float64\n",
      " 8   RIW PE_Ada                              561 non-null    float64\n",
      " 9   RIW PE_Tidak                            561 non-null    float64\n",
      " 10  RIW HIPERTENSI/PE DALAM KELUARGA_Ada    561 non-null    float64\n",
      " 11  RIW HIPERTENSI/PE DALAM KELUARGA_Tidak  561 non-null    float64\n",
      " 12  SOSEK RENDAH_<UMR                       561 non-null    float64\n",
      " 13  SOSEK RENDAH_>UMR                       561 non-null    float64\n",
      " 14  OBESITAS_Tidak                          561 non-null    float64\n",
      " 15  OBESITAS_Ya                             561 non-null    float64\n",
      " 16  RIW DM_Tidak                            561 non-null    float64\n",
      " 17  RIW DM_Ya                               561 non-null    float64\n",
      "dtypes: float64(13), int64(4), object(1)\n",
      "memory usage: 79.0+ KB\n"
     ]
    }
   ],
   "source": [
    "datasets.info()"
   ]
  },
  {
   "cell_type": "code",
   "execution_count": 150,
   "metadata": {},
   "outputs": [
    {
     "data": {
      "text/html": [
       "<div>\n",
       "<style scoped>\n",
       "    .dataframe tbody tr th:only-of-type {\n",
       "        vertical-align: middle;\n",
       "    }\n",
       "\n",
       "    .dataframe tbody tr th {\n",
       "        vertical-align: top;\n",
       "    }\n",
       "\n",
       "    .dataframe thead th {\n",
       "        text-align: right;\n",
       "    }\n",
       "</style>\n",
       "<table border=\"1\" class=\"dataframe\">\n",
       "  <thead>\n",
       "    <tr style=\"text-align: right;\">\n",
       "      <th></th>\n",
       "      <th>NO</th>\n",
       "      <th>NAMA</th>\n",
       "      <th>USIA</th>\n",
       "      <th>PARITAS</th>\n",
       "      <th>JARAK KELAHIRAN</th>\n",
       "      <th>PE/Non PE</th>\n",
       "      <th>RIW HIPERTENSI_Tidak</th>\n",
       "      <th>RIW HIPERTENSI_Ya</th>\n",
       "      <th>RIW PE_Ada</th>\n",
       "      <th>RIW PE_Tidak</th>\n",
       "      <th>RIW HIPERTENSI/PE DALAM KELUARGA_Ada</th>\n",
       "      <th>RIW HIPERTENSI/PE DALAM KELUARGA_Tidak</th>\n",
       "      <th>SOSEK RENDAH_&lt;UMR</th>\n",
       "      <th>SOSEK RENDAH_&gt;UMR</th>\n",
       "      <th>OBESITAS_Tidak</th>\n",
       "      <th>OBESITAS_Ya</th>\n",
       "      <th>RIW DM_Tidak</th>\n",
       "      <th>RIW DM_Ya</th>\n",
       "    </tr>\n",
       "  </thead>\n",
       "  <tbody>\n",
       "    <tr>\n",
       "      <th>0</th>\n",
       "      <td>1</td>\n",
       "      <td>NAMA 1</td>\n",
       "      <td>23.0</td>\n",
       "      <td>3</td>\n",
       "      <td>0</td>\n",
       "      <td>0</td>\n",
       "      <td>1.0</td>\n",
       "      <td>0.0</td>\n",
       "      <td>0.0</td>\n",
       "      <td>1.0</td>\n",
       "      <td>0.0</td>\n",
       "      <td>1.0</td>\n",
       "      <td>0.0</td>\n",
       "      <td>1.0</td>\n",
       "      <td>1.0</td>\n",
       "      <td>0.0</td>\n",
       "      <td>0.0</td>\n",
       "      <td>1.0</td>\n",
       "    </tr>\n",
       "    <tr>\n",
       "      <th>1</th>\n",
       "      <td>2</td>\n",
       "      <td>NAMA 2</td>\n",
       "      <td>29.0</td>\n",
       "      <td>2</td>\n",
       "      <td>0</td>\n",
       "      <td>1</td>\n",
       "      <td>1.0</td>\n",
       "      <td>0.0</td>\n",
       "      <td>1.0</td>\n",
       "      <td>0.0</td>\n",
       "      <td>1.0</td>\n",
       "      <td>0.0</td>\n",
       "      <td>0.0</td>\n",
       "      <td>1.0</td>\n",
       "      <td>1.0</td>\n",
       "      <td>0.0</td>\n",
       "      <td>1.0</td>\n",
       "      <td>0.0</td>\n",
       "    </tr>\n",
       "    <tr>\n",
       "      <th>2</th>\n",
       "      <td>3</td>\n",
       "      <td>NAMA 3</td>\n",
       "      <td>20.0</td>\n",
       "      <td>1</td>\n",
       "      <td>2</td>\n",
       "      <td>0</td>\n",
       "      <td>1.0</td>\n",
       "      <td>0.0</td>\n",
       "      <td>0.0</td>\n",
       "      <td>1.0</td>\n",
       "      <td>0.0</td>\n",
       "      <td>1.0</td>\n",
       "      <td>0.0</td>\n",
       "      <td>1.0</td>\n",
       "      <td>1.0</td>\n",
       "      <td>0.0</td>\n",
       "      <td>1.0</td>\n",
       "      <td>0.0</td>\n",
       "    </tr>\n",
       "    <tr>\n",
       "      <th>3</th>\n",
       "      <td>4</td>\n",
       "      <td>NAMA 4</td>\n",
       "      <td>18.0</td>\n",
       "      <td>1</td>\n",
       "      <td>2</td>\n",
       "      <td>0</td>\n",
       "      <td>1.0</td>\n",
       "      <td>0.0</td>\n",
       "      <td>0.0</td>\n",
       "      <td>1.0</td>\n",
       "      <td>0.0</td>\n",
       "      <td>1.0</td>\n",
       "      <td>0.0</td>\n",
       "      <td>1.0</td>\n",
       "      <td>1.0</td>\n",
       "      <td>0.0</td>\n",
       "      <td>1.0</td>\n",
       "      <td>0.0</td>\n",
       "    </tr>\n",
       "    <tr>\n",
       "      <th>4</th>\n",
       "      <td>5</td>\n",
       "      <td>NAMA 5</td>\n",
       "      <td>34.0</td>\n",
       "      <td>3</td>\n",
       "      <td>1</td>\n",
       "      <td>0</td>\n",
       "      <td>1.0</td>\n",
       "      <td>0.0</td>\n",
       "      <td>0.0</td>\n",
       "      <td>1.0</td>\n",
       "      <td>0.0</td>\n",
       "      <td>1.0</td>\n",
       "      <td>0.0</td>\n",
       "      <td>1.0</td>\n",
       "      <td>1.0</td>\n",
       "      <td>0.0</td>\n",
       "      <td>1.0</td>\n",
       "      <td>0.0</td>\n",
       "    </tr>\n",
       "    <tr>\n",
       "      <th>...</th>\n",
       "      <td>...</td>\n",
       "      <td>...</td>\n",
       "      <td>...</td>\n",
       "      <td>...</td>\n",
       "      <td>...</td>\n",
       "      <td>...</td>\n",
       "      <td>...</td>\n",
       "      <td>...</td>\n",
       "      <td>...</td>\n",
       "      <td>...</td>\n",
       "      <td>...</td>\n",
       "      <td>...</td>\n",
       "      <td>...</td>\n",
       "      <td>...</td>\n",
       "      <td>...</td>\n",
       "      <td>...</td>\n",
       "      <td>...</td>\n",
       "      <td>...</td>\n",
       "    </tr>\n",
       "    <tr>\n",
       "      <th>556</th>\n",
       "      <td>558</td>\n",
       "      <td>NAMA 557</td>\n",
       "      <td>40.0</td>\n",
       "      <td>3</td>\n",
       "      <td>1</td>\n",
       "      <td>0</td>\n",
       "      <td>1.0</td>\n",
       "      <td>0.0</td>\n",
       "      <td>0.0</td>\n",
       "      <td>1.0</td>\n",
       "      <td>0.0</td>\n",
       "      <td>1.0</td>\n",
       "      <td>0.0</td>\n",
       "      <td>1.0</td>\n",
       "      <td>1.0</td>\n",
       "      <td>0.0</td>\n",
       "      <td>1.0</td>\n",
       "      <td>0.0</td>\n",
       "    </tr>\n",
       "    <tr>\n",
       "      <th>557</th>\n",
       "      <td>559</td>\n",
       "      <td>NAMA 558</td>\n",
       "      <td>28.0</td>\n",
       "      <td>3</td>\n",
       "      <td>0</td>\n",
       "      <td>0</td>\n",
       "      <td>1.0</td>\n",
       "      <td>0.0</td>\n",
       "      <td>0.0</td>\n",
       "      <td>1.0</td>\n",
       "      <td>0.0</td>\n",
       "      <td>1.0</td>\n",
       "      <td>0.0</td>\n",
       "      <td>1.0</td>\n",
       "      <td>1.0</td>\n",
       "      <td>0.0</td>\n",
       "      <td>1.0</td>\n",
       "      <td>0.0</td>\n",
       "    </tr>\n",
       "    <tr>\n",
       "      <th>558</th>\n",
       "      <td>560</td>\n",
       "      <td>NAMA 559</td>\n",
       "      <td>41.0</td>\n",
       "      <td>3</td>\n",
       "      <td>1</td>\n",
       "      <td>0</td>\n",
       "      <td>1.0</td>\n",
       "      <td>0.0</td>\n",
       "      <td>0.0</td>\n",
       "      <td>1.0</td>\n",
       "      <td>0.0</td>\n",
       "      <td>1.0</td>\n",
       "      <td>0.0</td>\n",
       "      <td>1.0</td>\n",
       "      <td>1.0</td>\n",
       "      <td>0.0</td>\n",
       "      <td>1.0</td>\n",
       "      <td>0.0</td>\n",
       "    </tr>\n",
       "    <tr>\n",
       "      <th>559</th>\n",
       "      <td>561</td>\n",
       "      <td>NAMA 560</td>\n",
       "      <td>32.0</td>\n",
       "      <td>2</td>\n",
       "      <td>1</td>\n",
       "      <td>0</td>\n",
       "      <td>1.0</td>\n",
       "      <td>0.0</td>\n",
       "      <td>0.0</td>\n",
       "      <td>1.0</td>\n",
       "      <td>0.0</td>\n",
       "      <td>1.0</td>\n",
       "      <td>0.0</td>\n",
       "      <td>1.0</td>\n",
       "      <td>1.0</td>\n",
       "      <td>0.0</td>\n",
       "      <td>1.0</td>\n",
       "      <td>0.0</td>\n",
       "    </tr>\n",
       "    <tr>\n",
       "      <th>560</th>\n",
       "      <td>562</td>\n",
       "      <td>NAMA 561</td>\n",
       "      <td>30.0</td>\n",
       "      <td>2</td>\n",
       "      <td>1</td>\n",
       "      <td>0</td>\n",
       "      <td>1.0</td>\n",
       "      <td>0.0</td>\n",
       "      <td>0.0</td>\n",
       "      <td>1.0</td>\n",
       "      <td>0.0</td>\n",
       "      <td>1.0</td>\n",
       "      <td>0.0</td>\n",
       "      <td>1.0</td>\n",
       "      <td>1.0</td>\n",
       "      <td>0.0</td>\n",
       "      <td>1.0</td>\n",
       "      <td>0.0</td>\n",
       "    </tr>\n",
       "  </tbody>\n",
       "</table>\n",
       "<p>561 rows × 18 columns</p>\n",
       "</div>"
      ],
      "text/plain": [
       "      NO      NAMA  USIA  PARITAS  JARAK KELAHIRAN  PE/Non PE  \\\n",
       "0      1    NAMA 1  23.0        3                0          0   \n",
       "1      2    NAMA 2  29.0        2                0          1   \n",
       "2      3    NAMA 3  20.0        1                2          0   \n",
       "3      4    NAMA 4  18.0        1                2          0   \n",
       "4      5    NAMA 5  34.0        3                1          0   \n",
       "..   ...       ...   ...      ...              ...        ...   \n",
       "556  558  NAMA 557  40.0        3                1          0   \n",
       "557  559  NAMA 558  28.0        3                0          0   \n",
       "558  560  NAMA 559  41.0        3                1          0   \n",
       "559  561  NAMA 560  32.0        2                1          0   \n",
       "560  562  NAMA 561  30.0        2                1          0   \n",
       "\n",
       "     RIW HIPERTENSI_Tidak  RIW HIPERTENSI_Ya  RIW PE_Ada  RIW PE_Tidak  \\\n",
       "0                     1.0                0.0         0.0           1.0   \n",
       "1                     1.0                0.0         1.0           0.0   \n",
       "2                     1.0                0.0         0.0           1.0   \n",
       "3                     1.0                0.0         0.0           1.0   \n",
       "4                     1.0                0.0         0.0           1.0   \n",
       "..                    ...                ...         ...           ...   \n",
       "556                   1.0                0.0         0.0           1.0   \n",
       "557                   1.0                0.0         0.0           1.0   \n",
       "558                   1.0                0.0         0.0           1.0   \n",
       "559                   1.0                0.0         0.0           1.0   \n",
       "560                   1.0                0.0         0.0           1.0   \n",
       "\n",
       "     RIW HIPERTENSI/PE DALAM KELUARGA_Ada  \\\n",
       "0                                     0.0   \n",
       "1                                     1.0   \n",
       "2                                     0.0   \n",
       "3                                     0.0   \n",
       "4                                     0.0   \n",
       "..                                    ...   \n",
       "556                                   0.0   \n",
       "557                                   0.0   \n",
       "558                                   0.0   \n",
       "559                                   0.0   \n",
       "560                                   0.0   \n",
       "\n",
       "     RIW HIPERTENSI/PE DALAM KELUARGA_Tidak  SOSEK RENDAH_<UMR  \\\n",
       "0                                       1.0                0.0   \n",
       "1                                       0.0                0.0   \n",
       "2                                       1.0                0.0   \n",
       "3                                       1.0                0.0   \n",
       "4                                       1.0                0.0   \n",
       "..                                      ...                ...   \n",
       "556                                     1.0                0.0   \n",
       "557                                     1.0                0.0   \n",
       "558                                     1.0                0.0   \n",
       "559                                     1.0                0.0   \n",
       "560                                     1.0                0.0   \n",
       "\n",
       "     SOSEK RENDAH_>UMR  OBESITAS_Tidak  OBESITAS_Ya  RIW DM_Tidak  RIW DM_Ya  \n",
       "0                  1.0             1.0          0.0           0.0        1.0  \n",
       "1                  1.0             1.0          0.0           1.0        0.0  \n",
       "2                  1.0             1.0          0.0           1.0        0.0  \n",
       "3                  1.0             1.0          0.0           1.0        0.0  \n",
       "4                  1.0             1.0          0.0           1.0        0.0  \n",
       "..                 ...             ...          ...           ...        ...  \n",
       "556                1.0             1.0          0.0           1.0        0.0  \n",
       "557                1.0             1.0          0.0           1.0        0.0  \n",
       "558                1.0             1.0          0.0           1.0        0.0  \n",
       "559                1.0             1.0          0.0           1.0        0.0  \n",
       "560                1.0             1.0          0.0           1.0        0.0  \n",
       "\n",
       "[561 rows x 18 columns]"
      ]
     },
     "execution_count": 150,
     "metadata": {},
     "output_type": "execute_result"
    }
   ],
   "source": [
    "datasets"
   ]
  },
  {
   "cell_type": "markdown",
   "metadata": {},
   "source": [
    "expord data ke csv"
   ]
  },
  {
   "cell_type": "code",
   "execution_count": 170,
   "metadata": {},
   "outputs": [
    {
     "ename": "PermissionError",
     "evalue": "[Errno 13] Permission denied: 'datasets-jadi.csv'",
     "output_type": "error",
     "traceback": [
      "\u001b[1;31m---------------------------------------------------------------------------\u001b[0m",
      "\u001b[1;31mPermissionError\u001b[0m                           Traceback (most recent call last)",
      "Cell \u001b[1;32mIn[170], line 1\u001b[0m\n\u001b[1;32m----> 1\u001b[0m \u001b[43mdatasets\u001b[49m\u001b[38;5;241;43m.\u001b[39;49m\u001b[43mto_csv\u001b[49m\u001b[43m(\u001b[49m\u001b[38;5;124;43m'\u001b[39;49m\u001b[38;5;124;43mdatasets-jadi.csv\u001b[39;49m\u001b[38;5;124;43m'\u001b[39;49m\u001b[43m,\u001b[49m\u001b[43m \u001b[49m\u001b[43mindex\u001b[49m\u001b[38;5;241;43m=\u001b[39;49m\u001b[38;5;28;43;01mFalse\u001b[39;49;00m\u001b[43m)\u001b[49m\n",
      "File \u001b[1;32mc:\\Users\\TUF Gaming - FX506HF\\AppData\\Local\\Programs\\Python\\Python312\\Lib\\site-packages\\pandas\\util\\_decorators.py:333\u001b[0m, in \u001b[0;36mdeprecate_nonkeyword_arguments.<locals>.decorate.<locals>.wrapper\u001b[1;34m(*args, **kwargs)\u001b[0m\n\u001b[0;32m    327\u001b[0m \u001b[38;5;28;01mif\u001b[39;00m \u001b[38;5;28mlen\u001b[39m(args) \u001b[38;5;241m>\u001b[39m num_allow_args:\n\u001b[0;32m    328\u001b[0m     warnings\u001b[38;5;241m.\u001b[39mwarn(\n\u001b[0;32m    329\u001b[0m         msg\u001b[38;5;241m.\u001b[39mformat(arguments\u001b[38;5;241m=\u001b[39m_format_argument_list(allow_args)),\n\u001b[0;32m    330\u001b[0m         \u001b[38;5;167;01mFutureWarning\u001b[39;00m,\n\u001b[0;32m    331\u001b[0m         stacklevel\u001b[38;5;241m=\u001b[39mfind_stack_level(),\n\u001b[0;32m    332\u001b[0m     )\n\u001b[1;32m--> 333\u001b[0m \u001b[38;5;28;01mreturn\u001b[39;00m \u001b[43mfunc\u001b[49m\u001b[43m(\u001b[49m\u001b[38;5;241;43m*\u001b[39;49m\u001b[43margs\u001b[49m\u001b[43m,\u001b[49m\u001b[43m \u001b[49m\u001b[38;5;241;43m*\u001b[39;49m\u001b[38;5;241;43m*\u001b[39;49m\u001b[43mkwargs\u001b[49m\u001b[43m)\u001b[49m\n",
      "File \u001b[1;32mc:\\Users\\TUF Gaming - FX506HF\\AppData\\Local\\Programs\\Python\\Python312\\Lib\\site-packages\\pandas\\core\\generic.py:3967\u001b[0m, in \u001b[0;36mNDFrame.to_csv\u001b[1;34m(self, path_or_buf, sep, na_rep, float_format, columns, header, index, index_label, mode, encoding, compression, quoting, quotechar, lineterminator, chunksize, date_format, doublequote, escapechar, decimal, errors, storage_options)\u001b[0m\n\u001b[0;32m   3956\u001b[0m df \u001b[38;5;241m=\u001b[39m \u001b[38;5;28mself\u001b[39m \u001b[38;5;28;01mif\u001b[39;00m \u001b[38;5;28misinstance\u001b[39m(\u001b[38;5;28mself\u001b[39m, ABCDataFrame) \u001b[38;5;28;01melse\u001b[39;00m \u001b[38;5;28mself\u001b[39m\u001b[38;5;241m.\u001b[39mto_frame()\n\u001b[0;32m   3958\u001b[0m formatter \u001b[38;5;241m=\u001b[39m DataFrameFormatter(\n\u001b[0;32m   3959\u001b[0m     frame\u001b[38;5;241m=\u001b[39mdf,\n\u001b[0;32m   3960\u001b[0m     header\u001b[38;5;241m=\u001b[39mheader,\n\u001b[1;32m   (...)\u001b[0m\n\u001b[0;32m   3964\u001b[0m     decimal\u001b[38;5;241m=\u001b[39mdecimal,\n\u001b[0;32m   3965\u001b[0m )\n\u001b[1;32m-> 3967\u001b[0m \u001b[38;5;28;01mreturn\u001b[39;00m \u001b[43mDataFrameRenderer\u001b[49m\u001b[43m(\u001b[49m\u001b[43mformatter\u001b[49m\u001b[43m)\u001b[49m\u001b[38;5;241;43m.\u001b[39;49m\u001b[43mto_csv\u001b[49m\u001b[43m(\u001b[49m\n\u001b[0;32m   3968\u001b[0m \u001b[43m    \u001b[49m\u001b[43mpath_or_buf\u001b[49m\u001b[43m,\u001b[49m\n\u001b[0;32m   3969\u001b[0m \u001b[43m    \u001b[49m\u001b[43mlineterminator\u001b[49m\u001b[38;5;241;43m=\u001b[39;49m\u001b[43mlineterminator\u001b[49m\u001b[43m,\u001b[49m\n\u001b[0;32m   3970\u001b[0m \u001b[43m    \u001b[49m\u001b[43msep\u001b[49m\u001b[38;5;241;43m=\u001b[39;49m\u001b[43msep\u001b[49m\u001b[43m,\u001b[49m\n\u001b[0;32m   3971\u001b[0m \u001b[43m    \u001b[49m\u001b[43mencoding\u001b[49m\u001b[38;5;241;43m=\u001b[39;49m\u001b[43mencoding\u001b[49m\u001b[43m,\u001b[49m\n\u001b[0;32m   3972\u001b[0m \u001b[43m    \u001b[49m\u001b[43merrors\u001b[49m\u001b[38;5;241;43m=\u001b[39;49m\u001b[43merrors\u001b[49m\u001b[43m,\u001b[49m\n\u001b[0;32m   3973\u001b[0m \u001b[43m    \u001b[49m\u001b[43mcompression\u001b[49m\u001b[38;5;241;43m=\u001b[39;49m\u001b[43mcompression\u001b[49m\u001b[43m,\u001b[49m\n\u001b[0;32m   3974\u001b[0m \u001b[43m    \u001b[49m\u001b[43mquoting\u001b[49m\u001b[38;5;241;43m=\u001b[39;49m\u001b[43mquoting\u001b[49m\u001b[43m,\u001b[49m\n\u001b[0;32m   3975\u001b[0m \u001b[43m    \u001b[49m\u001b[43mcolumns\u001b[49m\u001b[38;5;241;43m=\u001b[39;49m\u001b[43mcolumns\u001b[49m\u001b[43m,\u001b[49m\n\u001b[0;32m   3976\u001b[0m \u001b[43m    \u001b[49m\u001b[43mindex_label\u001b[49m\u001b[38;5;241;43m=\u001b[39;49m\u001b[43mindex_label\u001b[49m\u001b[43m,\u001b[49m\n\u001b[0;32m   3977\u001b[0m \u001b[43m    \u001b[49m\u001b[43mmode\u001b[49m\u001b[38;5;241;43m=\u001b[39;49m\u001b[43mmode\u001b[49m\u001b[43m,\u001b[49m\n\u001b[0;32m   3978\u001b[0m \u001b[43m    \u001b[49m\u001b[43mchunksize\u001b[49m\u001b[38;5;241;43m=\u001b[39;49m\u001b[43mchunksize\u001b[49m\u001b[43m,\u001b[49m\n\u001b[0;32m   3979\u001b[0m \u001b[43m    \u001b[49m\u001b[43mquotechar\u001b[49m\u001b[38;5;241;43m=\u001b[39;49m\u001b[43mquotechar\u001b[49m\u001b[43m,\u001b[49m\n\u001b[0;32m   3980\u001b[0m \u001b[43m    \u001b[49m\u001b[43mdate_format\u001b[49m\u001b[38;5;241;43m=\u001b[39;49m\u001b[43mdate_format\u001b[49m\u001b[43m,\u001b[49m\n\u001b[0;32m   3981\u001b[0m \u001b[43m    \u001b[49m\u001b[43mdoublequote\u001b[49m\u001b[38;5;241;43m=\u001b[39;49m\u001b[43mdoublequote\u001b[49m\u001b[43m,\u001b[49m\n\u001b[0;32m   3982\u001b[0m \u001b[43m    \u001b[49m\u001b[43mescapechar\u001b[49m\u001b[38;5;241;43m=\u001b[39;49m\u001b[43mescapechar\u001b[49m\u001b[43m,\u001b[49m\n\u001b[0;32m   3983\u001b[0m \u001b[43m    \u001b[49m\u001b[43mstorage_options\u001b[49m\u001b[38;5;241;43m=\u001b[39;49m\u001b[43mstorage_options\u001b[49m\u001b[43m,\u001b[49m\n\u001b[0;32m   3984\u001b[0m \u001b[43m\u001b[49m\u001b[43m)\u001b[49m\n",
      "File \u001b[1;32mc:\\Users\\TUF Gaming - FX506HF\\AppData\\Local\\Programs\\Python\\Python312\\Lib\\site-packages\\pandas\\io\\formats\\format.py:1014\u001b[0m, in \u001b[0;36mDataFrameRenderer.to_csv\u001b[1;34m(self, path_or_buf, encoding, sep, columns, index_label, mode, compression, quoting, quotechar, lineterminator, chunksize, date_format, doublequote, escapechar, errors, storage_options)\u001b[0m\n\u001b[0;32m    993\u001b[0m     created_buffer \u001b[38;5;241m=\u001b[39m \u001b[38;5;28;01mFalse\u001b[39;00m\n\u001b[0;32m    995\u001b[0m csv_formatter \u001b[38;5;241m=\u001b[39m CSVFormatter(\n\u001b[0;32m    996\u001b[0m     path_or_buf\u001b[38;5;241m=\u001b[39mpath_or_buf,\n\u001b[0;32m    997\u001b[0m     lineterminator\u001b[38;5;241m=\u001b[39mlineterminator,\n\u001b[1;32m   (...)\u001b[0m\n\u001b[0;32m   1012\u001b[0m     formatter\u001b[38;5;241m=\u001b[39m\u001b[38;5;28mself\u001b[39m\u001b[38;5;241m.\u001b[39mfmt,\n\u001b[0;32m   1013\u001b[0m )\n\u001b[1;32m-> 1014\u001b[0m \u001b[43mcsv_formatter\u001b[49m\u001b[38;5;241;43m.\u001b[39;49m\u001b[43msave\u001b[49m\u001b[43m(\u001b[49m\u001b[43m)\u001b[49m\n\u001b[0;32m   1016\u001b[0m \u001b[38;5;28;01mif\u001b[39;00m created_buffer:\n\u001b[0;32m   1017\u001b[0m     \u001b[38;5;28;01massert\u001b[39;00m \u001b[38;5;28misinstance\u001b[39m(path_or_buf, StringIO)\n",
      "File \u001b[1;32mc:\\Users\\TUF Gaming - FX506HF\\AppData\\Local\\Programs\\Python\\Python312\\Lib\\site-packages\\pandas\\io\\formats\\csvs.py:251\u001b[0m, in \u001b[0;36mCSVFormatter.save\u001b[1;34m(self)\u001b[0m\n\u001b[0;32m    247\u001b[0m \u001b[38;5;250m\u001b[39m\u001b[38;5;124;03m\"\"\"\u001b[39;00m\n\u001b[0;32m    248\u001b[0m \u001b[38;5;124;03mCreate the writer & save.\u001b[39;00m\n\u001b[0;32m    249\u001b[0m \u001b[38;5;124;03m\"\"\"\u001b[39;00m\n\u001b[0;32m    250\u001b[0m \u001b[38;5;66;03m# apply compression and byte/text conversion\u001b[39;00m\n\u001b[1;32m--> 251\u001b[0m \u001b[38;5;28;01mwith\u001b[39;00m \u001b[43mget_handle\u001b[49m\u001b[43m(\u001b[49m\n\u001b[0;32m    252\u001b[0m \u001b[43m    \u001b[49m\u001b[38;5;28;43mself\u001b[39;49m\u001b[38;5;241;43m.\u001b[39;49m\u001b[43mfilepath_or_buffer\u001b[49m\u001b[43m,\u001b[49m\n\u001b[0;32m    253\u001b[0m \u001b[43m    \u001b[49m\u001b[38;5;28;43mself\u001b[39;49m\u001b[38;5;241;43m.\u001b[39;49m\u001b[43mmode\u001b[49m\u001b[43m,\u001b[49m\n\u001b[0;32m    254\u001b[0m \u001b[43m    \u001b[49m\u001b[43mencoding\u001b[49m\u001b[38;5;241;43m=\u001b[39;49m\u001b[38;5;28;43mself\u001b[39;49m\u001b[38;5;241;43m.\u001b[39;49m\u001b[43mencoding\u001b[49m\u001b[43m,\u001b[49m\n\u001b[0;32m    255\u001b[0m \u001b[43m    \u001b[49m\u001b[43merrors\u001b[49m\u001b[38;5;241;43m=\u001b[39;49m\u001b[38;5;28;43mself\u001b[39;49m\u001b[38;5;241;43m.\u001b[39;49m\u001b[43merrors\u001b[49m\u001b[43m,\u001b[49m\n\u001b[0;32m    256\u001b[0m \u001b[43m    \u001b[49m\u001b[43mcompression\u001b[49m\u001b[38;5;241;43m=\u001b[39;49m\u001b[38;5;28;43mself\u001b[39;49m\u001b[38;5;241;43m.\u001b[39;49m\u001b[43mcompression\u001b[49m\u001b[43m,\u001b[49m\n\u001b[0;32m    257\u001b[0m \u001b[43m    \u001b[49m\u001b[43mstorage_options\u001b[49m\u001b[38;5;241;43m=\u001b[39;49m\u001b[38;5;28;43mself\u001b[39;49m\u001b[38;5;241;43m.\u001b[39;49m\u001b[43mstorage_options\u001b[49m\u001b[43m,\u001b[49m\n\u001b[0;32m    258\u001b[0m \u001b[43m\u001b[49m\u001b[43m)\u001b[49m \u001b[38;5;28;01mas\u001b[39;00m handles:\n\u001b[0;32m    259\u001b[0m     \u001b[38;5;66;03m# Note: self.encoding is irrelevant here\u001b[39;00m\n\u001b[0;32m    260\u001b[0m     \u001b[38;5;28mself\u001b[39m\u001b[38;5;241m.\u001b[39mwriter \u001b[38;5;241m=\u001b[39m csvlib\u001b[38;5;241m.\u001b[39mwriter(\n\u001b[0;32m    261\u001b[0m         handles\u001b[38;5;241m.\u001b[39mhandle,\n\u001b[0;32m    262\u001b[0m         lineterminator\u001b[38;5;241m=\u001b[39m\u001b[38;5;28mself\u001b[39m\u001b[38;5;241m.\u001b[39mlineterminator,\n\u001b[1;32m   (...)\u001b[0m\n\u001b[0;32m    267\u001b[0m         quotechar\u001b[38;5;241m=\u001b[39m\u001b[38;5;28mself\u001b[39m\u001b[38;5;241m.\u001b[39mquotechar,\n\u001b[0;32m    268\u001b[0m     )\n\u001b[0;32m    270\u001b[0m     \u001b[38;5;28mself\u001b[39m\u001b[38;5;241m.\u001b[39m_save()\n",
      "File \u001b[1;32mc:\\Users\\TUF Gaming - FX506HF\\AppData\\Local\\Programs\\Python\\Python312\\Lib\\site-packages\\pandas\\io\\common.py:873\u001b[0m, in \u001b[0;36mget_handle\u001b[1;34m(path_or_buf, mode, encoding, compression, memory_map, is_text, errors, storage_options)\u001b[0m\n\u001b[0;32m    868\u001b[0m \u001b[38;5;28;01melif\u001b[39;00m \u001b[38;5;28misinstance\u001b[39m(handle, \u001b[38;5;28mstr\u001b[39m):\n\u001b[0;32m    869\u001b[0m     \u001b[38;5;66;03m# Check whether the filename is to be opened in binary mode.\u001b[39;00m\n\u001b[0;32m    870\u001b[0m     \u001b[38;5;66;03m# Binary mode does not support 'encoding' and 'newline'.\u001b[39;00m\n\u001b[0;32m    871\u001b[0m     \u001b[38;5;28;01mif\u001b[39;00m ioargs\u001b[38;5;241m.\u001b[39mencoding \u001b[38;5;129;01mand\u001b[39;00m \u001b[38;5;124m\"\u001b[39m\u001b[38;5;124mb\u001b[39m\u001b[38;5;124m\"\u001b[39m \u001b[38;5;129;01mnot\u001b[39;00m \u001b[38;5;129;01min\u001b[39;00m ioargs\u001b[38;5;241m.\u001b[39mmode:\n\u001b[0;32m    872\u001b[0m         \u001b[38;5;66;03m# Encoding\u001b[39;00m\n\u001b[1;32m--> 873\u001b[0m         handle \u001b[38;5;241m=\u001b[39m \u001b[38;5;28;43mopen\u001b[39;49m\u001b[43m(\u001b[49m\n\u001b[0;32m    874\u001b[0m \u001b[43m            \u001b[49m\u001b[43mhandle\u001b[49m\u001b[43m,\u001b[49m\n\u001b[0;32m    875\u001b[0m \u001b[43m            \u001b[49m\u001b[43mioargs\u001b[49m\u001b[38;5;241;43m.\u001b[39;49m\u001b[43mmode\u001b[49m\u001b[43m,\u001b[49m\n\u001b[0;32m    876\u001b[0m \u001b[43m            \u001b[49m\u001b[43mencoding\u001b[49m\u001b[38;5;241;43m=\u001b[39;49m\u001b[43mioargs\u001b[49m\u001b[38;5;241;43m.\u001b[39;49m\u001b[43mencoding\u001b[49m\u001b[43m,\u001b[49m\n\u001b[0;32m    877\u001b[0m \u001b[43m            \u001b[49m\u001b[43merrors\u001b[49m\u001b[38;5;241;43m=\u001b[39;49m\u001b[43merrors\u001b[49m\u001b[43m,\u001b[49m\n\u001b[0;32m    878\u001b[0m \u001b[43m            \u001b[49m\u001b[43mnewline\u001b[49m\u001b[38;5;241;43m=\u001b[39;49m\u001b[38;5;124;43m\"\u001b[39;49m\u001b[38;5;124;43m\"\u001b[39;49m\u001b[43m,\u001b[49m\n\u001b[0;32m    879\u001b[0m \u001b[43m        \u001b[49m\u001b[43m)\u001b[49m\n\u001b[0;32m    880\u001b[0m     \u001b[38;5;28;01melse\u001b[39;00m:\n\u001b[0;32m    881\u001b[0m         \u001b[38;5;66;03m# Binary mode\u001b[39;00m\n\u001b[0;32m    882\u001b[0m         handle \u001b[38;5;241m=\u001b[39m \u001b[38;5;28mopen\u001b[39m(handle, ioargs\u001b[38;5;241m.\u001b[39mmode)\n",
      "\u001b[1;31mPermissionError\u001b[0m: [Errno 13] Permission denied: 'datasets-jadi.csv'"
     ]
    }
   ],
   "source": [
    "datasets.to_csv('datasets-jadi.csv', index=False)"
   ]
  },
  {
   "cell_type": "markdown",
   "metadata": {},
   "source": [
    "KARENA DARI USIA HINNGA RIW DM SUDAH MENJADI ARRAY melanjutkan dengan template Data Processing "
   ]
  },
  {
   "cell_type": "code",
   "execution_count": 171,
   "metadata": {},
   "outputs": [],
   "source": [
    "import numpy as np\n",
    "import  pandas as pd\n",
    "import matplotlib.pyplot as  plt"
   ]
  },
  {
   "cell_type": "markdown",
   "metadata": {},
   "source": [
    "Import Dataset\n",
    "untuk X yang dipilih mulai dari kolom 3 (umur) hingga kolom terakhir kecuali kolom 4(PE,non PE) karena PE/non PE merupakan indikasi akhir yang menunjukan hasil akhir  dari data yang telah diolah. Jadi, data yang diambil adalah data yang berhubungan\n",
    "untuk y yang dipilih dari kolom 5 (PE,non  PE) karena ini merupakan indikasi akhir yang menunjukan hasil akhir dari data "
   ]
  },
  {
   "cell_type": "code",
   "execution_count": 183,
   "metadata": {},
   "outputs": [],
   "source": [
    "dataset = pd.read_csv('datasets-jadi.csv')\n",
    "X = dataset.iloc[:, 2:-4].values\n",
    "y  = dataset.iloc[:, 5:].values\n"
   ]
  },
  {
   "cell_type": "code",
   "execution_count": 182,
   "metadata": {},
   "outputs": [
    {
     "name": "stdout",
     "output_type": "stream",
     "text": [
      "[[23.  3.  0. ...  1.  0.  1.]\n",
      " [29.  2.  0. ...  0.  0.  1.]\n",
      " [20.  1.  2. ...  1.  0.  1.]\n",
      " ...\n",
      " [41.  3.  1. ...  1.  0.  1.]\n",
      " [32.  2.  1. ...  1.  0.  1.]\n",
      " [30.  2.  1. ...  1.  0.  1.]]\n"
     ]
    }
   ],
   "source": [
    "print(X)"
   ]
  },
  {
   "cell_type": "code",
   "execution_count": 184,
   "metadata": {},
   "outputs": [
    {
     "name": "stdout",
     "output_type": "stream",
     "text": [
      "[[0. 1. 0. ... 0. 0. 1.]\n",
      " [1. 1. 0. ... 0. 1. 0.]\n",
      " [0. 1. 0. ... 0. 1. 0.]\n",
      " ...\n",
      " [0. 1. 0. ... 0. 1. 0.]\n",
      " [0. 1. 0. ... 0. 1. 0.]\n",
      " [0. 1. 0. ... 0. 1. 0.]]\n"
     ]
    }
   ],
   "source": [
    "print(y)"
   ]
  },
  {
   "cell_type": "markdown",
   "metadata": {},
   "source": [
    "membagi dataset ke dalam training set dan test set"
   ]
  },
  {
   "cell_type": "code",
   "execution_count": 185,
   "metadata": {},
   "outputs": [],
   "source": [
    "from sklearn.model_selection import train_test_split\n",
    "X_train, X_test, y_train, y_test = train_test_split(X,y,test_size=0.2, random_state=1)"
   ]
  },
  {
   "cell_type": "code",
   "execution_count": 186,
   "metadata": {},
   "outputs": [
    {
     "name": "stdout",
     "output_type": "stream",
     "text": [
      "[[22.  1.  2. ...  1.  0.  1.]\n",
      " [29.  2.  1. ...  1.  0.  1.]\n",
      " [38.  2.  1. ...  1.  0.  1.]\n",
      " ...\n",
      " [27.  3.  0. ...  1.  0.  1.]\n",
      " [31.  0.  2. ...  1.  0.  1.]\n",
      " [33.  3.  1. ...  1.  0.  1.]]\n"
     ]
    }
   ],
   "source": [
    "print(X_train)"
   ]
  },
  {
   "cell_type": "code",
   "execution_count": 187,
   "metadata": {},
   "outputs": [
    {
     "name": "stdout",
     "output_type": "stream",
     "text": [
      "[[21.  1.  2. ...  1.  0.  1.]\n",
      " [24.  2.  0. ...  1.  0.  1.]\n",
      " [41.  4.  1. ...  1.  0.  1.]\n",
      " ...\n",
      " [24.  0.  2. ...  1.  0.  1.]\n",
      " [34.  3.  1. ...  1.  0.  1.]\n",
      " [27.  1.  2. ...  1.  0.  1.]]\n"
     ]
    }
   ],
   "source": [
    "print(X_test)"
   ]
  },
  {
   "cell_type": "code",
   "execution_count": 188,
   "metadata": {},
   "outputs": [
    {
     "name": "stdout",
     "output_type": "stream",
     "text": [
      "[[0. 1. 0. ... 0. 1. 0.]\n",
      " [0. 1. 0. ... 0. 1. 0.]\n",
      " [0. 1. 0. ... 0. 1. 0.]\n",
      " ...\n",
      " [0. 1. 0. ... 0. 1. 0.]\n",
      " [0. 1. 0. ... 0. 1. 0.]\n",
      " [0. 0. 1. ... 0. 1. 0.]]\n"
     ]
    }
   ],
   "source": [
    "print(y_train)"
   ]
  },
  {
   "cell_type": "code",
   "execution_count": 189,
   "metadata": {},
   "outputs": [
    {
     "name": "stdout",
     "output_type": "stream",
     "text": [
      "[[0. 1. 0. ... 0. 1. 0.]\n",
      " [0. 1. 0. ... 0. 1. 0.]\n",
      " [0. 1. 0. ... 0. 1. 0.]\n",
      " ...\n",
      " [0. 1. 0. ... 0. 1. 0.]\n",
      " [0. 1. 0. ... 0. 1. 0.]\n",
      " [0. 1. 0. ... 0. 1. 0.]]\n"
     ]
    }
   ],
   "source": [
    "print(y_test)"
   ]
  },
  {
   "cell_type": "markdown",
   "metadata": {},
   "source": [
    "feature scalling "
   ]
  },
  {
   "cell_type": "markdown",
   "metadata": {},
   "source": [
    "kode X_train[:,3:] = sc.fit_transform(X_train[:,3:]) melakukan hal-hal berikut:\n",
    "\n",
    "Memilih kolom-kolom mulai dari kolom ke-4 sampai akhir dari X_train.\n",
    "Melakukan fitting pada data tersebut menggunakan objek sc.\n",
    "Melakukan transformasi pada data tersebut menggunakan objek sc.\n",
    "Menyimpan hasil transformasi tersebut kembali ke kolom-kolom yang sama pada X_train."
   ]
  },
  {
   "cell_type": "code",
   "execution_count": null,
   "metadata": {},
   "outputs": [],
   "source": [
    "#from sklearn.preprocessing import StandardScaler\n",
    "#sc = StandardScaler()\n",
    "#X_train[:,3:] = sc.fit_transform(X_train[:,3:])\n",
    "#X_test[:, 3:] = sc.transform(X_test[:,3:])\n"
   ]
  },
  {
   "cell_type": "markdown",
   "metadata": {},
   "source": [
    "MEMASUKAN XTRAIN"
   ]
  },
  {
   "cell_type": "code",
   "execution_count": 194,
   "metadata": {},
   "outputs": [],
   "source": [
    "from sklearn.preprocessing import StandardScaler\n",
    "sc = StandardScaler()\n",
    "X_train = sc.fit_transform(X_train)\n",
    "X_test  = sc.transform(X_test)\n"
   ]
  },
  {
   "cell_type": "code",
   "execution_count": 195,
   "metadata": {},
   "outputs": [
    {
     "name": "stdout",
     "output_type": "stream",
     "text": [
      "[[-1.08533724 -0.68682568  0.93590447 ...  0.14318219 -0.0949158\n",
      "   0.0949158 ]\n",
      " [ 0.14316477  0.28999306 -0.45245713 ...  0.14318219 -0.0949158\n",
      "   0.0949158 ]\n",
      " [ 1.72266734  0.28999306 -0.45245713 ...  0.14318219 -0.0949158\n",
      "   0.0949158 ]\n",
      " ...\n",
      " [-0.20783581  1.2668118  -1.84081872 ...  0.14318219 -0.0949158\n",
      "   0.0949158 ]\n",
      " [ 0.49416534 -1.66364441  0.93590447 ...  0.14318219 -0.0949158\n",
      "   0.0949158 ]\n",
      " [ 0.84516591  1.2668118  -0.45245713 ...  0.14318219 -0.0949158\n",
      "   0.0949158 ]]\n"
     ]
    }
   ],
   "source": [
    "print(X_train)"
   ]
  },
  {
   "cell_type": "code",
   "execution_count": 196,
   "metadata": {},
   "outputs": [
    {
     "name": "stdout",
     "output_type": "stream",
     "text": [
      "[[ 2.10000000e+01  1.00000000e+00  2.00000000e+00 ...  1.00000000e+00\n",
      "   2.84990285e-17  1.00000000e+00]\n",
      " [ 2.40000000e+01  2.00000000e+00  5.30329748e-17 ...  1.00000000e+00\n",
      "   2.84990285e-17  1.00000000e+00]\n",
      " [ 4.10000000e+01  4.00000000e+00  1.00000000e+00 ...  1.00000000e+00\n",
      "   2.84990285e-17  1.00000000e+00]\n",
      " ...\n",
      " [ 2.40000000e+01 -8.02929152e-17  2.00000000e+00 ...  1.00000000e+00\n",
      "   2.84990285e-17  1.00000000e+00]\n",
      " [ 3.40000000e+01  3.00000000e+00  1.00000000e+00 ...  1.00000000e+00\n",
      "   2.84990285e-17  1.00000000e+00]\n",
      " [ 2.70000000e+01  1.00000000e+00  2.00000000e+00 ...  1.00000000e+00\n",
      "   2.84990285e-17  1.00000000e+00]]\n"
     ]
    }
   ],
   "source": [
    "print(X_test)"
   ]
  }
 ],
 "metadata": {
  "kernelspec": {
   "display_name": "Python 3",
   "language": "python",
   "name": "python3"
  },
  "language_info": {
   "codemirror_mode": {
    "name": "ipython",
    "version": 3
   },
   "file_extension": ".py",
   "mimetype": "text/x-python",
   "name": "python",
   "nbconvert_exporter": "python",
   "pygments_lexer": "ipython3",
   "version": "3.12.5"
  }
 },
 "nbformat": 4,
 "nbformat_minor": 2
}
