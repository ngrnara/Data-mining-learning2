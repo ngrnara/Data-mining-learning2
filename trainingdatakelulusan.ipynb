{
 "cells": [
  {
   "cell_type": "markdown",
   "metadata": {},
   "source": [
    "PRA PEMROSESAN DATA KELULUSAN MAHASISWA"
   ]
  },
  {
   "cell_type": "markdown",
   "metadata": {},
   "source": [
    "LIBRARY YANG DIGUNAKAN\n",
    "1. Library yang digunakan adalah library pandas untuk mengolah data.\n",
    "2. Library yang digunakan adalah library matplotlib untuk membuat grafik.\n",
    "3. Library yang digunakan adalah library numpy untuk melakukan operasi matematika.\n",
    "4. Library yang digunakan adalah library seaborn untuk membuat grafik yang lebih menarik.\n",
    "5. Library yang digunakan adalah library scikit-learn untuk melakukan analisis data."
   ]
  },
  {
   "cell_type": "code",
   "execution_count": 213,
   "metadata": {},
   "outputs": [],
   "source": [
    "import numpy as np\n",
    "import matplotlib.pyplot as plt\n",
    "import pandas as pd\n",
    "import seaborn as sns\n",
    "from sklearn.impute import SimpleImputer"
   ]
  },
  {
   "cell_type": "markdown",
   "metadata": {},
   "source": [
    "Load atau memanggil dataset"
   ]
  },
  {
   "cell_type": "code",
   "execution_count": 219,
   "metadata": {},
   "outputs": [
    {
     "data": {
      "text/html": [
       "<div>\n",
       "<style scoped>\n",
       "    .dataframe tbody tr th:only-of-type {\n",
       "        vertical-align: middle;\n",
       "    }\n",
       "\n",
       "    .dataframe tbody tr th {\n",
       "        vertical-align: top;\n",
       "    }\n",
       "\n",
       "    .dataframe thead th {\n",
       "        text-align: right;\n",
       "    }\n",
       "</style>\n",
       "<table border=\"1\" class=\"dataframe\">\n",
       "  <thead>\n",
       "    <tr style=\"text-align: right;\">\n",
       "      <th></th>\n",
       "      <th>NAMA</th>\n",
       "      <th>JENIS KELAMIN</th>\n",
       "      <th>STATUS MAHASISWA</th>\n",
       "      <th>UMUR</th>\n",
       "      <th>STATUS NIKAH</th>\n",
       "      <th>IPS 1</th>\n",
       "      <th>IPS 2</th>\n",
       "      <th>IPS 3</th>\n",
       "      <th>IPS 4</th>\n",
       "      <th>IPS 5</th>\n",
       "      <th>IPS 6</th>\n",
       "      <th>IPS 7</th>\n",
       "      <th>IPS 8</th>\n",
       "      <th>IPK</th>\n",
       "      <th>STATUS KELULUSAN</th>\n",
       "    </tr>\n",
       "  </thead>\n",
       "  <tbody>\n",
       "    <tr>\n",
       "      <th>0</th>\n",
       "      <td>ANIK WIDAYANTI</td>\n",
       "      <td>PEREMPUAN</td>\n",
       "      <td>BEKERJA</td>\n",
       "      <td>28</td>\n",
       "      <td>BELUM MENIKAH</td>\n",
       "      <td>2.76</td>\n",
       "      <td>2.80</td>\n",
       "      <td>3.20</td>\n",
       "      <td>3.17</td>\n",
       "      <td>2.98</td>\n",
       "      <td>3.00</td>\n",
       "      <td>3.03</td>\n",
       "      <td>0.0</td>\n",
       "      <td>3.07</td>\n",
       "      <td>TERLAMBAT</td>\n",
       "    </tr>\n",
       "    <tr>\n",
       "      <th>1</th>\n",
       "      <td>DWI HESTYNA PRIHASTANTY</td>\n",
       "      <td>PEREMPUAN</td>\n",
       "      <td>MAHASISWA</td>\n",
       "      <td>32</td>\n",
       "      <td>BELUM MENIKAH</td>\n",
       "      <td>3.00</td>\n",
       "      <td>3.30</td>\n",
       "      <td>3.14</td>\n",
       "      <td>3.14</td>\n",
       "      <td>2.84</td>\n",
       "      <td>3.13</td>\n",
       "      <td>3.25</td>\n",
       "      <td>0.0</td>\n",
       "      <td>3.17</td>\n",
       "      <td>TERLAMBAT</td>\n",
       "    </tr>\n",
       "    <tr>\n",
       "      <th>2</th>\n",
       "      <td>MURYA ARIEF BASUKI</td>\n",
       "      <td>PEREMPUAN</td>\n",
       "      <td>BEKERJA</td>\n",
       "      <td>29</td>\n",
       "      <td>BELUM MENIKAH</td>\n",
       "      <td>3.50</td>\n",
       "      <td>3.30</td>\n",
       "      <td>3.70</td>\n",
       "      <td>3.29</td>\n",
       "      <td>3.53</td>\n",
       "      <td>3.72</td>\n",
       "      <td>3.73</td>\n",
       "      <td>0.0</td>\n",
       "      <td>3.54</td>\n",
       "      <td>TERLAMBAT</td>\n",
       "    </tr>\n",
       "    <tr>\n",
       "      <th>3</th>\n",
       "      <td>NANIK SUSANTI</td>\n",
       "      <td>PEREMPUAN</td>\n",
       "      <td>MAHASISWA</td>\n",
       "      <td>27</td>\n",
       "      <td>BELUM MENIKAH</td>\n",
       "      <td>3.17</td>\n",
       "      <td>3.41</td>\n",
       "      <td>3.61</td>\n",
       "      <td>3.36</td>\n",
       "      <td>3.48</td>\n",
       "      <td>3.63</td>\n",
       "      <td>3.46</td>\n",
       "      <td>0.0</td>\n",
       "      <td>3.41</td>\n",
       "      <td>TERLAMBAT</td>\n",
       "    </tr>\n",
       "    <tr>\n",
       "      <th>4</th>\n",
       "      <td>RIFKA ISTIQFARINA</td>\n",
       "      <td>PEREMPUAN</td>\n",
       "      <td>BEKERJA</td>\n",
       "      <td>29</td>\n",
       "      <td>BELUM MENIKAH</td>\n",
       "      <td>2.90</td>\n",
       "      <td>2.89</td>\n",
       "      <td>3.30</td>\n",
       "      <td>2.85</td>\n",
       "      <td>2.98</td>\n",
       "      <td>3.00</td>\n",
       "      <td>3.08</td>\n",
       "      <td>0.0</td>\n",
       "      <td>3.09</td>\n",
       "      <td>TERLAMBAT</td>\n",
       "    </tr>\n",
       "    <tr>\n",
       "      <th>...</th>\n",
       "      <td>...</td>\n",
       "      <td>...</td>\n",
       "      <td>...</td>\n",
       "      <td>...</td>\n",
       "      <td>...</td>\n",
       "      <td>...</td>\n",
       "      <td>...</td>\n",
       "      <td>...</td>\n",
       "      <td>...</td>\n",
       "      <td>...</td>\n",
       "      <td>...</td>\n",
       "      <td>...</td>\n",
       "      <td>...</td>\n",
       "      <td>...</td>\n",
       "      <td>...</td>\n",
       "    </tr>\n",
       "    <tr>\n",
       "      <th>374</th>\n",
       "      <td>ARY JULI SETIYANTO</td>\n",
       "      <td>LAKI - LAKI</td>\n",
       "      <td>MAHASISWA</td>\n",
       "      <td>23</td>\n",
       "      <td>BELUM MENIKAH</td>\n",
       "      <td>1.98</td>\n",
       "      <td>2.50</td>\n",
       "      <td>2.14</td>\n",
       "      <td>2.77</td>\n",
       "      <td>2.61</td>\n",
       "      <td>2.93</td>\n",
       "      <td>2.82</td>\n",
       "      <td>2.5</td>\n",
       "      <td>0.99</td>\n",
       "      <td>TEPAT</td>\n",
       "    </tr>\n",
       "    <tr>\n",
       "      <th>375</th>\n",
       "      <td>RINA ZAHROTUL UMAMI</td>\n",
       "      <td>PEREMPUAN</td>\n",
       "      <td>BEKERJA</td>\n",
       "      <td>23</td>\n",
       "      <td>BELUM MENIKAH</td>\n",
       "      <td>2.74</td>\n",
       "      <td>2.75</td>\n",
       "      <td>2.55</td>\n",
       "      <td>3.00</td>\n",
       "      <td>2.98</td>\n",
       "      <td>2.80</td>\n",
       "      <td>3.14</td>\n",
       "      <td>3.0</td>\n",
       "      <td>2.97</td>\n",
       "      <td>TEPAT</td>\n",
       "    </tr>\n",
       "    <tr>\n",
       "      <th>376</th>\n",
       "      <td>TULISA WAHYUHADI KRISNATAMI</td>\n",
       "      <td>PEREMPUAN</td>\n",
       "      <td>MAHASISWA</td>\n",
       "      <td>23</td>\n",
       "      <td>BELUM MENIKAH</td>\n",
       "      <td>2.74</td>\n",
       "      <td>2.75</td>\n",
       "      <td>2.55</td>\n",
       "      <td>3.00</td>\n",
       "      <td>2.98</td>\n",
       "      <td>2.80</td>\n",
       "      <td>3.14</td>\n",
       "      <td>3.0</td>\n",
       "      <td>3.03</td>\n",
       "      <td>TEPAT</td>\n",
       "    </tr>\n",
       "    <tr>\n",
       "      <th>377</th>\n",
       "      <td>NI'MATUL JANNAH</td>\n",
       "      <td>PEREMPUAN</td>\n",
       "      <td>MAHASISWA</td>\n",
       "      <td>23</td>\n",
       "      <td>BELUM MENIKAH</td>\n",
       "      <td>3.02</td>\n",
       "      <td>2.94</td>\n",
       "      <td>3.25</td>\n",
       "      <td>2.87</td>\n",
       "      <td>3.00</td>\n",
       "      <td>2.94</td>\n",
       "      <td>3.09</td>\n",
       "      <td>3.0</td>\n",
       "      <td>3.16</td>\n",
       "      <td>TEPAT</td>\n",
       "    </tr>\n",
       "    <tr>\n",
       "      <th>378</th>\n",
       "      <td>DINDU SETYO WICAKSONO</td>\n",
       "      <td>LAKI - LAKI</td>\n",
       "      <td>MAHASISWA</td>\n",
       "      <td>23</td>\n",
       "      <td>BELUM MENIKAH</td>\n",
       "      <td>3.10</td>\n",
       "      <td>3.06</td>\n",
       "      <td>3.00</td>\n",
       "      <td>3.23</td>\n",
       "      <td>2.79</td>\n",
       "      <td>3.00</td>\n",
       "      <td>2.41</td>\n",
       "      <td>3.0</td>\n",
       "      <td>2.16</td>\n",
       "      <td>TEPAT</td>\n",
       "    </tr>\n",
       "  </tbody>\n",
       "</table>\n",
       "<p>379 rows × 15 columns</p>\n",
       "</div>"
      ],
      "text/plain": [
       "                            NAMA JENIS KELAMIN STATUS MAHASISWA  UMUR  \\\n",
       "0                 ANIK WIDAYANTI     PEREMPUAN          BEKERJA    28   \n",
       "1        DWI HESTYNA PRIHASTANTY     PEREMPUAN        MAHASISWA    32   \n",
       "2             MURYA ARIEF BASUKI     PEREMPUAN          BEKERJA    29   \n",
       "3                  NANIK SUSANTI     PEREMPUAN        MAHASISWA    27   \n",
       "4              RIFKA ISTIQFARINA     PEREMPUAN          BEKERJA    29   \n",
       "..                           ...           ...              ...   ...   \n",
       "374           ARY JULI SETIYANTO   LAKI - LAKI        MAHASISWA    23   \n",
       "375          RINA ZAHROTUL UMAMI     PEREMPUAN          BEKERJA    23   \n",
       "376  TULISA WAHYUHADI KRISNATAMI     PEREMPUAN        MAHASISWA    23   \n",
       "377              NI'MATUL JANNAH     PEREMPUAN        MAHASISWA    23   \n",
       "378        DINDU SETYO WICAKSONO   LAKI - LAKI        MAHASISWA    23   \n",
       "\n",
       "      STATUS NIKAH  IPS 1  IPS 2  IPS 3  IPS 4  IPS 5  IPS 6  IPS 7  IPS 8  \\\n",
       "0    BELUM MENIKAH   2.76   2.80   3.20   3.17   2.98   3.00   3.03    0.0   \n",
       "1    BELUM MENIKAH   3.00   3.30   3.14   3.14   2.84   3.13   3.25    0.0   \n",
       "2    BELUM MENIKAH   3.50   3.30   3.70   3.29   3.53   3.72   3.73    0.0   \n",
       "3    BELUM MENIKAH   3.17   3.41   3.61   3.36   3.48   3.63   3.46    0.0   \n",
       "4    BELUM MENIKAH   2.90   2.89   3.30   2.85   2.98   3.00   3.08    0.0   \n",
       "..             ...    ...    ...    ...    ...    ...    ...    ...    ...   \n",
       "374  BELUM MENIKAH   1.98   2.50   2.14   2.77   2.61   2.93   2.82    2.5   \n",
       "375  BELUM MENIKAH   2.74   2.75   2.55   3.00   2.98   2.80   3.14    3.0   \n",
       "376  BELUM MENIKAH   2.74   2.75   2.55   3.00   2.98   2.80   3.14    3.0   \n",
       "377  BELUM MENIKAH   3.02   2.94   3.25   2.87   3.00   2.94   3.09    3.0   \n",
       "378  BELUM MENIKAH   3.10   3.06   3.00   3.23   2.79   3.00   2.41    3.0   \n",
       "\n",
       "     IPK  STATUS KELULUSAN  \n",
       "0    3.07        TERLAMBAT  \n",
       "1    3.17        TERLAMBAT  \n",
       "2    3.54        TERLAMBAT  \n",
       "3    3.41        TERLAMBAT  \n",
       "4    3.09        TERLAMBAT  \n",
       "..    ...              ...  \n",
       "374  0.99            TEPAT  \n",
       "375  2.97            TEPAT  \n",
       "376  3.03            TEPAT  \n",
       "377  3.16            TEPAT  \n",
       "378  2.16            TEPAT  \n",
       "\n",
       "[379 rows x 15 columns]"
      ]
     },
     "execution_count": 219,
     "metadata": {},
     "output_type": "execute_result"
    }
   ],
   "source": [
    "datasets = pd.read_excel('datakelulusanmahasiswa.xls')\n",
    "datasets"
   ]
  },
  {
   "cell_type": "markdown",
   "metadata": {},
   "source": [
    "menamplikan 5 bari data paling atas"
   ]
  },
  {
   "cell_type": "code",
   "execution_count": 220,
   "metadata": {},
   "outputs": [
    {
     "data": {
      "text/html": [
       "<div>\n",
       "<style scoped>\n",
       "    .dataframe tbody tr th:only-of-type {\n",
       "        vertical-align: middle;\n",
       "    }\n",
       "\n",
       "    .dataframe tbody tr th {\n",
       "        vertical-align: top;\n",
       "    }\n",
       "\n",
       "    .dataframe thead th {\n",
       "        text-align: right;\n",
       "    }\n",
       "</style>\n",
       "<table border=\"1\" class=\"dataframe\">\n",
       "  <thead>\n",
       "    <tr style=\"text-align: right;\">\n",
       "      <th></th>\n",
       "      <th>NAMA</th>\n",
       "      <th>JENIS KELAMIN</th>\n",
       "      <th>STATUS MAHASISWA</th>\n",
       "      <th>UMUR</th>\n",
       "      <th>STATUS NIKAH</th>\n",
       "      <th>IPS 1</th>\n",
       "      <th>IPS 2</th>\n",
       "      <th>IPS 3</th>\n",
       "      <th>IPS 4</th>\n",
       "      <th>IPS 5</th>\n",
       "      <th>IPS 6</th>\n",
       "      <th>IPS 7</th>\n",
       "      <th>IPS 8</th>\n",
       "      <th>IPK</th>\n",
       "      <th>STATUS KELULUSAN</th>\n",
       "    </tr>\n",
       "  </thead>\n",
       "  <tbody>\n",
       "    <tr>\n",
       "      <th>0</th>\n",
       "      <td>ANIK WIDAYANTI</td>\n",
       "      <td>PEREMPUAN</td>\n",
       "      <td>BEKERJA</td>\n",
       "      <td>28</td>\n",
       "      <td>BELUM MENIKAH</td>\n",
       "      <td>2.76</td>\n",
       "      <td>2.80</td>\n",
       "      <td>3.20</td>\n",
       "      <td>3.17</td>\n",
       "      <td>2.98</td>\n",
       "      <td>3.00</td>\n",
       "      <td>3.03</td>\n",
       "      <td>0.0</td>\n",
       "      <td>3.07</td>\n",
       "      <td>TERLAMBAT</td>\n",
       "    </tr>\n",
       "    <tr>\n",
       "      <th>1</th>\n",
       "      <td>DWI HESTYNA PRIHASTANTY</td>\n",
       "      <td>PEREMPUAN</td>\n",
       "      <td>MAHASISWA</td>\n",
       "      <td>32</td>\n",
       "      <td>BELUM MENIKAH</td>\n",
       "      <td>3.00</td>\n",
       "      <td>3.30</td>\n",
       "      <td>3.14</td>\n",
       "      <td>3.14</td>\n",
       "      <td>2.84</td>\n",
       "      <td>3.13</td>\n",
       "      <td>3.25</td>\n",
       "      <td>0.0</td>\n",
       "      <td>3.17</td>\n",
       "      <td>TERLAMBAT</td>\n",
       "    </tr>\n",
       "    <tr>\n",
       "      <th>2</th>\n",
       "      <td>MURYA ARIEF BASUKI</td>\n",
       "      <td>PEREMPUAN</td>\n",
       "      <td>BEKERJA</td>\n",
       "      <td>29</td>\n",
       "      <td>BELUM MENIKAH</td>\n",
       "      <td>3.50</td>\n",
       "      <td>3.30</td>\n",
       "      <td>3.70</td>\n",
       "      <td>3.29</td>\n",
       "      <td>3.53</td>\n",
       "      <td>3.72</td>\n",
       "      <td>3.73</td>\n",
       "      <td>0.0</td>\n",
       "      <td>3.54</td>\n",
       "      <td>TERLAMBAT</td>\n",
       "    </tr>\n",
       "    <tr>\n",
       "      <th>3</th>\n",
       "      <td>NANIK SUSANTI</td>\n",
       "      <td>PEREMPUAN</td>\n",
       "      <td>MAHASISWA</td>\n",
       "      <td>27</td>\n",
       "      <td>BELUM MENIKAH</td>\n",
       "      <td>3.17</td>\n",
       "      <td>3.41</td>\n",
       "      <td>3.61</td>\n",
       "      <td>3.36</td>\n",
       "      <td>3.48</td>\n",
       "      <td>3.63</td>\n",
       "      <td>3.46</td>\n",
       "      <td>0.0</td>\n",
       "      <td>3.41</td>\n",
       "      <td>TERLAMBAT</td>\n",
       "    </tr>\n",
       "    <tr>\n",
       "      <th>4</th>\n",
       "      <td>RIFKA ISTIQFARINA</td>\n",
       "      <td>PEREMPUAN</td>\n",
       "      <td>BEKERJA</td>\n",
       "      <td>29</td>\n",
       "      <td>BELUM MENIKAH</td>\n",
       "      <td>2.90</td>\n",
       "      <td>2.89</td>\n",
       "      <td>3.30</td>\n",
       "      <td>2.85</td>\n",
       "      <td>2.98</td>\n",
       "      <td>3.00</td>\n",
       "      <td>3.08</td>\n",
       "      <td>0.0</td>\n",
       "      <td>3.09</td>\n",
       "      <td>TERLAMBAT</td>\n",
       "    </tr>\n",
       "  </tbody>\n",
       "</table>\n",
       "</div>"
      ],
      "text/plain": [
       "                      NAMA JENIS KELAMIN STATUS MAHASISWA  UMUR  \\\n",
       "0           ANIK WIDAYANTI     PEREMPUAN          BEKERJA    28   \n",
       "1  DWI HESTYNA PRIHASTANTY     PEREMPUAN        MAHASISWA    32   \n",
       "2       MURYA ARIEF BASUKI     PEREMPUAN          BEKERJA    29   \n",
       "3            NANIK SUSANTI     PEREMPUAN        MAHASISWA    27   \n",
       "4        RIFKA ISTIQFARINA     PEREMPUAN          BEKERJA    29   \n",
       "\n",
       "    STATUS NIKAH  IPS 1  IPS 2  IPS 3  IPS 4  IPS 5  IPS 6  IPS 7  IPS 8  \\\n",
       "0  BELUM MENIKAH   2.76   2.80   3.20   3.17   2.98   3.00   3.03    0.0   \n",
       "1  BELUM MENIKAH   3.00   3.30   3.14   3.14   2.84   3.13   3.25    0.0   \n",
       "2  BELUM MENIKAH   3.50   3.30   3.70   3.29   3.53   3.72   3.73    0.0   \n",
       "3  BELUM MENIKAH   3.17   3.41   3.61   3.36   3.48   3.63   3.46    0.0   \n",
       "4  BELUM MENIKAH   2.90   2.89   3.30   2.85   2.98   3.00   3.08    0.0   \n",
       "\n",
       "   IPK  STATUS KELULUSAN  \n",
       "0  3.07        TERLAMBAT  \n",
       "1  3.17        TERLAMBAT  \n",
       "2  3.54        TERLAMBAT  \n",
       "3  3.41        TERLAMBAT  \n",
       "4  3.09        TERLAMBAT  "
      ]
     },
     "execution_count": 220,
     "metadata": {},
     "output_type": "execute_result"
    }
   ],
   "source": [
    "datasets.head()"
   ]
  },
  {
   "cell_type": "markdown",
   "metadata": {},
   "source": [
    "menghitung jumlah baris kolom"
   ]
  },
  {
   "cell_type": "code",
   "execution_count": 161,
   "metadata": {},
   "outputs": [
    {
     "data": {
      "text/plain": [
       "(379, 15)"
      ]
     },
     "execution_count": 161,
     "metadata": {},
     "output_type": "execute_result"
    }
   ],
   "source": [
    "datasets.shape"
   ]
  },
  {
   "cell_type": "markdown",
   "metadata": {},
   "source": [
    "memunculkan jumlah atau nilai yang ada di atribut STATUS KELULUSAN"
   ]
  },
  {
   "cell_type": "code",
   "execution_count": 221,
   "metadata": {},
   "outputs": [
    {
     "data": {
      "text/plain": [
       "STATUS KELULUSAN\n",
       "TEPAT        216\n",
       "TERLAMBAT    163\n",
       "Name: count, dtype: int64"
      ]
     },
     "execution_count": 221,
     "metadata": {},
     "output_type": "execute_result"
    }
   ],
   "source": [
    "datasets['STATUS KELULUSAN'].value_counts()"
   ]
  },
  {
   "cell_type": "markdown",
   "metadata": {},
   "source": [
    "KARENA TIDAK ADA KOLOM KOSONG TIDAK PERLU DROP DATASET"
   ]
  },
  {
   "cell_type": "markdown",
   "metadata": {},
   "source": [
    "MEMANGGIL LIST DARI DATASET YANG TERSEDIA BESERTA DESKRIPSI, SIZE DN INFORMASI LAIN"
   ]
  },
  {
   "cell_type": "code",
   "execution_count": 222,
   "metadata": {},
   "outputs": [
    {
     "name": "stdout",
     "output_type": "stream",
     "text": [
      "<class 'pandas.core.frame.DataFrame'>\n",
      "RangeIndex: 379 entries, 0 to 378\n",
      "Data columns (total 15 columns):\n",
      " #   Column            Non-Null Count  Dtype  \n",
      "---  ------            --------------  -----  \n",
      " 0   NAMA              379 non-null    object \n",
      " 1   JENIS KELAMIN     379 non-null    object \n",
      " 2   STATUS MAHASISWA  379 non-null    object \n",
      " 3   UMUR              379 non-null    int64  \n",
      " 4   STATUS NIKAH      379 non-null    object \n",
      " 5   IPS 1             379 non-null    float64\n",
      " 6   IPS 2             379 non-null    float64\n",
      " 7   IPS 3             379 non-null    float64\n",
      " 8   IPS 4             379 non-null    float64\n",
      " 9   IPS 5             379 non-null    float64\n",
      " 10  IPS 6             379 non-null    float64\n",
      " 11  IPS 7             379 non-null    float64\n",
      " 12  IPS 8             372 non-null    float64\n",
      " 13  IPK               376 non-null    float64\n",
      " 14  STATUS KELULUSAN  379 non-null    object \n",
      "dtypes: float64(9), int64(1), object(5)\n",
      "memory usage: 44.5+ KB\n"
     ]
    }
   ],
   "source": [
    "datasets.columns = datasets.columns.str.strip()\n",
    "datasets.info()"
   ]
  },
  {
   "cell_type": "markdown",
   "metadata": {},
   "source": [
    "MEMPERLIHATKAN DATA YANG MEMPUNYAI VALUE NULL"
   ]
  },
  {
   "cell_type": "code",
   "execution_count": 223,
   "metadata": {},
   "outputs": [
    {
     "name": "stdout",
     "output_type": "stream",
     "text": [
      "NAMA                0\n",
      "JENIS KELAMIN       0\n",
      "STATUS MAHASISWA    0\n",
      "UMUR                0\n",
      "STATUS NIKAH        0\n",
      "IPS 1               0\n",
      "IPS 2               0\n",
      "IPS 3               0\n",
      "IPS 4               0\n",
      "IPS 5               0\n",
      "IPS 6               0\n",
      "IPS 7               0\n",
      "IPS 8               7\n",
      "IPK                 3\n",
      "STATUS KELULUSAN    0\n",
      "dtype: int64\n"
     ]
    }
   ],
   "source": [
    "print(datasets.isnull().sum())"
   ]
  },
  {
   "cell_type": "markdown",
   "metadata": {},
   "source": [
    "MENGISI NILAI NAN DENGAN STRING KOSONG DI IPS 8"
   ]
  },
  {
   "cell_type": "code",
   "execution_count": 224,
   "metadata": {},
   "outputs": [],
   "source": [
    "datasets['IPS 8'] = datasets['IPS 8'].fillna('')"
   ]
  },
  {
   "cell_type": "markdown",
   "metadata": {},
   "source": [
    "MENGISI NILAI NAN DENGAN STRING KOSONG DI IPK"
   ]
  },
  {
   "cell_type": "code",
   "execution_count": 225,
   "metadata": {},
   "outputs": [],
   "source": [
    "datasets['IPK'] = datasets['IPK'].fillna('')"
   ]
  },
  {
   "cell_type": "markdown",
   "metadata": {},
   "source": [
    "convert semua value di kolom USIA ke string dan menghitung jumlah value di UMUR"
   ]
  },
  {
   "cell_type": "code",
   "execution_count": 226,
   "metadata": {},
   "outputs": [
    {
     "name": "stdout",
     "output_type": "stream",
     "text": [
      "UMUR\n",
      "24    85\n",
      "25    63\n",
      "23    55\n",
      "27    55\n",
      "26    45\n",
      "28    19\n",
      "29    16\n",
      "32    12\n",
      "30    12\n",
      "22     6\n",
      "31     4\n",
      "50     2\n",
      "42     1\n",
      "47     1\n",
      "41     1\n",
      "36     1\n",
      "40     1\n",
      "Name: count, dtype: int64\n"
     ]
    }
   ],
   "source": [
    "value_counts = datasets['UMUR'].astype(str).value_counts(dropna=False)\n",
    "\n",
    "print(value_counts)"
   ]
  },
  {
   "cell_type": "markdown",
   "metadata": {},
   "source": [
    "mendefinisikan JENIS KELAMIN menjadi value_count dan memunculkan jumlah nilai termasuk NaN"
   ]
  },
  {
   "cell_type": "code",
   "execution_count": 227,
   "metadata": {},
   "outputs": [
    {
     "name": "stdout",
     "output_type": "stream",
     "text": [
      "JENIS KELAMIN\n",
      "LAKI - LAKI    234\n",
      "PEREMPUAN      145\n",
      "Name: count, dtype: int64\n"
     ]
    }
   ],
   "source": [
    "value_counts = datasets['JENIS KELAMIN'].astype(str).value_counts(dropna=False)\n",
    "print(value_counts)"
   ]
  },
  {
   "cell_type": "markdown",
   "metadata": {},
   "source": [
    "Mendefinisikan STATUS MAHASISWA menjadi value_count dan mengubah data menjadi string dan menghitung nilai unik serta memunculkan jumlah value unik"
   ]
  },
  {
   "cell_type": "code",
   "execution_count": 228,
   "metadata": {},
   "outputs": [
    {
     "name": "stdout",
     "output_type": "stream",
     "text": [
      "STATUS MAHASISWA\n",
      "MAHASISWA    246\n",
      "BEKERJA      133\n",
      "Name: count, dtype: int64\n"
     ]
    }
   ],
   "source": [
    "value_counts = datasets['STATUS MAHASISWA'].astype(str).value_counts(dropna=False)\n",
    "\n",
    "print(value_counts)"
   ]
  },
  {
   "cell_type": "markdown",
   "metadata": {},
   "source": [
    "Mendefinisikan STATUS NIKAH menjadi value_count dan mengubah data menjadi string dan menghitung nilai unik serta memunculkan jumlah value unik"
   ]
  },
  {
   "cell_type": "code",
   "execution_count": 229,
   "metadata": {},
   "outputs": [
    {
     "name": "stdout",
     "output_type": "stream",
     "text": [
      "STATUS NIKAH\n",
      "BELUM MENIKAH    371\n",
      "MENIKAH            8\n",
      "Name: count, dtype: int64\n"
     ]
    }
   ],
   "source": [
    "value_counts = datasets['STATUS NIKAH'].astype(str).value_counts(dropna=False)\n",
    "\n",
    "print(value_counts)"
   ]
  },
  {
   "cell_type": "markdown",
   "metadata": {},
   "source": [
    "Mendefinisikan STATUS KELULUSAN menjadi value_count dan mengubah data menjadi string dan menghitung nilai unik serta memunculkan jumlah value unik"
   ]
  },
  {
   "cell_type": "code",
   "execution_count": 230,
   "metadata": {},
   "outputs": [
    {
     "name": "stdout",
     "output_type": "stream",
     "text": [
      "STATUS KELULUSAN\n",
      "TEPAT        216\n",
      "TERLAMBAT    163\n",
      "Name: count, dtype: int64\n"
     ]
    }
   ],
   "source": [
    "value_counts = datasets['STATUS KELULUSAN'].astype(str).value_counts(dropna=False)\n",
    "\n",
    "print(value_counts)"
   ]
  },
  {
   "cell_type": "markdown",
   "metadata": {},
   "source": [
    "menghitung nilai unik serta memunculkan jumlah value unik ips 1"
   ]
  },
  {
   "cell_type": "code",
   "execution_count": 231,
   "metadata": {},
   "outputs": [
    {
     "name": "stdout",
     "output_type": "stream",
     "text": [
      "IPS 1\n",
      "2.76    17\n",
      "3.0     13\n",
      "2.86    13\n",
      "2.55    12\n",
      "2.83    12\n",
      "        ..\n",
      "3.79     1\n",
      "2.19     1\n",
      "1.79     1\n",
      "3.15     1\n",
      "1.98     1\n",
      "Name: count, Length: 78, dtype: int64\n"
     ]
    }
   ],
   "source": [
    "value_counts = datasets['IPS 1'].astype(str).value_counts(dropna=False)\n",
    "\n",
    "print(value_counts)"
   ]
  },
  {
   "cell_type": "markdown",
   "metadata": {},
   "source": [
    "karena IPS 1 masih banyak tipe, maka harus mengkategorikan MENJADI  3 kelompok besar, yaitu:\n",
    "DIATAS >=3\n",
    "DIATAS >=2\n",
    "KURANG DARI 2"
   ]
  },
  {
   "cell_type": "code",
   "execution_count": 232,
   "metadata": {},
   "outputs": [
    {
     "name": "stdout",
     "output_type": "stream",
     "text": [
      "IPS 1\n",
      "DIATAS >=2       241\n",
      "DIATAS >=3       131\n",
      "KURANG DARI 2      7\n",
      "Name: count, dtype: int64\n"
     ]
    }
   ],
   "source": [
    "datasets['IPS 1'] = pd.cut(datasets['IPS 1'], \n",
    "                            bins=[-float('inf'), 2, 3, float('inf')], \n",
    "                            labels=['KURANG DARI 2', 'DIATAS >=2', 'DIATAS >=3'])\n",
    "value_counts = datasets['IPS 1'].astype(str).value_counts(dropna=False)\n",
    "\n",
    "print(value_counts)"
   ]
  },
  {
   "cell_type": "markdown",
   "metadata": {},
   "source": [
    "LAKUKAN HAL YANG SAMA DARI IPS 2 KE 8"
   ]
  },
  {
   "cell_type": "markdown",
   "metadata": {},
   "source": [
    "IPS 2"
   ]
  },
  {
   "cell_type": "code",
   "execution_count": 233,
   "metadata": {},
   "outputs": [
    {
     "name": "stdout",
     "output_type": "stream",
     "text": [
      "IPS 2\n",
      "2.89    10\n",
      "2.75    10\n",
      "3.0      8\n",
      "2.5      8\n",
      "3.23     7\n",
      "        ..\n",
      "2.24     1\n",
      "2.34     1\n",
      "3.29     1\n",
      "3.31     1\n",
      "3.21     1\n",
      "Name: count, Length: 135, dtype: int64\n"
     ]
    }
   ],
   "source": [
    "value_counts = datasets['IPS 2'].astype(str).value_counts(dropna=False)\n",
    "\n",
    "print(value_counts)"
   ]
  },
  {
   "cell_type": "code",
   "execution_count": 234,
   "metadata": {},
   "outputs": [
    {
     "name": "stdout",
     "output_type": "stream",
     "text": [
      "IPS 2\n",
      "DIATAS >=2       229\n",
      "DIATAS >=3       132\n",
      "KURANG DARI 2     18\n",
      "Name: count, dtype: int64\n"
     ]
    }
   ],
   "source": [
    "datasets['IPS 2'] = pd.cut(datasets['IPS 2'], \n",
    "                            bins=[-float('inf'), 2, 3, float('inf')], \n",
    "                            labels=['KURANG DARI 2', 'DIATAS >=2', 'DIATAS >=3'])\n",
    "value_counts = datasets['IPS 2'].astype(str).value_counts(dropna=False)\n",
    "\n",
    "print(value_counts)"
   ]
  },
  {
   "cell_type": "markdown",
   "metadata": {},
   "source": [
    "IPS 3"
   ]
  },
  {
   "cell_type": "code",
   "execution_count": 235,
   "metadata": {},
   "outputs": [
    {
     "name": "stdout",
     "output_type": "stream",
     "text": [
      "IPS 3\n",
      "3.25    11\n",
      "3.2      7\n",
      "3.02     7\n",
      "3.0      7\n",
      "3.11     7\n",
      "        ..\n",
      "2.86     1\n",
      "2.34     1\n",
      "2.38     1\n",
      "3.08     1\n",
      "3.33     1\n",
      "Name: count, Length: 146, dtype: int64\n"
     ]
    }
   ],
   "source": [
    "value_counts = datasets['IPS 3'].astype(str).value_counts(dropna=False)\n",
    "\n",
    "print(value_counts)"
   ]
  },
  {
   "cell_type": "code",
   "execution_count": 236,
   "metadata": {},
   "outputs": [
    {
     "name": "stdout",
     "output_type": "stream",
     "text": [
      "IPS 3\n",
      "DIATAS >=3       182\n",
      "DIATAS >=2       177\n",
      "KURANG DARI 2     20\n",
      "Name: count, dtype: int64\n"
     ]
    }
   ],
   "source": [
    "datasets['IPS 3'] = pd.cut(datasets['IPS 3'], \n",
    "                            bins=[-float('inf'), 2, 3, float('inf')], \n",
    "                            labels=['KURANG DARI 2', 'DIATAS >=2', 'DIATAS >=3'])\n",
    "value_counts = datasets['IPS 3'].astype(str).value_counts(dropna=False)\n",
    "\n",
    "print(value_counts)"
   ]
  },
  {
   "cell_type": "markdown",
   "metadata": {},
   "source": [
    "IPS 4"
   ]
  },
  {
   "cell_type": "code",
   "execution_count": 237,
   "metadata": {},
   "outputs": [
    {
     "name": "stdout",
     "output_type": "stream",
     "text": [
      "IPS 4\n",
      "3.0     12\n",
      "3.14    11\n",
      "2.5     10\n",
      "2.86    10\n",
      "2.68     8\n",
      "        ..\n",
      "3.22     1\n",
      "3.85     1\n",
      "3.68     1\n",
      "3.21     1\n",
      "2.87     1\n",
      "Name: count, Length: 139, dtype: int64\n"
     ]
    }
   ],
   "source": [
    "value_counts = datasets['IPS 4'].astype(str).value_counts(dropna=False)\n",
    "\n",
    "print(value_counts)"
   ]
  },
  {
   "cell_type": "code",
   "execution_count": 239,
   "metadata": {},
   "outputs": [
    {
     "ename": "TypeError",
     "evalue": "'<' not supported between instances of 'float' and 'str'",
     "output_type": "error",
     "traceback": [
      "\u001b[1;31m---------------------------------------------------------------------------\u001b[0m",
      "\u001b[1;31mTypeError\u001b[0m                                 Traceback (most recent call last)",
      "Cell \u001b[1;32mIn[239], line 1\u001b[0m\n\u001b[1;32m----> 1\u001b[0m datasets[\u001b[38;5;124m'\u001b[39m\u001b[38;5;124mIPS 4\u001b[39m\u001b[38;5;124m'\u001b[39m] \u001b[38;5;241m=\u001b[39m \u001b[43mpd\u001b[49m\u001b[38;5;241;43m.\u001b[39;49m\u001b[43mcut\u001b[49m\u001b[43m(\u001b[49m\u001b[43mdatasets\u001b[49m\u001b[43m[\u001b[49m\u001b[38;5;124;43m'\u001b[39;49m\u001b[38;5;124;43mIPS 4\u001b[39;49m\u001b[38;5;124;43m'\u001b[39;49m\u001b[43m]\u001b[49m\u001b[43m,\u001b[49m\u001b[43m \u001b[49m\n\u001b[0;32m      2\u001b[0m \u001b[43m                            \u001b[49m\u001b[43mbins\u001b[49m\u001b[38;5;241;43m=\u001b[39;49m\u001b[43m[\u001b[49m\u001b[38;5;241;43m-\u001b[39;49m\u001b[38;5;28;43mfloat\u001b[39;49m\u001b[43m(\u001b[49m\u001b[38;5;124;43m'\u001b[39;49m\u001b[38;5;124;43minf\u001b[39;49m\u001b[38;5;124;43m'\u001b[39;49m\u001b[43m)\u001b[49m\u001b[43m,\u001b[49m\u001b[43m \u001b[49m\u001b[38;5;241;43m2\u001b[39;49m\u001b[43m,\u001b[49m\u001b[43m \u001b[49m\u001b[38;5;241;43m3\u001b[39;49m\u001b[43m,\u001b[49m\u001b[43m \u001b[49m\u001b[38;5;28;43mfloat\u001b[39;49m\u001b[43m(\u001b[49m\u001b[38;5;124;43m'\u001b[39;49m\u001b[38;5;124;43minf\u001b[39;49m\u001b[38;5;124;43m'\u001b[39;49m\u001b[43m)\u001b[49m\u001b[43m]\u001b[49m\u001b[43m,\u001b[49m\u001b[43m \u001b[49m\n\u001b[0;32m      3\u001b[0m \u001b[43m                            \u001b[49m\u001b[43mlabels\u001b[49m\u001b[38;5;241;43m=\u001b[39;49m\u001b[43m[\u001b[49m\u001b[38;5;124;43m'\u001b[39;49m\u001b[38;5;124;43mKURANG DARI 2\u001b[39;49m\u001b[38;5;124;43m'\u001b[39;49m\u001b[43m,\u001b[49m\u001b[43m \u001b[49m\u001b[38;5;124;43m'\u001b[39;49m\u001b[38;5;124;43mDIATAS >=2\u001b[39;49m\u001b[38;5;124;43m'\u001b[39;49m\u001b[43m,\u001b[49m\u001b[43m \u001b[49m\u001b[38;5;124;43m'\u001b[39;49m\u001b[38;5;124;43mDIATAS >=3\u001b[39;49m\u001b[38;5;124;43m'\u001b[39;49m\u001b[43m]\u001b[49m\u001b[43m)\u001b[49m\n\u001b[0;32m      4\u001b[0m value_counts \u001b[38;5;241m=\u001b[39m datasets[\u001b[38;5;124m'\u001b[39m\u001b[38;5;124mIPS 4\u001b[39m\u001b[38;5;124m'\u001b[39m]\u001b[38;5;241m.\u001b[39mastype(\u001b[38;5;28mstr\u001b[39m)\u001b[38;5;241m.\u001b[39mvalue_counts(dropna\u001b[38;5;241m=\u001b[39m\u001b[38;5;28;01mFalse\u001b[39;00m)\n\u001b[0;32m      6\u001b[0m \u001b[38;5;28mprint\u001b[39m(value_counts)\n",
      "File \u001b[1;32mc:\\Users\\TUF Gaming - FX506HF\\AppData\\Local\\Programs\\Python\\Python312\\Lib\\site-packages\\pandas\\core\\reshape\\tile.py:257\u001b[0m, in \u001b[0;36mcut\u001b[1;34m(x, bins, right, labels, retbins, precision, include_lowest, duplicates, ordered)\u001b[0m\n\u001b[0;32m    254\u001b[0m     \u001b[38;5;28;01mif\u001b[39;00m \u001b[38;5;129;01mnot\u001b[39;00m bins\u001b[38;5;241m.\u001b[39mis_monotonic_increasing:\n\u001b[0;32m    255\u001b[0m         \u001b[38;5;28;01mraise\u001b[39;00m \u001b[38;5;167;01mValueError\u001b[39;00m(\u001b[38;5;124m\"\u001b[39m\u001b[38;5;124mbins must increase monotonically.\u001b[39m\u001b[38;5;124m\"\u001b[39m)\n\u001b[1;32m--> 257\u001b[0m fac, bins \u001b[38;5;241m=\u001b[39m \u001b[43m_bins_to_cuts\u001b[49m\u001b[43m(\u001b[49m\n\u001b[0;32m    258\u001b[0m \u001b[43m    \u001b[49m\u001b[43mx_idx\u001b[49m\u001b[43m,\u001b[49m\n\u001b[0;32m    259\u001b[0m \u001b[43m    \u001b[49m\u001b[43mbins\u001b[49m\u001b[43m,\u001b[49m\n\u001b[0;32m    260\u001b[0m \u001b[43m    \u001b[49m\u001b[43mright\u001b[49m\u001b[38;5;241;43m=\u001b[39;49m\u001b[43mright\u001b[49m\u001b[43m,\u001b[49m\n\u001b[0;32m    261\u001b[0m \u001b[43m    \u001b[49m\u001b[43mlabels\u001b[49m\u001b[38;5;241;43m=\u001b[39;49m\u001b[43mlabels\u001b[49m\u001b[43m,\u001b[49m\n\u001b[0;32m    262\u001b[0m \u001b[43m    \u001b[49m\u001b[43mprecision\u001b[49m\u001b[38;5;241;43m=\u001b[39;49m\u001b[43mprecision\u001b[49m\u001b[43m,\u001b[49m\n\u001b[0;32m    263\u001b[0m \u001b[43m    \u001b[49m\u001b[43minclude_lowest\u001b[49m\u001b[38;5;241;43m=\u001b[39;49m\u001b[43minclude_lowest\u001b[49m\u001b[43m,\u001b[49m\n\u001b[0;32m    264\u001b[0m \u001b[43m    \u001b[49m\u001b[43mduplicates\u001b[49m\u001b[38;5;241;43m=\u001b[39;49m\u001b[43mduplicates\u001b[49m\u001b[43m,\u001b[49m\n\u001b[0;32m    265\u001b[0m \u001b[43m    \u001b[49m\u001b[43mordered\u001b[49m\u001b[38;5;241;43m=\u001b[39;49m\u001b[43mordered\u001b[49m\u001b[43m,\u001b[49m\n\u001b[0;32m    266\u001b[0m \u001b[43m\u001b[49m\u001b[43m)\u001b[49m\n\u001b[0;32m    268\u001b[0m \u001b[38;5;28;01mreturn\u001b[39;00m _postprocess_for_cut(fac, bins, retbins, original)\n",
      "File \u001b[1;32mc:\\Users\\TUF Gaming - FX506HF\\AppData\\Local\\Programs\\Python\\Python312\\Lib\\site-packages\\pandas\\core\\reshape\\tile.py:452\u001b[0m, in \u001b[0;36m_bins_to_cuts\u001b[1;34m(x_idx, bins, right, labels, precision, include_lowest, duplicates, ordered)\u001b[0m\n\u001b[0;32m    449\u001b[0m side: Literal[\u001b[38;5;124m\"\u001b[39m\u001b[38;5;124mleft\u001b[39m\u001b[38;5;124m\"\u001b[39m, \u001b[38;5;124m\"\u001b[39m\u001b[38;5;124mright\u001b[39m\u001b[38;5;124m\"\u001b[39m] \u001b[38;5;241m=\u001b[39m \u001b[38;5;124m\"\u001b[39m\u001b[38;5;124mleft\u001b[39m\u001b[38;5;124m\"\u001b[39m \u001b[38;5;28;01mif\u001b[39;00m right \u001b[38;5;28;01melse\u001b[39;00m \u001b[38;5;124m\"\u001b[39m\u001b[38;5;124mright\u001b[39m\u001b[38;5;124m\"\u001b[39m\n\u001b[0;32m    451\u001b[0m \u001b[38;5;28;01mtry\u001b[39;00m:\n\u001b[1;32m--> 452\u001b[0m     ids \u001b[38;5;241m=\u001b[39m \u001b[43mbins\u001b[49m\u001b[38;5;241;43m.\u001b[39;49m\u001b[43msearchsorted\u001b[49m\u001b[43m(\u001b[49m\u001b[43mx_idx\u001b[49m\u001b[43m,\u001b[49m\u001b[43m \u001b[49m\u001b[43mside\u001b[49m\u001b[38;5;241;43m=\u001b[39;49m\u001b[43mside\u001b[49m\u001b[43m)\u001b[49m\n\u001b[0;32m    453\u001b[0m \u001b[38;5;28;01mexcept\u001b[39;00m \u001b[38;5;167;01mTypeError\u001b[39;00m \u001b[38;5;28;01mas\u001b[39;00m err:\n\u001b[0;32m    454\u001b[0m     \u001b[38;5;66;03m# e.g. test_datetime_nan_error if bins are DatetimeArray and x_idx\u001b[39;00m\n\u001b[0;32m    455\u001b[0m     \u001b[38;5;66;03m#  is integers\u001b[39;00m\n\u001b[0;32m    456\u001b[0m     \u001b[38;5;28;01mif\u001b[39;00m x_idx\u001b[38;5;241m.\u001b[39mdtype\u001b[38;5;241m.\u001b[39mkind \u001b[38;5;241m==\u001b[39m \u001b[38;5;124m\"\u001b[39m\u001b[38;5;124mm\u001b[39m\u001b[38;5;124m\"\u001b[39m:\n",
      "File \u001b[1;32mc:\\Users\\TUF Gaming - FX506HF\\AppData\\Local\\Programs\\Python\\Python312\\Lib\\site-packages\\pandas\\core\\base.py:1352\u001b[0m, in \u001b[0;36mIndexOpsMixin.searchsorted\u001b[1;34m(self, value, side, sorter)\u001b[0m\n\u001b[0;32m   1348\u001b[0m \u001b[38;5;28;01mif\u001b[39;00m \u001b[38;5;129;01mnot\u001b[39;00m \u001b[38;5;28misinstance\u001b[39m(values, np\u001b[38;5;241m.\u001b[39mndarray):\n\u001b[0;32m   1349\u001b[0m     \u001b[38;5;66;03m# Going through EA.searchsorted directly improves performance GH#38083\u001b[39;00m\n\u001b[0;32m   1350\u001b[0m     \u001b[38;5;28;01mreturn\u001b[39;00m values\u001b[38;5;241m.\u001b[39msearchsorted(value, side\u001b[38;5;241m=\u001b[39mside, sorter\u001b[38;5;241m=\u001b[39msorter)\n\u001b[1;32m-> 1352\u001b[0m \u001b[38;5;28;01mreturn\u001b[39;00m \u001b[43malgorithms\u001b[49m\u001b[38;5;241;43m.\u001b[39;49m\u001b[43msearchsorted\u001b[49m\u001b[43m(\u001b[49m\n\u001b[0;32m   1353\u001b[0m \u001b[43m    \u001b[49m\u001b[43mvalues\u001b[49m\u001b[43m,\u001b[49m\n\u001b[0;32m   1354\u001b[0m \u001b[43m    \u001b[49m\u001b[43mvalue\u001b[49m\u001b[43m,\u001b[49m\n\u001b[0;32m   1355\u001b[0m \u001b[43m    \u001b[49m\u001b[43mside\u001b[49m\u001b[38;5;241;43m=\u001b[39;49m\u001b[43mside\u001b[49m\u001b[43m,\u001b[49m\n\u001b[0;32m   1356\u001b[0m \u001b[43m    \u001b[49m\u001b[43msorter\u001b[49m\u001b[38;5;241;43m=\u001b[39;49m\u001b[43msorter\u001b[49m\u001b[43m,\u001b[49m\n\u001b[0;32m   1357\u001b[0m \u001b[43m\u001b[49m\u001b[43m)\u001b[49m\n",
      "File \u001b[1;32mc:\\Users\\TUF Gaming - FX506HF\\AppData\\Local\\Programs\\Python\\Python312\\Lib\\site-packages\\pandas\\core\\algorithms.py:1329\u001b[0m, in \u001b[0;36msearchsorted\u001b[1;34m(arr, value, side, sorter)\u001b[0m\n\u001b[0;32m   1325\u001b[0m     arr \u001b[38;5;241m=\u001b[39m ensure_wrapped_if_datetimelike(arr)\n\u001b[0;32m   1327\u001b[0m \u001b[38;5;66;03m# Argument 1 to \"searchsorted\" of \"ndarray\" has incompatible type\u001b[39;00m\n\u001b[0;32m   1328\u001b[0m \u001b[38;5;66;03m# \"Union[NumpyValueArrayLike, ExtensionArray]\"; expected \"NumpyValueArrayLike\"\u001b[39;00m\n\u001b[1;32m-> 1329\u001b[0m \u001b[38;5;28;01mreturn\u001b[39;00m \u001b[43marr\u001b[49m\u001b[38;5;241;43m.\u001b[39;49m\u001b[43msearchsorted\u001b[49m\u001b[43m(\u001b[49m\u001b[43mvalue\u001b[49m\u001b[43m,\u001b[49m\u001b[43m \u001b[49m\u001b[43mside\u001b[49m\u001b[38;5;241;43m=\u001b[39;49m\u001b[43mside\u001b[49m\u001b[43m,\u001b[49m\u001b[43m \u001b[49m\u001b[43msorter\u001b[49m\u001b[38;5;241;43m=\u001b[39;49m\u001b[43msorter\u001b[49m\u001b[43m)\u001b[49m\n",
      "\u001b[1;31mTypeError\u001b[0m: '<' not supported between instances of 'float' and 'str'"
     ]
    }
   ],
   "source": [
    "datasets['IPS 4'] = pd.cut(datasets['IPS 4'], \n",
    "                            bins=[-float('inf'), 2, 3, float('inf')], \n",
    "                            labels=['KURANG DARI 2', 'DIATAS >=2', 'DIATAS >=3'])\n",
    "value_counts = datasets['IPS 4'].astype(str).value_counts(dropna=False)\n",
    "\n",
    "print(value_counts)"
   ]
  },
  {
   "cell_type": "markdown",
   "metadata": {},
   "source": [
    "IPS 5"
   ]
  },
  {
   "cell_type": "code",
   "execution_count": 240,
   "metadata": {},
   "outputs": [
    {
     "name": "stdout",
     "output_type": "stream",
     "text": [
      "IPS 5\n",
      "3.25    8\n",
      "3.15    8\n",
      "3.19    7\n",
      "2.8     7\n",
      "2.77    7\n",
      "       ..\n",
      "3.78    1\n",
      "2.4     1\n",
      "3.34    1\n",
      "2.71    1\n",
      "2.54    1\n",
      "Name: count, Length: 153, dtype: int64\n"
     ]
    }
   ],
   "source": [
    "value_counts = datasets['IPS 5'].astype(str).value_counts(dropna=False)\n",
    "\n",
    "print(value_counts)"
   ]
  },
  {
   "cell_type": "code",
   "execution_count": 241,
   "metadata": {},
   "outputs": [
    {
     "name": "stdout",
     "output_type": "stream",
     "text": [
      "IPS 5\n",
      "DIATAS >=2       196\n",
      "DIATAS >=3       145\n",
      "KURANG DARI 2     38\n",
      "Name: count, dtype: int64\n"
     ]
    }
   ],
   "source": [
    "datasets['IPS 5'] = pd.cut(datasets['IPS 5'], \n",
    "                            bins=[-float('inf'), 2, 3, float('inf')], \n",
    "                            labels=['KURANG DARI 2', 'DIATAS >=2', 'DIATAS >=3'])\n",
    "value_counts = datasets['IPS 5'].astype(str).value_counts(dropna=False)\n",
    "\n",
    "print(value_counts)"
   ]
  },
  {
   "cell_type": "markdown",
   "metadata": {},
   "source": [
    "IPS 6"
   ]
  },
  {
   "cell_type": "code",
   "execution_count": 242,
   "metadata": {},
   "outputs": [
    {
     "name": "stdout",
     "output_type": "stream",
     "text": [
      "IPS 6\n",
      "3.0     15\n",
      "2.86     8\n",
      "3.33     8\n",
      "2.75     8\n",
      "3.47     7\n",
      "        ..\n",
      "2.16     1\n",
      "1.0      1\n",
      "2.41     1\n",
      "2.63     1\n",
      "2.93     1\n",
      "Name: count, Length: 161, dtype: int64\n"
     ]
    }
   ],
   "source": [
    "value_counts = datasets['IPS 6'].astype(str).value_counts(dropna=False)\n",
    "\n",
    "print(value_counts)"
   ]
  },
  {
   "cell_type": "code",
   "execution_count": 243,
   "metadata": {},
   "outputs": [
    {
     "name": "stdout",
     "output_type": "stream",
     "text": [
      "IPS 6\n",
      "DIATAS >=3       175\n",
      "DIATAS >=2       173\n",
      "KURANG DARI 2     31\n",
      "Name: count, dtype: int64\n"
     ]
    }
   ],
   "source": [
    "datasets['IPS 6'] = pd.cut(datasets['IPS 6'], \n",
    "                            bins=[-float('inf'), 2, 3, float('inf')], \n",
    "                            labels=['KURANG DARI 2', 'DIATAS >=2', 'DIATAS >=3'])\n",
    "value_counts = datasets['IPS 6'].astype(str).value_counts(dropna=False)\n",
    "\n",
    "print(value_counts)"
   ]
  },
  {
   "cell_type": "markdown",
   "metadata": {},
   "source": [
    "IPS 7"
   ]
  },
  {
   "cell_type": "code",
   "execution_count": 244,
   "metadata": {},
   "outputs": [
    {
     "name": "stdout",
     "output_type": "stream",
     "text": [
      "IPS 7\n",
      "2.61    8\n",
      "2.43    7\n",
      "2.17    6\n",
      "2.64    6\n",
      "2.25    6\n",
      "       ..\n",
      "2.21    1\n",
      "1.35    1\n",
      "3.47    1\n",
      "3.54    1\n",
      "2.82    1\n",
      "Name: count, Length: 186, dtype: int64\n"
     ]
    }
   ],
   "source": [
    "value_counts = datasets['IPS 7'].astype(str).value_counts(dropna=False)\n",
    "\n",
    "print(value_counts)"
   ]
  },
  {
   "cell_type": "code",
   "execution_count": 245,
   "metadata": {},
   "outputs": [
    {
     "name": "stdout",
     "output_type": "stream",
     "text": [
      "IPS 7\n",
      "DIATAS >=2       188\n",
      "DIATAS >=3       115\n",
      "KURANG DARI 2     76\n",
      "Name: count, dtype: int64\n"
     ]
    }
   ],
   "source": [
    "datasets['IPS 7'] = pd.cut(datasets['IPS 7'], \n",
    "                            bins=[-float('inf'), 2, 3, float('inf')], \n",
    "                            labels=['KURANG DARI 2', 'DIATAS >=2', 'DIATAS >=3'])\n",
    "value_counts = datasets['IPS 7'].astype(str).value_counts(dropna=False)\n",
    "\n",
    "print(value_counts)"
   ]
  },
  {
   "cell_type": "markdown",
   "metadata": {},
   "source": [
    "IPS 8"
   ]
  },
  {
   "cell_type": "code",
   "execution_count": 246,
   "metadata": {},
   "outputs": [
    {
     "name": "stdout",
     "output_type": "stream",
     "text": [
      "IPS 8\n",
      "0.0     164\n",
      "3.0      38\n",
      "3.5      18\n",
      "4.0      17\n",
      "2.0       9\n",
      "       ... \n",
      "2.89      1\n",
      "3.69      1\n",
      "2.08      1\n",
      "2.4       1\n",
      "0.25      1\n",
      "Name: count, Length: 88, dtype: int64\n"
     ]
    }
   ],
   "source": [
    "value_counts = datasets['IPS 8'].astype(str).value_counts(dropna=False)\n",
    "\n",
    "print(value_counts)"
   ]
  },
  {
   "cell_type": "markdown",
   "metadata": {},
   "source": [
    "KARENA IPS 8 MASIH ADA STRING KOSONG DIUBAH MENJADI NUMERIK"
   ]
  },
  {
   "cell_type": "code",
   "execution_count": 247,
   "metadata": {},
   "outputs": [],
   "source": [
    "# Convert the 'IPS 8' column to numeric values, replacing non-numeric values with NaN\n",
    "datasets['IPS 8'] = pd.to_numeric(datasets['IPS 8'], errors='coerce')\n",
    "\n",
    "# Drop any rows with NaN values in the 'IPS 8' column\n",
    "datasets = datasets.dropna(subset=['IPS 8'])"
   ]
  },
  {
   "cell_type": "markdown",
   "metadata": {},
   "source": [
    "JALANKAN PD CUT"
   ]
  },
  {
   "cell_type": "code",
   "execution_count": 248,
   "metadata": {},
   "outputs": [
    {
     "name": "stdout",
     "output_type": "stream",
     "text": [
      "IPS 8\n",
      "KURANG DARI 2    249\n",
      "DIATAS >=2        79\n",
      "DIATAS >=3        44\n",
      "Name: count, dtype: int64\n"
     ]
    },
    {
     "name": "stderr",
     "output_type": "stream",
     "text": [
      "C:\\Users\\TUF Gaming - FX506HF\\AppData\\Local\\Temp\\ipykernel_20920\\2724323438.py:1: SettingWithCopyWarning: \n",
      "A value is trying to be set on a copy of a slice from a DataFrame.\n",
      "Try using .loc[row_indexer,col_indexer] = value instead\n",
      "\n",
      "See the caveats in the documentation: https://pandas.pydata.org/pandas-docs/stable/user_guide/indexing.html#returning-a-view-versus-a-copy\n",
      "  datasets['IPS 8'] = pd.cut(datasets['IPS 8'],\n"
     ]
    }
   ],
   "source": [
    "datasets['IPS 8'] = pd.cut(datasets['IPS 8'], \n",
    "                            bins=[-float('inf'), 2, 3, float('inf')], \n",
    "                            labels=['KURANG DARI 2', 'DIATAS >=2', 'DIATAS >=3'])\n",
    "value_counts = datasets['IPS 8'].astype(str).value_counts(dropna=False)\n",
    "\n",
    "print(value_counts)"
   ]
  },
  {
   "cell_type": "markdown",
   "metadata": {},
   "source": [
    "IPK"
   ]
  },
  {
   "cell_type": "code",
   "execution_count": 249,
   "metadata": {},
   "outputs": [
    {
     "name": "stdout",
     "output_type": "stream",
     "text": [
      "IPK\n",
      "3.09    8\n",
      "3.08    8\n",
      "2.97    8\n",
      "2.9     7\n",
      "3.1     7\n",
      "       ..\n",
      "1.9     1\n",
      "0.87    1\n",
      "0.92    1\n",
      "0.99    1\n",
      "2.16    1\n",
      "Name: count, Length: 146, dtype: int64\n"
     ]
    }
   ],
   "source": [
    "value_counts = datasets['IPK'].astype(str).value_counts(dropna=False)\n",
    "\n",
    "print(value_counts)"
   ]
  },
  {
   "cell_type": "markdown",
   "metadata": {},
   "source": [
    "KARENA IPS 8 MASIH ADA STRING KOSONG DIUBAH MENJADI NUMERIK"
   ]
  },
  {
   "cell_type": "code",
   "execution_count": 250,
   "metadata": {},
   "outputs": [
    {
     "name": "stderr",
     "output_type": "stream",
     "text": [
      "C:\\Users\\TUF Gaming - FX506HF\\AppData\\Local\\Temp\\ipykernel_20920\\458915515.py:2: SettingWithCopyWarning: \n",
      "A value is trying to be set on a copy of a slice from a DataFrame.\n",
      "Try using .loc[row_indexer,col_indexer] = value instead\n",
      "\n",
      "See the caveats in the documentation: https://pandas.pydata.org/pandas-docs/stable/user_guide/indexing.html#returning-a-view-versus-a-copy\n",
      "  datasets['IPK'] = pd.to_numeric(datasets['IPK'], errors='coerce')\n"
     ]
    }
   ],
   "source": [
    "# Convert the 'IPK' column to numeric values, replacing non-numeric values with NaN\n",
    "datasets['IPK'] = pd.to_numeric(datasets['IPK'], errors='coerce')\n",
    "\n",
    "# Drop any rows with NaN values in the 'IPK' column\n",
    "datasets = datasets.dropna(subset=['IPK'])"
   ]
  },
  {
   "cell_type": "code",
   "execution_count": 251,
   "metadata": {},
   "outputs": [
    {
     "name": "stdout",
     "output_type": "stream",
     "text": [
      "IPK\n",
      "DIATAS >=3       185\n",
      "DIATAS >=2       170\n",
      "KURANG DARI 2     14\n",
      "Name: count, dtype: int64\n"
     ]
    }
   ],
   "source": [
    "datasets['IPK'] = pd.cut(datasets['IPK'], \n",
    "                            bins=[-float('inf'), 2, 3, float('inf')], \n",
    "                            labels=['KURANG DARI 2', 'DIATAS >=2', 'DIATAS >=3'])\n",
    "value_counts = datasets['IPK'].astype(str).value_counts(dropna=False)\n",
    "\n",
    "print(value_counts)"
   ]
  },
  {
   "cell_type": "markdown",
   "metadata": {},
   "source": [
    "MEMBUAT BAR CHART DI DATASET STATUS KELULUSAN"
   ]
  },
  {
   "cell_type": "code",
   "execution_count": 192,
   "metadata": {},
   "outputs": [],
   "source": [
    "import pandas as pd\n",
    "import matplotlib.pyplot as plt\n",
    "\n",
    "value_counts = datasets['STATUS KELULUSAN'].value_counts()"
   ]
  },
  {
   "cell_type": "code",
   "execution_count": 193,
   "metadata": {},
   "outputs": [
    {
     "data": {
      "image/png": "[encoded data removed]",
      "text/plain": [
       "<Figure size 640x480 with 1 Axes>"
      ]
     },
     "metadata": {},
     "output_type": "display_data"
    }
   ],
   "source": [
    "ax = value_counts.plot(kind='bar', color=['skyblue', 'orange'])"
   ]
  },
  {
   "cell_type": "markdown",
   "metadata": {},
   "source": [
    "menambahkan title dan label"
   ]
  },
  {
   "cell_type": "code",
   "execution_count": 194,
   "metadata": {},
   "outputs": [
    {
     "data": {
      "text/plain": [
       "Text(0, 0.5, 'Count')"
      ]
     },
     "execution_count": 194,
     "metadata": {},
     "output_type": "execute_result"
    },
    {
     "data": {
      "image/png": "[encoded data removed]",
      "text/plain": [
       "<Figure size 640x480 with 1 Axes>"
      ]
     },
     "metadata": {},
     "output_type": "display_data"
    }
   ],
   "source": [
    "plt.title('STATUS KELULUSAN')\n",
    "plt.xlabel('Category')\n",
    "plt.ylabel('Count')"
   ]
  },
  {
   "cell_type": "markdown",
   "metadata": {},
   "source": [
    "menambahkan jumlahnya label di atas tiap bar"
   ]
  },
  {
   "cell_type": "code",
   "execution_count": 195,
   "metadata": {},
   "outputs": [],
   "source": [
    "for i, count in enumerate(value_counts):\n",
    "    ax.text(i, count , str(count), ha='center', va='bottom')"
   ]
  },
  {
   "cell_type": "markdown",
   "metadata": {},
   "source": [
    "Display bar chart"
   ]
  },
  {
   "cell_type": "code",
   "execution_count": 196,
   "metadata": {},
   "outputs": [],
   "source": [
    "plt.show()"
   ]
  },
  {
   "cell_type": "markdown",
   "metadata": {},
   "source": [
    "script memunculkan label STATUS KELULUSAN dengan menambahkan label diatas dan memunculkan jumlah diatas tiap label"
   ]
  },
  {
   "cell_type": "code",
   "execution_count": 197,
   "metadata": {},
   "outputs": [
    {
     "data": {
      "image/png": "[encoded data removed]",
      "text/plain": [
       "<Figure size 640x480 with 1 Axes>"
      ]
     },
     "metadata": {},
     "output_type": "display_data"
    }
   ],
   "source": [
    "import pandas as pd\n",
    "import matplotlib.pyplot as plt\n",
    "\n",
    "value_counts = datasets['STATUS KELULUSAN'].value_counts()\n",
    "ax = value_counts.plot(kind='bar', color=['skyblue', 'orange'])\n",
    "\n",
    "plt.title('STATUS KELULUSAN Distribution')\n",
    "plt.xlabel('Category')\n",
    "plt.ylabel('Count')\n",
    "\n",
    "for i, count in enumerate(value_counts):\n",
    "    ax.text(i, count , str(count), ha='center', va='bottom')\n",
    "\n",
    "plt.show()"
   ]
  },
  {
   "cell_type": "markdown",
   "metadata": {},
   "source": [
    "MENAMPILKAN INFO DATASET"
   ]
  },
  {
   "cell_type": "code",
   "execution_count": 198,
   "metadata": {},
   "outputs": [
    {
     "name": "stdout",
     "output_type": "stream",
     "text": [
      "<class 'pandas.core.frame.DataFrame'>\n",
      "Index: 369 entries, 0 to 378\n",
      "Data columns (total 15 columns):\n",
      " #   Column            Non-Null Count  Dtype   \n",
      "---  ------            --------------  -----   \n",
      " 0   NAMA              369 non-null    object  \n",
      " 1   JENIS KELAMIN     369 non-null    object  \n",
      " 2   STATUS MAHASISWA  369 non-null    object  \n",
      " 3   UMUR              369 non-null    int64   \n",
      " 4   STATUS NIKAH      369 non-null    object  \n",
      " 5   IPS 1             369 non-null    category\n",
      " 6   IPS 2             369 non-null    category\n",
      " 7   IPS 3             369 non-null    category\n",
      " 8   IPS 4             369 non-null    category\n",
      " 9   IPS 5             369 non-null    category\n",
      " 10  IPS 6             369 non-null    category\n",
      " 11  IPS 7             369 non-null    category\n",
      " 12  IPS 8             369 non-null    category\n",
      " 13  IPK               369 non-null    category\n",
      " 14  STATUS KELULUSAN  369 non-null    object  \n",
      "dtypes: category(9), int64(1), object(5)\n",
      "memory usage: 24.6+ KB\n"
     ]
    }
   ],
   "source": [
    "datasets.info()"
   ]
  },
  {
   "cell_type": "markdown",
   "metadata": {},
   "source": [
    "Konversi Nilai ke Numerik"
   ]
  },
  {
   "cell_type": "markdown",
   "metadata": {},
   "source": [
    "JENIS KELAMIN"
   ]
  },
  {
   "cell_type": "code",
   "execution_count": 252,
   "metadata": {},
   "outputs": [
    {
     "name": "stdout",
     "output_type": "stream",
     "text": [
      "JENIS KELAMIN\n",
      "LAKI - LAKI    229\n",
      "PEREMPUAN      140\n",
      "Name: count, dtype: int64\n"
     ]
    }
   ],
   "source": [
    "value_counts = datasets['JENIS KELAMIN'].astype(str).value_counts(dropna=False)\n",
    "\n",
    "print(value_counts)"
   ]
  },
  {
   "cell_type": "markdown",
   "metadata": {},
   "source": [
    "simpleimputer adalah class yang digunakan untuk menggantikan value kosong di dataset, menggunakan most_frequent dimana mengganti value yang hilang dengan value yang paling sering muncul di dataset"
   ]
  },
  {
   "cell_type": "markdown",
   "metadata": {},
   "source": [
    "label encoder adalah class yang digunakan  untuk  mengubah  data  yang  tidak  dapat  diakses  secara langsung menjadi data yang dapat  diakses secara langsung. "
   ]
  },
  {
   "cell_type": "code",
   "execution_count": 253,
   "metadata": {},
   "outputs": [],
   "source": [
    "imputer = SimpleImputer(strategy='most_frequent')\n",
    "from sklearn.preprocessing import LabelEncoder\n",
    "label_encoder = LabelEncoder()\n",
    "datasets['JENIS KELAMIN'] = label_encoder.fit_transform(datasets['JENIS KELAMIN'])"
   ]
  },
  {
   "cell_type": "markdown",
   "metadata": {},
   "source": [
    "mengambil kolom \"JENIS KELAMIN\" dari dataset, menerapkan imputer untuk mengisi nilai yang hilang, dan kemudian mengubah array yang dihasilkan menjadi array 1-dimensi. Nilai yang diisi kemudian ditugaskan kembali ke kolom asli dalam dataset."
   ]
  },
  {
   "cell_type": "code",
   "execution_count": 254,
   "metadata": {},
   "outputs": [],
   "source": [
    "datasets['JENIS KELAMIN'] = imputer.fit_transform(datasets[['JENIS KELAMIN']]).ravel()"
   ]
  },
  {
   "cell_type": "markdown",
   "metadata": {},
   "source": [
    "MEMUNCULKAN DATASET JENIS KELAMIN YANG SUDAH DIKONVERSI"
   ]
  },
  {
   "cell_type": "code",
   "execution_count": 255,
   "metadata": {},
   "outputs": [
    {
     "name": "stdout",
     "output_type": "stream",
     "text": [
      "JENIS KELAMIN\n",
      "0    229\n",
      "1    140\n",
      "Name: count, dtype: int64\n"
     ]
    }
   ],
   "source": [
    "value_counts = datasets['JENIS KELAMIN'].astype(str).value_counts(dropna=False)\n",
    "print(value_counts)"
   ]
  },
  {
   "cell_type": "markdown",
   "metadata": {},
   "source": [
    "STATUS MAHASISWA "
   ]
  },
  {
   "cell_type": "code",
   "execution_count": 256,
   "metadata": {},
   "outputs": [
    {
     "name": "stdout",
     "output_type": "stream",
     "text": [
      "STATUS MAHASISWA\n",
      "1    236\n",
      "0    133\n",
      "Name: count, dtype: int64\n"
     ]
    }
   ],
   "source": [
    "datasets['STATUS MAHASISWA'] = label_encoder.fit_transform(datasets['STATUS MAHASISWA'])\n",
    "datasets['STATUS MAHASISWA'] = imputer.fit_transform(datasets[['STATUS MAHASISWA']]).ravel()\n",
    "value_counts = datasets['STATUS MAHASISWA'].astype(str).value_counts(dropna=False)\n",
    "print(value_counts)"
   ]
  },
  {
   "cell_type": "markdown",
   "metadata": {},
   "source": [
    "STATUS NIKAH"
   ]
  },
  {
   "cell_type": "code",
   "execution_count": 257,
   "metadata": {},
   "outputs": [
    {
     "name": "stdout",
     "output_type": "stream",
     "text": [
      "STATUS NIKAH\n",
      "0    361\n",
      "1      8\n",
      "Name: count, dtype: int64\n"
     ]
    }
   ],
   "source": [
    "datasets['STATUS NIKAH'] = label_encoder.fit_transform(datasets['STATUS NIKAH'])\n",
    "datasets['STATUS NIKAH'] = imputer.fit_transform(datasets[['STATUS NIKAH']]).ravel()\n",
    "value_counts = datasets['STATUS NIKAH'].astype(str).value_counts(dropna=False)\n",
    "print(value_counts)"
   ]
  },
  {
   "cell_type": "markdown",
   "metadata": {},
   "source": [
    "STATUS KELULUSAN"
   ]
  },
  {
   "cell_type": "code",
   "execution_count": 258,
   "metadata": {},
   "outputs": [
    {
     "name": "stdout",
     "output_type": "stream",
     "text": [
      "STATUS KELULUSAN\n",
      "0    206\n",
      "1    163\n",
      "Name: count, dtype: int64\n"
     ]
    }
   ],
   "source": [
    "datasets['STATUS KELULUSAN'] = label_encoder.fit_transform(datasets['STATUS KELULUSAN'])\n",
    "datasets['STATUS KELULUSAN'] = imputer.fit_transform(datasets[['STATUS KELULUSAN']])\n",
    "value_counts = datasets['STATUS KELULUSAN'].astype(str).value_counts(dropna=False)\n",
    "print(value_counts)"
   ]
  },
  {
   "cell_type": "code",
   "execution_count": 259,
   "metadata": {},
   "outputs": [
    {
     "name": "stdout",
     "output_type": "stream",
     "text": [
      "IPS 1\n",
      "DIATAS >=2       236\n",
      "DIATAS >=3       126\n",
      "KURANG DARI 2      7\n",
      "Name: count, dtype: int64\n"
     ]
    }
   ],
   "source": [
    "value_counts = datasets['IPS 1'].astype(str).value_counts(dropna=False)\n",
    "print(value_counts)"
   ]
  },
  {
   "cell_type": "markdown",
   "metadata": {},
   "source": [
    "KARENA SUDAH MENJADI KATEGORIKAL , MENGGUNAKAN PACKAGE ONEHOT UNTUK MERUBAH KATEGORIKAL MENJADI NUMERIKAL"
   ]
  },
  {
   "cell_type": "markdown",
   "metadata": {},
   "source": [
    "IPS 1"
   ]
  },
  {
   "cell_type": "code",
   "execution_count": 260,
   "metadata": {},
   "outputs": [],
   "source": [
    "from sklearn.preprocessing import OneHotEncoder\n",
    "# Inisialisasi OneHotEncoder\n",
    "encoder = OneHotEncoder(sparse_output=False)  # sparse_output=False agar output berupa array, bukan sparse matrix\n",
    "\n",
    "# Terapkan OneHotEncoder\n",
    "one_hot_encoded = encoder.fit_transform(datasets[['IPS 1']])\n",
    "\n",
    "# Dapatkan nama kolom baru dari encoder\n",
    "one_hot_columns = encoder.get_feature_names_out(['IPS 1'])\n",
    "\n",
    "# Buat DataFrame baru dari hasil One-Hot Encoding\n",
    "one_hot_df = pd.DataFrame(one_hot_encoded, columns=one_hot_columns)\n",
    "\n",
    "# Gabungkan dengan DataFrame asli (atau gantikan kolom asli)\n",
    "datasets = pd.concat([datasets.drop('IPS 1', axis=1), one_hot_df], axis=1)"
   ]
  },
  {
   "cell_type": "markdown",
   "metadata": {},
   "source": [
    "IPS 2"
   ]
  },
  {
   "cell_type": "code",
   "execution_count": 261,
   "metadata": {},
   "outputs": [],
   "source": [
    "from sklearn.preprocessing import OneHotEncoder\n",
    "# Inisialisasi OneHotEncoder\n",
    "encoder = OneHotEncoder(sparse_output=False)  # sparse_output=False agar output berupa array, bukan sparse matrix\n",
    "\n",
    "# Terapkan OneHotEncoder\n",
    "one_hot_encoded = encoder.fit_transform(datasets[['IPS 2']])\n",
    "\n",
    "# Dapatkan nama kolom baru dari encoder\n",
    "one_hot_columns = encoder.get_feature_names_out(['IPS 2'])\n",
    "\n",
    "# Buat DataFrame baru dari hasil One-Hot Encoding\n",
    "one_hot_df = pd.DataFrame(one_hot_encoded, columns=one_hot_columns)\n",
    "\n",
    "# Drop the _nan column\n",
    "one_hot_df = one_hot_df.loc[:, ~one_hot_df.columns.str.endswith('_nan')]\n",
    "\n",
    "# Gabungkan dengan DataFrame asli (atau gantikan kolom asli)\n",
    "datasets = pd.concat([datasets.drop('IPS 2', axis=1), one_hot_df], axis=1)"
   ]
  },
  {
   "cell_type": "markdown",
   "metadata": {},
   "source": [
    "IPS 3"
   ]
  },
  {
   "cell_type": "code",
   "execution_count": 262,
   "metadata": {},
   "outputs": [],
   "source": [
    "from sklearn.preprocessing import OneHotEncoder\n",
    "# Inisialisasi OneHotEncoder\n",
    "encoder = OneHotEncoder(sparse_output=False)  # sparse_output=False agar output berupa array, bukan sparse matrix\n",
    "\n",
    "# Terapkan OneHotEncoder\n",
    "one_hot_encoded = encoder.fit_transform(datasets[['IPS 3']])\n",
    "\n",
    "# Dapatkan nama kolom baru dari encoder\n",
    "one_hot_columns = encoder.get_feature_names_out(['IPS 3'])\n",
    "\n",
    "# Buat DataFrame baru dari hasil One-Hot Encoding\n",
    "one_hot_df = pd.DataFrame(one_hot_encoded, columns=one_hot_columns)\n",
    "\n",
    "# Drop the _nan column\n",
    "one_hot_df = one_hot_df.loc[:, ~one_hot_df.columns.str.endswith('_nan')]\n",
    "\n",
    "# Gabungkan dengan DataFrame asli (atau gantikan kolom asli)\n",
    "datasets = pd.concat([datasets.drop('IPS 3', axis=1), one_hot_df], axis=1)"
   ]
  },
  {
   "cell_type": "markdown",
   "metadata": {},
   "source": [
    "IPS 4"
   ]
  },
  {
   "cell_type": "code",
   "execution_count": 263,
   "metadata": {},
   "outputs": [],
   "source": [
    "from sklearn.preprocessing import OneHotEncoder\n",
    "# Inisialisasi OneHotEncoder\n",
    "encoder = OneHotEncoder(sparse_output=False)  # sparse_output=False agar output berupa array, bukan sparse matrix\n",
    "\n",
    "# Terapkan OneHotEncoder\n",
    "one_hot_encoded = encoder.fit_transform(datasets[['IPS 4']])\n",
    "\n",
    "# Dapatkan nama kolom baru dari encoder\n",
    "one_hot_columns = encoder.get_feature_names_out(['IPS 4'])\n",
    "\n",
    "# Buat DataFrame baru dari hasil One-Hot Encoding\n",
    "one_hot_df = pd.DataFrame(one_hot_encoded, columns=one_hot_columns)\n",
    "\n",
    "# Drop the _nan column\n",
    "one_hot_df = one_hot_df.loc[:, ~one_hot_df.columns.str.endswith('_nan')]\n",
    "\n",
    "# Gabungkan dengan DataFrame asli (atau gantikan kolom asli)\n",
    "datasets = pd.concat([datasets.drop('IPS 4', axis=1), one_hot_df], axis=1)"
   ]
  },
  {
   "cell_type": "markdown",
   "metadata": {},
   "source": [
    "IPS 5"
   ]
  },
  {
   "cell_type": "code",
   "execution_count": 264,
   "metadata": {},
   "outputs": [],
   "source": [
    "from sklearn.preprocessing import OneHotEncoder\n",
    "# Inisialisasi OneHotEncoder\n",
    "encoder = OneHotEncoder(sparse_output=False)  # sparse_output=False agar output berupa array, bukan sparse matrix\n",
    "\n",
    "# Terapkan OneHotEncoder\n",
    "one_hot_encoded = encoder.fit_transform(datasets[['IPS 5']])\n",
    "\n",
    "# Dapatkan nama kolom baru dari encoder\n",
    "one_hot_columns = encoder.get_feature_names_out(['IPS 5'])\n",
    "\n",
    "# Buat DataFrame baru dari hasil One-Hot Encoding\n",
    "one_hot_df = pd.DataFrame(one_hot_encoded, columns=one_hot_columns)\n",
    "\n",
    "# Drop the _nan column\n",
    "one_hot_df = one_hot_df.loc[:, ~one_hot_df.columns.str.endswith('_nan')]\n",
    "\n",
    "# Gabungkan dengan DataFrame asli (atau gantikan kolom asli)\n",
    "datasets = pd.concat([datasets.drop('IPS 5', axis=1), one_hot_df], axis=1)"
   ]
  },
  {
   "cell_type": "markdown",
   "metadata": {},
   "source": [
    "IPS 6"
   ]
  },
  {
   "cell_type": "code",
   "execution_count": 265,
   "metadata": {},
   "outputs": [],
   "source": [
    "from sklearn.preprocessing import OneHotEncoder\n",
    "# Inisialisasi OneHotEncoder\n",
    "encoder = OneHotEncoder(sparse_output=False)  # sparse_output=False agar output berupa array, bukan sparse matrix\n",
    "\n",
    "# Terapkan OneHotEncoder\n",
    "one_hot_encoded = encoder.fit_transform(datasets[['IPS 6']])\n",
    "\n",
    "# Dapatkan nama kolom baru dari encoder\n",
    "one_hot_columns = encoder.get_feature_names_out(['IPS 6'])\n",
    "\n",
    "# Buat DataFrame baru dari hasil One-Hot Encoding\n",
    "one_hot_df = pd.DataFrame(one_hot_encoded, columns=one_hot_columns)\n",
    "\n",
    "# Drop the _nan column\n",
    "one_hot_df = one_hot_df.loc[:, ~one_hot_df.columns.str.endswith('_nan')]\n",
    "\n",
    "# Gabungkan dengan DataFrame asli (atau gantikan kolom asli)\n",
    "datasets = pd.concat([datasets.drop('IPS 6', axis=1), one_hot_df], axis=1)"
   ]
  },
  {
   "cell_type": "markdown",
   "metadata": {},
   "source": [
    "IPS 7"
   ]
  },
  {
   "cell_type": "code",
   "execution_count": 266,
   "metadata": {},
   "outputs": [],
   "source": [
    "from sklearn.preprocessing import OneHotEncoder\n",
    "# Inisialisasi OneHotEncoder\n",
    "encoder = OneHotEncoder(sparse_output=False)  # sparse_output=False agar output berupa array, bukan sparse matrix\n",
    "\n",
    "# Terapkan OneHotEncoder\n",
    "one_hot_encoded = encoder.fit_transform(datasets[['IPS 7']])\n",
    "\n",
    "# Dapatkan nama kolom baru dari encoder\n",
    "one_hot_columns = encoder.get_feature_names_out(['IPS 7'])\n",
    "\n",
    "# Buat DataFrame baru dari hasil One-Hot Encoding\n",
    "one_hot_df = pd.DataFrame(one_hot_encoded, columns=one_hot_columns)\n",
    "\n",
    "# Drop the _nan column\n",
    "one_hot_df = one_hot_df.loc[:, ~one_hot_df.columns.str.endswith('_nan')]\n",
    "\n",
    "# Gabungkan dengan DataFrame asli (atau gantikan kolom asli)\n",
    "datasets = pd.concat([datasets.drop('IPS 7', axis=1), one_hot_df], axis=1)"
   ]
  },
  {
   "cell_type": "markdown",
   "metadata": {},
   "source": [
    "IPS 8"
   ]
  },
  {
   "cell_type": "code",
   "execution_count": 267,
   "metadata": {},
   "outputs": [],
   "source": [
    "from sklearn.preprocessing import OneHotEncoder\n",
    "# Inisialisasi OneHotEncoder\n",
    "encoder = OneHotEncoder(sparse_output=False)  # sparse_output=False agar output berupa array, bukan sparse matrix\n",
    "\n",
    "# Terapkan OneHotEncoder\n",
    "one_hot_encoded = encoder.fit_transform(datasets[['IPS 8']])\n",
    "\n",
    "# Dapatkan nama kolom baru dari encoder\n",
    "one_hot_columns = encoder.get_feature_names_out(['IPS 8'])\n",
    "\n",
    "# Buat DataFrame baru dari hasil One-Hot Encoding\n",
    "one_hot_df = pd.DataFrame(one_hot_encoded, columns=one_hot_columns)\n",
    "\n",
    "# Drop the _nan column\n",
    "one_hot_df = one_hot_df.loc[:, ~one_hot_df.columns.str.endswith('_nan')]\n",
    "\n",
    "# Gabungkan dengan DataFrame asli (atau gantikan kolom asli)\n",
    "datasets = pd.concat([datasets.drop('IPS 8', axis=1), one_hot_df], axis=1)"
   ]
  },
  {
   "cell_type": "markdown",
   "metadata": {},
   "source": [
    "IPK"
   ]
  },
  {
   "cell_type": "code",
   "execution_count": 268,
   "metadata": {},
   "outputs": [],
   "source": [
    "from sklearn.preprocessing import OneHotEncoder\n",
    "# Inisialisasi OneHotEncoder\n",
    "encoder = OneHotEncoder(sparse_output=False)  # sparse_output=False agar output berupa array, bukan sparse matrix\n",
    "\n",
    "# Terapkan OneHotEncoder\n",
    "one_hot_encoded = encoder.fit_transform(datasets[['IPK']])\n",
    "\n",
    "# Dapatkan nama kolom baru dari encoder\n",
    "one_hot_columns = encoder.get_feature_names_out(['IPK'])\n",
    "\n",
    "# Buat DataFrame baru dari hasil One-Hot Encoding\n",
    "one_hot_df = pd.DataFrame(one_hot_encoded, columns=one_hot_columns)\n",
    "\n",
    "# Drop the _nan column\n",
    "one_hot_df = one_hot_df.loc[:, ~one_hot_df.columns.str.endswith('_nan')]\n",
    "\n",
    "# Gabungkan dengan DataFrame asli (atau gantikan kolom asli)\n",
    "datasets = pd.concat([datasets.drop('IPK', axis=1), one_hot_df], axis=1)"
   ]
  },
  {
   "cell_type": "markdown",
   "metadata": {},
   "source": [
    "CEK INFO DATASETS DAN TIPE DATASETS"
   ]
  },
  {
   "cell_type": "code",
   "execution_count": 269,
   "metadata": {},
   "outputs": [
    {
     "name": "stdout",
     "output_type": "stream",
     "text": [
      "<class 'pandas.core.frame.DataFrame'>\n",
      "Index: 379 entries, 0 to 346\n",
      "Data columns (total 33 columns):\n",
      " #   Column               Non-Null Count  Dtype  \n",
      "---  ------               --------------  -----  \n",
      " 0   NAMA                 369 non-null    object \n",
      " 1   JENIS KELAMIN        369 non-null    float64\n",
      " 2   STATUS MAHASISWA     369 non-null    float64\n",
      " 3   UMUR                 369 non-null    float64\n",
      " 4   STATUS NIKAH         369 non-null    float64\n",
      " 5   STATUS KELULUSAN     369 non-null    float64\n",
      " 6   IPS 1_DIATAS >=2     369 non-null    float64\n",
      " 7   IPS 1_DIATAS >=3     369 non-null    float64\n",
      " 8   IPS 1_KURANG DARI 2  369 non-null    float64\n",
      " 9   IPS 2_DIATAS >=2     379 non-null    float64\n",
      " 10  IPS 2_DIATAS >=3     379 non-null    float64\n",
      " 11  IPS 2_KURANG DARI 2  379 non-null    float64\n",
      " 12  IPS 3_DIATAS >=2     379 non-null    float64\n",
      " 13  IPS 3_DIATAS >=3     379 non-null    float64\n",
      " 14  IPS 3_KURANG DARI 2  379 non-null    float64\n",
      " 15  IPS 4_DIATAS >=2     379 non-null    float64\n",
      " 16  IPS 4_DIATAS >=3     379 non-null    float64\n",
      " 17  IPS 4_KURANG DARI 2  379 non-null    float64\n",
      " 18  IPS 5_DIATAS >=2     379 non-null    float64\n",
      " 19  IPS 5_DIATAS >=3     379 non-null    float64\n",
      " 20  IPS 5_KURANG DARI 2  379 non-null    float64\n",
      " 21  IPS 6_DIATAS >=2     379 non-null    float64\n",
      " 22  IPS 6_DIATAS >=3     379 non-null    float64\n",
      " 23  IPS 6_KURANG DARI 2  379 non-null    float64\n",
      " 24  IPS 7_DIATAS >=2     379 non-null    float64\n",
      " 25  IPS 7_DIATAS >=3     379 non-null    float64\n",
      " 26  IPS 7_KURANG DARI 2  379 non-null    float64\n",
      " 27  IPS 8_DIATAS >=2     379 non-null    float64\n",
      " 28  IPS 8_DIATAS >=3     379 non-null    float64\n",
      " 29  IPS 8_KURANG DARI 2  379 non-null    float64\n",
      " 30  IPK_DIATAS >=2       379 non-null    float64\n",
      " 31  IPK_DIATAS >=3       379 non-null    float64\n",
      " 32  IPK_KURANG DARI 2    379 non-null    float64\n",
      "dtypes: float64(32), object(1)\n",
      "memory usage: 100.7+ KB\n"
     ]
    }
   ],
   "source": [
    "datasets.info()"
   ]
  },
  {
   "cell_type": "code",
   "execution_count": 270,
   "metadata": {},
   "outputs": [
    {
     "data": {
      "text/html": [
       "<div>\n",
       "<style scoped>\n",
       "    .dataframe tbody tr th:only-of-type {\n",
       "        vertical-align: middle;\n",
       "    }\n",
       "\n",
       "    .dataframe tbody tr th {\n",
       "        vertical-align: top;\n",
       "    }\n",
       "\n",
       "    .dataframe thead th {\n",
       "        text-align: right;\n",
       "    }\n",
       "</style>\n",
       "<table border=\"1\" class=\"dataframe\">\n",
       "  <thead>\n",
       "    <tr style=\"text-align: right;\">\n",
       "      <th></th>\n",
       "      <th>NAMA</th>\n",
       "      <th>JENIS KELAMIN</th>\n",
       "      <th>STATUS MAHASISWA</th>\n",
       "      <th>UMUR</th>\n",
       "      <th>STATUS NIKAH</th>\n",
       "      <th>STATUS KELULUSAN</th>\n",
       "      <th>IPS 1_DIATAS &gt;=2</th>\n",
       "      <th>IPS 1_DIATAS &gt;=3</th>\n",
       "      <th>IPS 1_KURANG DARI 2</th>\n",
       "      <th>IPS 2_DIATAS &gt;=2</th>\n",
       "      <th>...</th>\n",
       "      <th>IPS 6_KURANG DARI 2</th>\n",
       "      <th>IPS 7_DIATAS &gt;=2</th>\n",
       "      <th>IPS 7_DIATAS &gt;=3</th>\n",
       "      <th>IPS 7_KURANG DARI 2</th>\n",
       "      <th>IPS 8_DIATAS &gt;=2</th>\n",
       "      <th>IPS 8_DIATAS &gt;=3</th>\n",
       "      <th>IPS 8_KURANG DARI 2</th>\n",
       "      <th>IPK_DIATAS &gt;=2</th>\n",
       "      <th>IPK_DIATAS &gt;=3</th>\n",
       "      <th>IPK_KURANG DARI 2</th>\n",
       "    </tr>\n",
       "  </thead>\n",
       "  <tbody>\n",
       "    <tr>\n",
       "      <th>0</th>\n",
       "      <td>ANIK WIDAYANTI</td>\n",
       "      <td>1.0</td>\n",
       "      <td>0.0</td>\n",
       "      <td>28.0</td>\n",
       "      <td>0.0</td>\n",
       "      <td>1.0</td>\n",
       "      <td>1.0</td>\n",
       "      <td>0.0</td>\n",
       "      <td>0.0</td>\n",
       "      <td>1.0</td>\n",
       "      <td>...</td>\n",
       "      <td>0.0</td>\n",
       "      <td>0.0</td>\n",
       "      <td>1.0</td>\n",
       "      <td>0.0</td>\n",
       "      <td>0.0</td>\n",
       "      <td>0.0</td>\n",
       "      <td>1.0</td>\n",
       "      <td>0.0</td>\n",
       "      <td>1.0</td>\n",
       "      <td>0.0</td>\n",
       "    </tr>\n",
       "    <tr>\n",
       "      <th>1</th>\n",
       "      <td>DWI HESTYNA PRIHASTANTY</td>\n",
       "      <td>1.0</td>\n",
       "      <td>1.0</td>\n",
       "      <td>32.0</td>\n",
       "      <td>0.0</td>\n",
       "      <td>1.0</td>\n",
       "      <td>1.0</td>\n",
       "      <td>0.0</td>\n",
       "      <td>0.0</td>\n",
       "      <td>0.0</td>\n",
       "      <td>...</td>\n",
       "      <td>0.0</td>\n",
       "      <td>0.0</td>\n",
       "      <td>1.0</td>\n",
       "      <td>0.0</td>\n",
       "      <td>0.0</td>\n",
       "      <td>0.0</td>\n",
       "      <td>1.0</td>\n",
       "      <td>0.0</td>\n",
       "      <td>1.0</td>\n",
       "      <td>0.0</td>\n",
       "    </tr>\n",
       "    <tr>\n",
       "      <th>2</th>\n",
       "      <td>MURYA ARIEF BASUKI</td>\n",
       "      <td>1.0</td>\n",
       "      <td>0.0</td>\n",
       "      <td>29.0</td>\n",
       "      <td>0.0</td>\n",
       "      <td>1.0</td>\n",
       "      <td>0.0</td>\n",
       "      <td>1.0</td>\n",
       "      <td>0.0</td>\n",
       "      <td>0.0</td>\n",
       "      <td>...</td>\n",
       "      <td>0.0</td>\n",
       "      <td>0.0</td>\n",
       "      <td>1.0</td>\n",
       "      <td>0.0</td>\n",
       "      <td>0.0</td>\n",
       "      <td>0.0</td>\n",
       "      <td>1.0</td>\n",
       "      <td>0.0</td>\n",
       "      <td>1.0</td>\n",
       "      <td>0.0</td>\n",
       "    </tr>\n",
       "    <tr>\n",
       "      <th>3</th>\n",
       "      <td>NANIK SUSANTI</td>\n",
       "      <td>1.0</td>\n",
       "      <td>1.0</td>\n",
       "      <td>27.0</td>\n",
       "      <td>0.0</td>\n",
       "      <td>1.0</td>\n",
       "      <td>0.0</td>\n",
       "      <td>1.0</td>\n",
       "      <td>0.0</td>\n",
       "      <td>0.0</td>\n",
       "      <td>...</td>\n",
       "      <td>0.0</td>\n",
       "      <td>0.0</td>\n",
       "      <td>1.0</td>\n",
       "      <td>0.0</td>\n",
       "      <td>0.0</td>\n",
       "      <td>0.0</td>\n",
       "      <td>1.0</td>\n",
       "      <td>0.0</td>\n",
       "      <td>1.0</td>\n",
       "      <td>0.0</td>\n",
       "    </tr>\n",
       "    <tr>\n",
       "      <th>4</th>\n",
       "      <td>RIFKA ISTIQFARINA</td>\n",
       "      <td>1.0</td>\n",
       "      <td>0.0</td>\n",
       "      <td>29.0</td>\n",
       "      <td>0.0</td>\n",
       "      <td>1.0</td>\n",
       "      <td>1.0</td>\n",
       "      <td>0.0</td>\n",
       "      <td>0.0</td>\n",
       "      <td>1.0</td>\n",
       "      <td>...</td>\n",
       "      <td>0.0</td>\n",
       "      <td>0.0</td>\n",
       "      <td>1.0</td>\n",
       "      <td>0.0</td>\n",
       "      <td>0.0</td>\n",
       "      <td>0.0</td>\n",
       "      <td>1.0</td>\n",
       "      <td>0.0</td>\n",
       "      <td>1.0</td>\n",
       "      <td>0.0</td>\n",
       "    </tr>\n",
       "    <tr>\n",
       "      <th>...</th>\n",
       "      <td>...</td>\n",
       "      <td>...</td>\n",
       "      <td>...</td>\n",
       "      <td>...</td>\n",
       "      <td>...</td>\n",
       "      <td>...</td>\n",
       "      <td>...</td>\n",
       "      <td>...</td>\n",
       "      <td>...</td>\n",
       "      <td>...</td>\n",
       "      <td>...</td>\n",
       "      <td>...</td>\n",
       "      <td>...</td>\n",
       "      <td>...</td>\n",
       "      <td>...</td>\n",
       "      <td>...</td>\n",
       "      <td>...</td>\n",
       "      <td>...</td>\n",
       "      <td>...</td>\n",
       "      <td>...</td>\n",
       "      <td>...</td>\n",
       "    </tr>\n",
       "    <tr>\n",
       "      <th>260</th>\n",
       "      <td>NaN</td>\n",
       "      <td>NaN</td>\n",
       "      <td>NaN</td>\n",
       "      <td>NaN</td>\n",
       "      <td>NaN</td>\n",
       "      <td>NaN</td>\n",
       "      <td>1.0</td>\n",
       "      <td>0.0</td>\n",
       "      <td>0.0</td>\n",
       "      <td>0.0</td>\n",
       "      <td>...</td>\n",
       "      <td>0.0</td>\n",
       "      <td>1.0</td>\n",
       "      <td>0.0</td>\n",
       "      <td>0.0</td>\n",
       "      <td>1.0</td>\n",
       "      <td>0.0</td>\n",
       "      <td>0.0</td>\n",
       "      <td>0.0</td>\n",
       "      <td>1.0</td>\n",
       "      <td>0.0</td>\n",
       "    </tr>\n",
       "    <tr>\n",
       "      <th>271</th>\n",
       "      <td>NaN</td>\n",
       "      <td>NaN</td>\n",
       "      <td>NaN</td>\n",
       "      <td>NaN</td>\n",
       "      <td>NaN</td>\n",
       "      <td>NaN</td>\n",
       "      <td>0.0</td>\n",
       "      <td>1.0</td>\n",
       "      <td>0.0</td>\n",
       "      <td>0.0</td>\n",
       "      <td>...</td>\n",
       "      <td>0.0</td>\n",
       "      <td>0.0</td>\n",
       "      <td>1.0</td>\n",
       "      <td>0.0</td>\n",
       "      <td>0.0</td>\n",
       "      <td>1.0</td>\n",
       "      <td>0.0</td>\n",
       "      <td>0.0</td>\n",
       "      <td>1.0</td>\n",
       "      <td>0.0</td>\n",
       "    </tr>\n",
       "    <tr>\n",
       "      <th>333</th>\n",
       "      <td>NaN</td>\n",
       "      <td>NaN</td>\n",
       "      <td>NaN</td>\n",
       "      <td>NaN</td>\n",
       "      <td>NaN</td>\n",
       "      <td>NaN</td>\n",
       "      <td>0.0</td>\n",
       "      <td>1.0</td>\n",
       "      <td>0.0</td>\n",
       "      <td>0.0</td>\n",
       "      <td>...</td>\n",
       "      <td>0.0</td>\n",
       "      <td>0.0</td>\n",
       "      <td>1.0</td>\n",
       "      <td>0.0</td>\n",
       "      <td>1.0</td>\n",
       "      <td>0.0</td>\n",
       "      <td>0.0</td>\n",
       "      <td>1.0</td>\n",
       "      <td>0.0</td>\n",
       "      <td>0.0</td>\n",
       "    </tr>\n",
       "    <tr>\n",
       "      <th>336</th>\n",
       "      <td>NaN</td>\n",
       "      <td>NaN</td>\n",
       "      <td>NaN</td>\n",
       "      <td>NaN</td>\n",
       "      <td>NaN</td>\n",
       "      <td>NaN</td>\n",
       "      <td>0.0</td>\n",
       "      <td>1.0</td>\n",
       "      <td>0.0</td>\n",
       "      <td>0.0</td>\n",
       "      <td>...</td>\n",
       "      <td>0.0</td>\n",
       "      <td>1.0</td>\n",
       "      <td>0.0</td>\n",
       "      <td>0.0</td>\n",
       "      <td>1.0</td>\n",
       "      <td>0.0</td>\n",
       "      <td>0.0</td>\n",
       "      <td>0.0</td>\n",
       "      <td>1.0</td>\n",
       "      <td>0.0</td>\n",
       "    </tr>\n",
       "    <tr>\n",
       "      <th>346</th>\n",
       "      <td>NaN</td>\n",
       "      <td>NaN</td>\n",
       "      <td>NaN</td>\n",
       "      <td>NaN</td>\n",
       "      <td>NaN</td>\n",
       "      <td>NaN</td>\n",
       "      <td>1.0</td>\n",
       "      <td>0.0</td>\n",
       "      <td>0.0</td>\n",
       "      <td>1.0</td>\n",
       "      <td>...</td>\n",
       "      <td>0.0</td>\n",
       "      <td>1.0</td>\n",
       "      <td>0.0</td>\n",
       "      <td>0.0</td>\n",
       "      <td>0.0</td>\n",
       "      <td>0.0</td>\n",
       "      <td>1.0</td>\n",
       "      <td>0.0</td>\n",
       "      <td>0.0</td>\n",
       "      <td>1.0</td>\n",
       "    </tr>\n",
       "  </tbody>\n",
       "</table>\n",
       "<p>379 rows × 33 columns</p>\n",
       "</div>"
      ],
      "text/plain": [
       "                        NAMA  JENIS KELAMIN  STATUS MAHASISWA  UMUR  \\\n",
       "0             ANIK WIDAYANTI            1.0               0.0  28.0   \n",
       "1    DWI HESTYNA PRIHASTANTY            1.0               1.0  32.0   \n",
       "2         MURYA ARIEF BASUKI            1.0               0.0  29.0   \n",
       "3              NANIK SUSANTI            1.0               1.0  27.0   \n",
       "4          RIFKA ISTIQFARINA            1.0               0.0  29.0   \n",
       "..                       ...            ...               ...   ...   \n",
       "260                      NaN            NaN               NaN   NaN   \n",
       "271                      NaN            NaN               NaN   NaN   \n",
       "333                      NaN            NaN               NaN   NaN   \n",
       "336                      NaN            NaN               NaN   NaN   \n",
       "346                      NaN            NaN               NaN   NaN   \n",
       "\n",
       "     STATUS NIKAH  STATUS KELULUSAN  IPS 1_DIATAS >=2  IPS 1_DIATAS >=3  \\\n",
       "0             0.0               1.0               1.0               0.0   \n",
       "1             0.0               1.0               1.0               0.0   \n",
       "2             0.0               1.0               0.0               1.0   \n",
       "3             0.0               1.0               0.0               1.0   \n",
       "4             0.0               1.0               1.0               0.0   \n",
       "..            ...               ...               ...               ...   \n",
       "260           NaN               NaN               1.0               0.0   \n",
       "271           NaN               NaN               0.0               1.0   \n",
       "333           NaN               NaN               0.0               1.0   \n",
       "336           NaN               NaN               0.0               1.0   \n",
       "346           NaN               NaN               1.0               0.0   \n",
       "\n",
       "     IPS 1_KURANG DARI 2  IPS 2_DIATAS >=2  ...  IPS 6_KURANG DARI 2  \\\n",
       "0                    0.0               1.0  ...                  0.0   \n",
       "1                    0.0               0.0  ...                  0.0   \n",
       "2                    0.0               0.0  ...                  0.0   \n",
       "3                    0.0               0.0  ...                  0.0   \n",
       "4                    0.0               1.0  ...                  0.0   \n",
       "..                   ...               ...  ...                  ...   \n",
       "260                  0.0               0.0  ...                  0.0   \n",
       "271                  0.0               0.0  ...                  0.0   \n",
       "333                  0.0               0.0  ...                  0.0   \n",
       "336                  0.0               0.0  ...                  0.0   \n",
       "346                  0.0               1.0  ...                  0.0   \n",
       "\n",
       "     IPS 7_DIATAS >=2  IPS 7_DIATAS >=3  IPS 7_KURANG DARI 2  \\\n",
       "0                 0.0               1.0                  0.0   \n",
       "1                 0.0               1.0                  0.0   \n",
       "2                 0.0               1.0                  0.0   \n",
       "3                 0.0               1.0                  0.0   \n",
       "4                 0.0               1.0                  0.0   \n",
       "..                ...               ...                  ...   \n",
       "260               1.0               0.0                  0.0   \n",
       "271               0.0               1.0                  0.0   \n",
       "333               0.0               1.0                  0.0   \n",
       "336               1.0               0.0                  0.0   \n",
       "346               1.0               0.0                  0.0   \n",
       "\n",
       "     IPS 8_DIATAS >=2  IPS 8_DIATAS >=3  IPS 8_KURANG DARI 2  IPK_DIATAS >=2  \\\n",
       "0                 0.0               0.0                  1.0             0.0   \n",
       "1                 0.0               0.0                  1.0             0.0   \n",
       "2                 0.0               0.0                  1.0             0.0   \n",
       "3                 0.0               0.0                  1.0             0.0   \n",
       "4                 0.0               0.0                  1.0             0.0   \n",
       "..                ...               ...                  ...             ...   \n",
       "260               1.0               0.0                  0.0             0.0   \n",
       "271               0.0               1.0                  0.0             0.0   \n",
       "333               1.0               0.0                  0.0             1.0   \n",
       "336               1.0               0.0                  0.0             0.0   \n",
       "346               0.0               0.0                  1.0             0.0   \n",
       "\n",
       "     IPK_DIATAS >=3  IPK_KURANG DARI 2  \n",
       "0               1.0                0.0  \n",
       "1               1.0                0.0  \n",
       "2               1.0                0.0  \n",
       "3               1.0                0.0  \n",
       "4               1.0                0.0  \n",
       "..              ...                ...  \n",
       "260             1.0                0.0  \n",
       "271             1.0                0.0  \n",
       "333             0.0                0.0  \n",
       "336             1.0                0.0  \n",
       "346             0.0                1.0  \n",
       "\n",
       "[379 rows x 33 columns]"
      ]
     },
     "execution_count": 270,
     "metadata": {},
     "output_type": "execute_result"
    }
   ],
   "source": [
    "datasets"
   ]
  },
  {
   "cell_type": "code",
   "execution_count": 271,
   "metadata": {},
   "outputs": [],
   "source": [
    "datasets.to_csv('datasets-KELULUSAN.csv', index=False)"
   ]
  },
  {
   "cell_type": "markdown",
   "metadata": {},
   "source": [
    "melanjutkan dengan template Data Processing "
   ]
  },
  {
   "cell_type": "code",
   "execution_count": 272,
   "metadata": {},
   "outputs": [],
   "source": [
    "import numpy as np\n",
    "import  pandas as pd\n",
    "import matplotlib.pyplot as  plt\n",
    "dataset = pd.read_csv('datasets-jadi.csv')\n",
    "X = dataset.iloc[:, 6:].values\n",
    "y = dataset.iloc[:, 5].values"
   ]
  },
  {
   "cell_type": "code",
   "execution_count": 273,
   "metadata": {},
   "outputs": [
    {
     "name": "stdout",
     "output_type": "stream",
     "text": [
      "[[1. 0. 0. ... 0. 0. 1.]\n",
      " [1. 0. 1. ... 0. 1. 0.]\n",
      " [1. 0. 0. ... 0. 1. 0.]\n",
      " ...\n",
      " [1. 0. 0. ... 0. 1. 0.]\n",
      " [1. 0. 0. ... 0. 1. 0.]\n",
      " [1. 0. 0. ... 0. 1. 0.]]\n"
     ]
    }
   ],
   "source": [
    "print(X)"
   ]
  },
  {
   "cell_type": "code",
   "execution_count": 274,
   "metadata": {},
   "outputs": [
    {
     "name": "stdout",
     "output_type": "stream",
     "text": [
      "[0 1 0 0 0 0 0 0 0 0 0 0 0 0 0 0 0 0 0 0 0 0 0 0 0 0 0 0 0 0 0 0 0 0 0 0 1\n",
      " 0 1 0 0 0 0 0 0 0 0 0 0 0 0 0 0 0 0 0 0 0 0 0 0 0 0 0 1 0 0 0 0 0 0 0 0 0\n",
      " 0 0 0 0 0 0 0 0 0 0 0 0 1 0 0 0 0 0 0 0 0 0 0 0 0 0 0 0 0 0 0 0 0 0 0 1 0\n",
      " 0 0 0 0 0 0 0 0 0 0 0 0 0 0 1 1 0 0 1 0 0 0 0 1 0 0 0 0 0 0 0 0 0 0 0 0 0\n",
      " 0 0 0 0 0 0 0 0 0 0 1 0 0 0 0 0 0 0 0 0 0 0 0 0 0 0 1 0 0 0 0 0 0 0 0 0 0\n",
      " 0 0 0 0 0 0 0 0 0 0 0 0 0 0 0 0 0 0 0 0 0 0 0 0 0 0 0 0 0 0 0 0 0 0 0 0 0\n",
      " 0 0 0 1 0 0 0 0 0 0 0 0 0 0 0 0 0 0 0 0 0 0 0 0 0 1 0 0 0 0 0 0 0 0 0 0 0\n",
      " 0 0 0 0 0 0 0 0 0 0 0 0 0 0 0 0 0 0 0 0 0 0 0 0 0 0 0 0 0 0 0 0 0 0 0 0 0\n",
      " 0 0 1 0 0 1 0 0 0 1 0 0 0 0 0 0 0 0 0 0 0 0 1 0 0 0 0 0 0 0 0 0 0 1 0 0 0\n",
      " 0 0 0 0 1 1 0 0 0 1 0 0 0 0 0 1 1 0 0 0 1 0 0 0 1 0 0 0 0 1 0 0 0 0 0 0 0\n",
      " 0 0 0 0 0 0 0 0 0 0 0 0 0 0 0 0 0 0 0 0 0 1 0 0 0 0 0 0 0 0 0 0 0 0 1 0 0\n",
      " 0 0 0 0 1 0 0 0 0 0 0 0 0 0 0 0 0 0 0 0 0 0 0 0 0 0 0 0 0 0 1 0 0 0 0 0 0\n",
      " 0 0 0 0 0 0 0 0 0 0 0 0 0 0 0 0 0 0 0 0 0 0 1 0 0 0 0 0 1 0 0 0 0 0 0 0 0\n",
      " 0 0 0 0 0 0 0 0 1 0 0 0 0 0 0 1 0 0 0 0 1 0 0 0 0 0 0 0 0 0 0 0 0 0 1 0 0\n",
      " 1 0 0 0 0 0 0 0 0 0 0 0 0 0 0 0 0 1 0 0 0 0 0 0 0 0 0 0 0 0 0 0 0 0 0 0 1\n",
      " 1 0 0 0 0 0]\n"
     ]
    }
   ],
   "source": [
    "print(y)"
   ]
  },
  {
   "cell_type": "markdown",
   "metadata": {},
   "source": [
    "membagi dataset ke dalam training set dan test set"
   ]
  },
  {
   "cell_type": "code",
   "execution_count": 275,
   "metadata": {},
   "outputs": [],
   "source": [
    "from sklearn.model_selection import train_test_split\n",
    "X_train, X_test, y_train, y_test = train_test_split(X,y,test_size=0.2, random_state=1)"
   ]
  },
  {
   "cell_type": "code",
   "execution_count": 276,
   "metadata": {},
   "outputs": [
    {
     "name": "stdout",
     "output_type": "stream",
     "text": [
      "[[1. 0. 0. ... 0. 1. 0.]\n",
      " [1. 0. 0. ... 0. 1. 0.]\n",
      " [1. 0. 0. ... 0. 1. 0.]\n",
      " ...\n",
      " [1. 0. 0. ... 0. 1. 0.]\n",
      " [1. 0. 0. ... 0. 1. 0.]\n",
      " [0. 1. 0. ... 0. 1. 0.]]\n"
     ]
    }
   ],
   "source": [
    "print(X_train)"
   ]
  },
  {
   "cell_type": "code",
   "execution_count": 277,
   "metadata": {},
   "outputs": [
    {
     "name": "stdout",
     "output_type": "stream",
     "text": [
      "[[1. 0. 0. ... 0. 1. 0.]\n",
      " [1. 0. 0. ... 0. 1. 0.]\n",
      " [1. 0. 0. ... 0. 1. 0.]\n",
      " ...\n",
      " [1. 0. 0. ... 0. 1. 0.]\n",
      " [1. 0. 0. ... 0. 1. 0.]\n",
      " [1. 0. 0. ... 0. 1. 0.]]\n"
     ]
    }
   ],
   "source": [
    "print(X_test)"
   ]
  },
  {
   "cell_type": "code",
   "execution_count": 278,
   "metadata": {},
   "outputs": [
    {
     "name": "stdout",
     "output_type": "stream",
     "text": [
      "[0 0 0 0 1 0 0 0 0 0 0 0 0 0 0 1 0 0 0 0 1 0 0 0 0 0 0 0 0 0 1 0 1 0 0 0 0\n",
      " 0 0 0 0 0 0 0 0 0 0 0 0 0 0 0 0 0 0 0 0 1 0 0 0 0 0 0 0 0 0 0 0 0 0 0 0 0\n",
      " 0 0 0 0 0 1 0 0 0 0 0 0 0 0 0 0 0 0 0 0 0 0 0 0 0 1 0 0 0 0 0 0 0 0 0 0 0\n",
      " 0 0 0 1 0 0 1 1 0 0 0 0 0 1 0 0 0 0 0 0 0 0 0 0 0 0 0 0 1 0 0 0 1 0 0 0 0\n",
      " 0 0 0 0 1 0 0 0 0 0 0 1 0 0 0 0 0 0 0 0 0 1 0 0 0 0 0 0 0 0 0 0 0 0 0 0 0\n",
      " 0 0 0 0 0 0 0 0 1 1 0 0 0 0 0 0 0 0 0 0 0 0 0 0 0 0 0 0 0 0 0 0 1 0 0 0 0\n",
      " 0 0 0 0 0 0 0 0 0 0 0 1 0 0 0 0 0 0 0 0 0 0 0 0 1 0 0 0 0 0 0 0 0 0 0 0 0\n",
      " 0 0 0 0 0 0 0 0 0 0 0 0 0 0 0 0 1 0 0 0 0 0 0 0 0 0 0 0 0 0 0 0 0 0 0 0 0\n",
      " 0 0 0 0 0 0 0 0 0 0 0 0 0 0 0 0 0 0 1 0 1 0 0 0 0 0 0 0 0 0 0 0 1 0 0 0 0\n",
      " 0 0 0 0 1 0 0 1 0 0 0 0 0 0 0 0 0 0 0 0 0 0 0 0 0 0 0 0 0 0 0 0 0 0 0 0 0\n",
      " 1 0 0 0 0 0 0 0 0 0 0 0 0 0 0 0 0 0 0 0 1 0 0 0 0 0 0 0 1 0 0 0 0 1 0 1 0\n",
      " 0 0 0 0 1 1 0 0 0 0 0 0 0 0 0 0 0 0 0 0 0 1 0 0 0 0 0 0 0 1 0 0 0 0 0 0 1\n",
      " 0 0 0 0]\n"
     ]
    }
   ],
   "source": [
    "print(y_train)"
   ]
  },
  {
   "cell_type": "code",
   "execution_count": 279,
   "metadata": {},
   "outputs": [
    {
     "name": "stdout",
     "output_type": "stream",
     "text": [
      "[0 0 0 0 0 0 0 0 0 0 0 0 0 0 0 0 0 0 0 0 0 0 0 0 0 0 0 0 0 0 0 0 0 1 0 0 0\n",
      " 0 0 0 0 0 0 0 0 0 0 0 0 0 0 0 0 0 0 0 0 0 0 0 0 0 0 0 0 0 0 0 0 0 0 0 0 0\n",
      " 0 0 0 0 0 0 0 0 1 0 0 0 0 0 0 0 0 0 0 0 0 0 0 0 0 0 0 0 0 0 0 0 0 0 1 0 0\n",
      " 0 0]\n"
     ]
    }
   ],
   "source": [
    "print(y_test)"
   ]
  },
  {
   "cell_type": "code",
   "execution_count": 280,
   "metadata": {},
   "outputs": [
    {
     "name": "stdout",
     "output_type": "stream",
     "text": [
      "[[ 0.34235505 -0.34235505 -0.28198949 ... -0.0949158   0.08210708\n",
      "  -0.08210708]\n",
      " [ 0.34235505 -0.34235505 -0.28198949 ... -0.0949158   0.08210708\n",
      "  -0.08210708]\n",
      " [ 0.34235505 -0.34235505 -0.28198949 ... -0.0949158   0.08210708\n",
      "  -0.08210708]\n",
      " ...\n",
      " [ 0.34235505 -0.34235505 -0.28198949 ... -0.0949158   0.08210708\n",
      "  -0.08210708]\n",
      " [ 0.34235505 -0.34235505 -0.28198949 ... -0.0949158   0.08210708\n",
      "  -0.08210708]\n",
      " [-2.92094418  2.92094418 -0.28198949 ... -0.0949158   0.08210708\n",
      "  -0.08210708]]\n"
     ]
    }
   ],
   "source": [
    "from sklearn.preprocessing import StandardScaler\n",
    "sc = StandardScaler()\n",
    "X_train = sc.fit_transform(X_train)\n",
    "X_test  = sc.transform(X_test)\n",
    "print(X_train)"
   ]
  }
 ],
 "metadata": {
  "kernelspec": {
   "display_name": "Python 3",
   "language": "python",
   "name": "python3"
  },
  "language_info": {
   "codemirror_mode": {
    "name": "ipython",
    "version": 3
   },
   "file_extension": ".py",
   "mimetype": "text/x-python",
   "name": "python",
   "nbconvert_exporter": "python",
   "pygments_lexer": "ipython3",
   "version": "3.12.5"
  }
 },
 "nbformat": 4,
 "nbformat_minor": 2
}
